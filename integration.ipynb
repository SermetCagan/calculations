{
 "cells": [
  {
   "cell_type": "code",
   "execution_count": 2,
   "metadata": {},
   "outputs": [],
   "source": [
    "from __future__ import print_function\n",
    "from IPython.display import display, clear_output\n",
    "import sys, os\n",
    "import time\n",
    "import math\n",
    "import getdist.plots as gplot\n",
    "from sympy import *\n",
    "from sympy.solvers import solve\n",
    "from scipy import optimize\n",
    "from scipy.constants import physical_constants\n",
    "from sympy.physics.mechanics import dynamicsymbols, init_vprinting\n",
    "from matplotlib import pyplot as plt\n",
    "import scipy.integrate as integrate\n",
    "import numpy as np\n",
    "\n",
    "init_vprinting()"
   ]
  },
  {
   "cell_type": "markdown",
   "metadata": {},
   "source": [
    "# Symbol definitions"
   ]
  },
  {
   "cell_type": "code",
   "execution_count": 3,
   "metadata": {},
   "outputs": [],
   "source": [
    "phi_ = Symbol('phi')\n",
    "Phi_ = Function('\\Phi')(phi_)\n",
    "xi_ = Symbol('xi')\n",
    "m_ = Symbol('m')\n",
    "Mp_ = Symbol('M_{p}')"
   ]
  },
  {
   "cell_type": "markdown",
   "metadata": {},
   "source": [
    "# Potentials"
   ]
  },
  {
   "cell_type": "code",
   "execution_count": 4,
   "metadata": {},
   "outputs": [],
   "source": [
    "U = 0.5*m_**2*phi_**2\n",
    "Om = 1 + xi_*phi_**2/Mp_**2\n",
    "dPdp2 = 1/Om + 3/2 * Mp_**2 * (diff(Om,phi_)/Om)**2\n",
    "dPdp = sqrt(1/Om + 3/2 * Mp_**2 * (diff(Om,phi_)/Om)**2)\n",
    "V = U/Om**2\n",
    "V_prime = diff(V,phi_)*(dPdp**(-1))\n",
    "V_pprime = diff(V_prime, phi_) * (dPdp**(-1))"
   ]
  },
  {
   "cell_type": "markdown",
   "metadata": {},
   "source": [
    "# Slow-roll parameter"
   ]
  },
  {
   "cell_type": "code",
   "execution_count": 5,
   "metadata": {},
   "outputs": [],
   "source": [
    "eps = Mp_**2/2 *(V_prime/V)**2\n",
    "eta = Mp_**2*(V_pprime/V)"
   ]
  },
  {
   "cell_type": "markdown",
   "metadata": {},
   "source": [
    "$$ \\epsilon = \\frac{2\\left(M_{p}^{2} - \\phi^{2}\\xi\\right)^{2}}{\\phi^{2}\\left(M_{p}^{2} + 6\\phi^{2}\\xi^{2} + \\phi^{2}\\xi\\right)}$$\n",
    "\n",
    "$$ \\eta = \\frac{\\left(2M_{p}^{6} - 12M_{p}^{4} \\phi^{2} \\xi - 72M_{p}^{2} \\phi^{4} \\xi^{3} - 10M_{p}^{2} \\phi^{4} \\xi^{2} + 24\\phi^{6} \\xi^{4} + 4\\phi^{6} \\xi^{3}\\right)}{\\phi^{2} \\left(1M_{p}^{4} + 12M_{p}^{2} \\phi^{2} \\xi^{2} + 2M_{p}^{2} \\phi^{2} \\xi + 36\\phi^{4} \\xi^{4} + 12\\phi^{4} \\xi^{3} + \\phi^{4} \\xi^{2}\\right)}$$"
   ]
  },
  {
   "cell_type": "markdown",
   "metadata": {},
   "source": [
    "# Scalar field at the end of inflation ($\\epsilon = 1$)\n",
    "$$\\phi_{f} = \\sqrt{\\frac{0.5 M_{p}^{2} \\left(\\left(4\\xi + 1\\right) \\left(12\\xi + 1\\right)\\right)^{0.5}}{\\xi \\left(4\\xi + 1\\right)} - \\frac{0.5 M_{p}^{2}}{\\xi}}$$\n"
   ]
  },
  {
   "cell_type": "code",
   "execution_count": 6,
   "metadata": {},
   "outputs": [
    {
     "data": {
      "image/png": "[encoded data removed]",
      "text/latex": [
       "$$\\sqrt{\\frac{0.5 M_{p}^{2} \\left(\\left(4.0 \\xi + 1.0\\right) \\left(12.0 \\xi + 1.0\\right)\\right)^{0.5}}{\\xi \\left(4.0 \\xi + 1.0\\right)} - \\frac{0.5 M_{p}^{2}}{\\xi}}$$"
      ],
      "text/plain": [
       "     ___________________________________________________________\n",
       "    ╱          2                               0.5            2 \n",
       "   ╱  0.5⋅M_{p} ⋅((4.0⋅ξ + 1.0)⋅(12.0⋅ξ + 1.0))      0.5⋅M_{p}  \n",
       "  ╱   ──────────────────────────────────────────── - ────────── \n",
       "╲╱                  ξ⋅(4.0⋅ξ + 1.0)                      ξ      "
      ]
     },
     "execution_count": 6,
     "metadata": {},
     "output_type": "execute_result"
    }
   ],
   "source": [
    "phi_f = solve(eps-1, phi_)\n",
    "phi_f[3]"
   ]
  },
  {
   "cell_type": "markdown",
   "metadata": {},
   "source": [
    "# Integration"
   ]
  },
  {
   "cell_type": "markdown",
   "metadata": {},
   "source": [
    "# Number of e-folding integral"
   ]
  },
  {
   "cell_type": "code",
   "execution_count": 7,
   "metadata": {},
   "outputs": [
    {
     "data": {
      "image/png": "[encoded data removed]",
      "text/latex": [
       "$$\\frac{0.5 \\sqrt{\\frac{M_{p}^{2}}{\\left(M_{p}^{2} + \\phi^{2} \\xi\\right)^{2}} \\left(M_{p}^{2} + 6.0 \\phi^{2} \\xi^{2} + \\phi^{2} \\xi\\right)}}{M_{p} \\sqrt{\\frac{\\left(M_{p}^{2} - \\phi^{2} \\xi\\right)^{2}}{\\phi^{2} \\left(M_{p}^{2} + 6.0 \\phi^{2} \\xi^{2} + \\phi^{2} \\xi\\right)}}}$$"
      ],
      "text/plain": [
       "           ____________________________________\n",
       "          ╱      2 ⎛     2        2  2    2  ⎞ \n",
       "         ╱  M_{p} ⋅⎝M_{p}  + 6.0⋅φ ⋅ξ  + φ ⋅ξ⎠ \n",
       "0.5⋅    ╱   ────────────────────────────────── \n",
       "       ╱                            2          \n",
       "      ╱              ⎛     2    2  ⎞           \n",
       "    ╲╱               ⎝M_{p}  + φ ⋅ξ⎠           \n",
       "───────────────────────────────────────────────\n",
       "              ________________________________ \n",
       "             ╱                       2         \n",
       "            ╱         ⎛     2    2  ⎞          \n",
       "           ╱          ⎝M_{p}  - φ ⋅ξ⎠          \n",
       " M_{p}⋅   ╱    ──────────────────────────────  \n",
       "         ╱      2 ⎛     2        2  2    2  ⎞  \n",
       "       ╲╱      φ ⋅⎝M_{p}  + 6.0⋅φ ⋅ξ  + φ ⋅ξ⎠  "
      ]
     },
     "execution_count": 7,
     "metadata": {},
     "output_type": "execute_result"
    }
   ],
   "source": [
    "simplify(dPdp/(Mp_ * sqrt(2*eps)))"
   ]
  },
  {
   "cell_type": "code",
   "execution_count": 9,
   "metadata": {},
   "outputs": [],
   "source": [
    "xi_ = np.linspace(-0.002,0.006,1000)\n",
    "Mp = physical_constants['Planck mass'][0]\n",
    "Mp = 4.341e-9\n",
    "\n",
    "def integrand_(phi, xi):\n",
    "    return 0.5*phi*(Mp**2 + 6*phi**2*xi**2 + phi**2*xi)/(Mp**4 - phi**4*xi**2)\n",
    "\n",
    "def phi_f(xi):\n",
    "    return np.sqrt(Mp**2*(np.sqrt(48*(xi**2) + 16*xi + 1) -1 -4*xi)/(8*(xi**2) + 2*xi))"
   ]
  },
  {
   "cell_type": "code",
   "execution_count": null,
   "metadata": {},
   "outputs": [],
   "source": [
    "xi_ = np.linspace(-0.002,0.005,1000)\n",
    "delta_phi = 1e-10\n",
    "tol = 1e-1\n",
    "N = 60\n",
    "number_of_trapz = 10000\n",
    "\n",
    "phi_i_60 = []\n",
    "phi_i_50 = []\n",
    "\n",
    "progress = 0\n",
    "for xi in xi_:\n",
    "    iterator = 1\n",
    "    integral_result = 0\n",
    "    while abs(N-integral_result) >= tol:\n",
    "        limits = np.linspace(phi_f(xi), phi_f(xi) + iterator*delta_phi, number_of_trapz)\n",
    "        integral_result = np.trapz(integrand_(limits, xi), limits)\n",
    "        iterator += 1\n",
    "    progress += 1\n",
    "    print(progress, end=' ')\n",
    "    phi_i_60.append(phi_f(xi) + (iterator-1)*delta_phi)\n",
    "\n",
    "print(60*'*')\n",
    "N = 50\n",
    "progress = 0\n",
    "for xi in xi_:\n",
    "    iterator = 1\n",
    "    integral_result = 0\n",
    "    while abs(N-integral_result) >= tol:\n",
    "        limits = np.linspace(phi_f(xi), phi_f(xi) + iterator*delta_phi, number_of_trapz)\n",
    "        integral_result = np.trapz(integrand_(limits, xi), limits)\n",
    "        iterator += 1\n",
    "    progress += 1\n",
    "    print(progress, end=' ')\n",
    "    phi_i_50.append(phi_f(xi) + (iterator-1)*delta_phi)    "
   ]
  },
  {
   "cell_type": "markdown",
   "metadata": {},
   "source": [
    "# Slow-roll parameter collection"
   ]
  },
  {
   "cell_type": "code",
   "execution_count": 57,
   "metadata": {},
   "outputs": [],
   "source": [
    "def epsi(phi, xi):\n",
    "    return 2.0*(Mp**2 - phi**2*xi)**2/(phi**2*(Mp**2 + 6.0*phi**2*xi**2 + phi**2*xi))\n",
    "def etaa(phi, xi):\n",
    "    return (2.0*Mp**6 - 12.0*Mp**4*phi**2*xi - 72.0*Mp**2*phi**4*xi**3 - 10.0*Mp**2*phi**4*xi**2 + 24.0*phi**6*xi**4 + \n",
    "            4.0*phi**6*xi**3)/(phi**2*(1.0*Mp**4 + 12.0*Mp**2*phi**2*xi**2 + 2.0*Mp**2*phi**2*xi + 36.0*phi**4*xi**4 + \n",
    "                                       12.0*phi**4*xi**3 + 1.0*phi**4*xi**2))\n",
    "\n",
    "_eta_60 = []\n",
    "_eps_60 = []\n",
    "_eta_50 = []\n",
    "_eps_50 = []\n",
    "\n",
    "for i in range(len(phi_i_60)):\n",
    "    _eta_60.append(etaa(phi_i_60[i], xi_[i]))\n",
    "    _eps_60.append(epsi(phi_i_60[i], xi_[i]))\n",
    "    _eta_50.append(etaa(phi_i_50[i], xi_[i]))\n",
    "    _eps_50.append(epsi(phi_i_50[i], xi_[i]))\n",
    "\n",
    "ns_60 = []\n",
    "r_60 = []\n",
    "ns_50 = []\n",
    "r_50 = []\n",
    "for i in range(len(phi_i_60)):\n",
    "    ns_60.append(1 + 2*_eta_60[i] - 6*_eps_60[i])\n",
    "    r_60.append(16*_eps_60[i])\n",
    "    ns_50.append(1 + 2*_eta_50[i] - 6*_eps_50[i])\n",
    "    r_50.append(16*_eps_50[i])    "
   ]
  },
  {
   "cell_type": "markdown",
   "metadata": {},
   "source": [
    "# Plotting"
   ]
  },
  {
   "cell_type": "code",
   "execution_count": 60,
   "metadata": {},
   "outputs": [
    {
     "name": "stdout",
     "output_type": "stream",
     "text": [
      "Error in calculations comparing with minimal coupling \n",
      " \n",
      "--------------------------------------------------\n",
      "\n",
      "60 e-fold error = 0.0003284500522393296%\n",
      "--------------------------------------------------\n",
      "\n",
      "50 e-fold error = 0.004350307461561917%\n"
     ]
    }
   ],
   "source": [
    "%matplotlib qt\n",
    "\n",
    "g = gplot.getSinglePlotter(chain_dir=[r'/Volumes/Newton/planck/2018/COM_CosmoParams_fullGrid_R3.00/base_r/plikHM_TT_lowl_lowE',\n",
    "                                      r'/Volumes/Newton/planck/2018/COM_CosmoParams_fullGrid_R3.00/base_r/plikHM_TTTEEE_lowl_lowE',\n",
    "                                      r'/Volumes/Newton/planck/2018/COM_CosmoParams_fullGrid_R3.00/base_r/CamSpecHM_TTTEEE_lowl_lowE_lensing',\n",
    "                                      r'/Volumes/Newton/planck/2015/COM_CosmoParams_fullGrid_R2.00/base_r/plikHM_TT_lowTEB'])\n",
    "g.settings.legend_frame = False\n",
    "g.settings.legend_loc = 'best'\n",
    "g.settings.figure_legend_frame = False\n",
    "\n",
    "roots = []\n",
    "roots.append('base_r_plikHM_TT_lowl_lowE')\n",
    "roots.append('base_r_plikHM_TT_lowl_lowE_post_BAO')\n",
    "roots.append('base_r_plikHM_TTTEEE_lowl_lowE')\n",
    "roots.append('base_r_CamSpecHM_TTTEEE_lowl_lowE_lensing')\n",
    "roots.append('base_r_plikHM_TT_lowTEB')\n",
    "roots.append('base_r_plikHM_TT_lowTEB_post_BAO')\n",
    "pairs = [('ns','r')]\n",
    "\n",
    "g.plots_2d(roots, param_pairs=pairs, legend_labels=[], filled=True, shaded=False)\n",
    "g.add_line([0.96694214876], [0.132231404959], label=['N = 60'], ls='None', zorder=3, color='red', marker='o', markeredgewidth=7)\n",
    "g.add_line([0.960396039604], [0.158415841584], label=['N = 50'], ls='None', zorder=3, color='red', marker='o', markeredgewidth=2)\n",
    "\n",
    "leg1 = g.add_legend(['Planck TT','Planck TT + BAO','Planck TTTEEE','CamSpec TTTEEE + Lensing','Planck 2015 TT', 'Planck 2015 TT + BAO'], colored_text=True, fontsize=13, legend_loc='upper left', figure=False)\n",
    "leg2 = g.subplots[0,0].legend(['N = 60', 'N = 50'], loc='upper right', frameon=False)\n",
    "g.subplots[0,0].add_artist(leg1)\n",
    "\n",
    "plt.scatter(ns_60, r_60, c=xi_, s=1, cmap = 'inferno', vmin=xi_.min(), vmax=xi_.max())\n",
    "plt.scatter(ns_50, r_50, c=xi_, s=1, cmap = 'inferno', vmin=xi_.min(), vmax=xi_.max())\n",
    "\n",
    "abs_xi = [abs(xi_[i]) for i in range(len(xi_))]\n",
    "print(\"Error in calculations comparing with minimal coupling \\n \")\n",
    "print(50*\"-\" + \"\\n\")\n",
    "print(\"60 e-fold error = \" + str(abs(ns_60[np.argmin(abs_xi)] - 0.96694214876)/0.96694214876 * 100) + \"%\")\n",
    "print(50*\"-\" + \"\\n\")\n",
    "print(\"50 e-fold error = \" + str(abs(ns_50[np.argmin(abs_xi)] - 0.960396039604)/0.960396039604 * 100) + \"%\")\n",
    "\n",
    "plt.colorbar(label = r'$\\xi$')\n",
    "plt.xlim(0.94,0.98)\n",
    "plt.ylim(0.00,0.20)\n",
    "\n",
    "g.export('nm.pdf',adir='coupling/150205193/figures/')"
   ]
  },
  {
   "cell_type": "markdown",
   "metadata": {},
   "source": [
    "# File I/O"
   ]
  },
  {
   "cell_type": "code",
   "execution_count": 61,
   "metadata": {},
   "outputs": [],
   "source": [
    "f = open(\"/Users/sermetcagan/Desktop/60efold.txt\",'w+')\n",
    "for i in range(len(ns_60)):\n",
    "    f.write(str(ns_60[i]) + ' ' + str(r_60[i]) + \"\\n\")\n",
    "f.close()\n",
    "f = open(\"/Users/sermetcagan/Desktop/50efold.txt\", 'w+')\n",
    "for i in range(len(ns_60)):\n",
    "    f.write(str(ns_50[i]) + ' ' + str(r_50[i]) + \"\\n\")\n",
    "f.close()"
   ]
  },
  {
   "cell_type": "code",
   "execution_count": 23,
   "metadata": {},
   "outputs": [],
   "source": [
    "f = open(\"/Users/sermetcagan/Desktop/60efold.txt\")\n",
    "lines = f.readlines()\n",
    "x60 = []\n",
    "y60 = []\n",
    "x50 = []\n",
    "y50 = []\n",
    "\n",
    "x60 = [float([lines[i].strip(\"\\n\").split(\" \") for i in range(len(lines))][j][0]) for j in range(len(lines))]\n",
    "y60 = [float([lines[i].strip(\"\\n\").split(\" \") for i in range(len(lines))][j][1]) for j in range(len(lines))]\n",
    "f.close()\n",
    "\n",
    "f = open(\"/Users/sermetcagan/Desktop/50efold.txt\")\n",
    "lines = f.readlines()\n",
    "x50 = [float([lines[i].strip(\"\\n\").split(\" \") for i in range(len(lines))][j][0]) for j in range(len(lines))]\n",
    "y50 = [float([lines[i].strip(\"\\n\").split(\" \") for i in range(len(lines))][j][1]) for j in range(len(lines))]\n",
    "f.close()"
   ]
  }
 ],
 "metadata": {
  "kernelspec": {
   "display_name": "Python 3",
   "language": "python",
   "name": "python3"
  },
  "language_info": {
   "codemirror_mode": {
    "name": "ipython",
    "version": 3
   },
   "file_extension": ".py",
   "mimetype": "text/x-python",
   "name": "python",
   "nbconvert_exporter": "python",
   "pygments_lexer": "ipython3",
   "version": "3.6.8"
  }
 },
 "nbformat": 4,
 "nbformat_minor": 2
}
