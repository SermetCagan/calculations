{
 "cells": [
  {
   "cell_type": "code",
   "execution_count": 33,
   "metadata": {},
   "outputs": [],
   "source": [
    "from my_integration import calculat_all\n",
    "import numpy as np\n",
    "from scipy.optimize import fsolve"
   ]
  },
  {
   "cell_type": "code",
   "execution_count": 34,
   "metadata": {},
   "outputs": [],
   "source": [
    "def integrand(x):\n",
    "    return x"
   ]
  },
  {
   "cell_type": "code",
   "execution_count": 35,
   "metadata": {},
   "outputs": [],
   "source": [
    "(r,w) = calculat_all(2**10, -1, 2)"
   ]
  },
  {
   "cell_type": "code",
   "execution_count": 36,
   "metadata": {},
   "outputs": [
    {
     "data": {
      "text/plain": [
       "1.5"
      ]
     },
     "execution_count": 36,
     "metadata": {},
     "output_type": "execute_result"
    }
   ],
   "source": [
    "np.dot(integrand(r),w)"
   ]
  },
  {
   "cell_type": "code",
   "execution_count": 42,
   "metadata": {},
   "outputs": [],
   "source": [
    "xi_ = np.linspace(-0.002,0.006,1000)\n",
    "delta_phi = 1e-10\n",
    "Mp = 4.341e-9\n",
    "N = 60\n",
    "tol = 1e-6"
   ]
  },
  {
   "cell_type": "code",
   "execution_count": 43,
   "metadata": {},
   "outputs": [],
   "source": [
    "def integrand_(phi, xi):\n",
    "    return 0.5*phi*(Mp**2 + 6*phi**2*xi**2 + phi**2*xi)/(Mp**4 - phi**4*xi**2)\n",
    "\n",
    "def phi_f(xi):\n",
    "    return np.sqrt(Mp**2*(np.sqrt(48*(xi**2) + 16*xi + 1) -1 -4*xi)/(8*(xi**2) + 2*xi))"
   ]
  },
  {
   "cell_type": "code",
   "execution_count": null,
   "metadata": {},
   "outputs": [],
   "source": [
    "p = 0\n",
    "for xi in xi_:\n",
    "    i = 1\n",
    "    res = 0\n",
    "    while( abs(N-res) >= tol ):\n",
    "        (r,w) = calculat_all(2**10, phi_f(xi), phi_f(xi) + i*delta_phi)\n",
    "        res = np.dot(integrand_(r),w)\n",
    "        i += 1\n",
    "    p += 1\n",
    "    print(progress, end=' ')\n",
    "    phi_i_60.append(phi_f(xi) + (i-1)*delta_phi)\n",
    "        \n",
    "    "
   ]
  }
 ],
 "metadata": {
  "kernelspec": {
   "display_name": "Python 3",
   "language": "python",
   "name": "python3"
  },
  "language_info": {
   "codemirror_mode": {
    "name": "ipython",
    "version": 3
   },
   "file_extension": ".py",
   "mimetype": "text/x-python",
   "name": "python",
   "nbconvert_exporter": "python",
   "pygments_lexer": "ipython3",
   "version": "3.4.2"
  }
 },
 "nbformat": 4,
 "nbformat_minor": 2
}
