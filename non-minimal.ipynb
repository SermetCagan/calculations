{
 "cells": [
  {
   "cell_type": "markdown",
   "metadata": {},
   "source": [
    "## Non-minimal Coupling"
   ]
  },
  {
   "cell_type": "markdown",
   "metadata": {},
   "source": [
    "### Slow Roll Parameters"
   ]
  },
  {
   "cell_type": "markdown",
   "metadata": {},
   "source": [
    "$$ \\epsilon = \\frac{M_p^2}{2} \\left( \\frac{V_\\varphi}{V}\\right)^2 $$\n",
    "\n",
    "$$ \\eta = {M_p^2} \\frac{V_{\\varphi \\varphi}}{V} $$\n",
    "\n",
    "$$ \\xi_{SR} = {M_p^4} \\frac{V_\\varphi \\; V_{\\varphi \\varphi \\varphi}}{V} $$"
   ]
  },
  {
   "cell_type": "markdown",
   "metadata": {},
   "source": [
    "#### Necessary Modules"
   ]
  },
  {
   "cell_type": "code",
   "execution_count": 1,
   "metadata": {},
   "outputs": [],
   "source": [
    "from __future__ import division\n",
    "import numpy as np\n",
    "import sympy as sm\n",
    "import numpy as np\n",
    "import matplotlib.pyplot as plt\n",
    "from mpl_toolkits.mplot3d import Axes3D\n",
    "import matplotlib as mpl\n",
    "sm.init_printing(use_latex = 'mathjax')\n",
    "from IPython.core.interactiveshell import InteractiveShell\n",
    "InteractiveShell.ast_node_interactivity = \"all\""
   ]
  },
  {
   "cell_type": "code",
   "execution_count": 3,
   "metadata": {},
   "outputs": [
    {
     "name": "stdout",
     "output_type": "stream",
     "text": [
      "Potential (U):\n"
     ]
    },
    {
     "data": {
      "text/latex": [
       "$$\\frac{m^{2} \\phi^{2}}{2}$$"
      ],
      "text/plain": [
       " 2  2\n",
       "m ⋅φ \n",
       "─────\n",
       "  2  "
      ]
     },
     "execution_count": 3,
     "metadata": {},
     "output_type": "execute_result"
    },
    {
     "name": "stdout",
     "output_type": "stream",
     "text": [
      "Physical Potential (V):\n"
     ]
    },
    {
     "data": {
      "text/latex": [
       "$$\\frac{m^{2} \\phi^{2}}{2 \\left(1 + \\frac{\\phi^{2} \\xi}{M_{p}^{2}}\\right)^{2}}$$"
      ],
      "text/plain": [
       "     2  2    \n",
       "    m ⋅φ     \n",
       "─────────────\n",
       "            2\n",
       "  ⎛     2  ⎞ \n",
       "  ⎜    φ ⋅ξ⎟ \n",
       "2⋅⎜1 + ────⎟ \n",
       "  ⎜      2 ⎟ \n",
       "  ⎝    Mₚ  ⎠ "
      ]
     },
     "execution_count": 3,
     "metadata": {},
     "output_type": "execute_result"
    },
    {
     "name": "stdout",
     "output_type": "stream",
     "text": [
      "The slow roll parameters :\n"
     ]
    },
    {
     "data": {
      "text/latex": [
       "$$\\frac{2 \\left(M_{p}^{2} - \\phi^{2} \\xi\\right)^{2}}{\\phi^{2} \\left(M_{p}^{2} + 6 \\phi^{2} \\xi^{2} + \\phi^{2} \\xi\\right)}$$"
      ],
      "text/plain": [
       "                   2     \n",
       "       ⎛  2    2  ⎞      \n",
       "     2⋅⎝Mₚ  - φ ⋅ξ⎠      \n",
       "─────────────────────────\n",
       " 2 ⎛  2      2  2    2  ⎞\n",
       "φ ⋅⎝Mₚ  + 6⋅φ ⋅ξ  + φ ⋅ξ⎠"
      ]
     },
     "execution_count": 3,
     "metadata": {},
     "output_type": "execute_result"
    },
    {
     "data": {
      "text/latex": [
       "$$\\frac{2 \\left(M_{p}^{6} - 6 M_{p}^{4} \\phi^{2} \\xi - 36 M_{p}^{2} \\phi^{4} \\xi^{3} - 5 M_{p}^{2} \\phi^{4} \\xi^{2} + 12 \\phi^{6} \\xi^{4} + 2 \\phi^{6} \\xi^{3}\\right)}{\\phi^{2} \\left(M_{p}^{4} + 12 M_{p}^{2} \\phi^{2} \\xi^{2} + 2 M_{p}^{2} \\phi^{2} \\xi + 36 \\phi^{4} \\xi^{4} + 12 \\phi^{4} \\xi^{3} + \\phi^{4} \\xi^{2}\\right)}$$"
      ],
      "text/plain": [
       "  ⎛  6       4  2          2  4  3       2  4  2       6  4      6  3⎞\n",
       "2⋅⎝Mₚ  - 6⋅Mₚ ⋅φ ⋅ξ - 36⋅Mₚ ⋅φ ⋅ξ  - 5⋅Mₚ ⋅φ ⋅ξ  + 12⋅φ ⋅ξ  + 2⋅φ ⋅ξ ⎠\n",
       "──────────────────────────────────────────────────────────────────────\n",
       "   2 ⎛  4        2  2  2       2  2         4  4       4  3    4  2⎞  \n",
       "  φ ⋅⎝Mₚ  + 12⋅Mₚ ⋅φ ⋅ξ  + 2⋅Mₚ ⋅φ ⋅ξ + 36⋅φ ⋅ξ  + 12⋅φ ⋅ξ  + φ ⋅ξ ⎠  "
      ]
     },
     "execution_count": 3,
     "metadata": {},
     "output_type": "execute_result"
    },
    {
     "data": {
      "text/latex": [
       "$$\\frac{2 \\left(M_{p}^{6} - 6 M_{p}^{4} \\phi^{2} \\xi - 36 M_{p}^{2} \\phi^{4} \\xi^{3} - 5 M_{p}^{2} \\phi^{4} \\xi^{2} + 12 \\phi^{6} \\xi^{4} + 2 \\phi^{6} \\xi^{3}\\right)}{\\phi^{2} \\left(M_{p}^{2} + 6 \\phi^{2} \\xi^{2} + \\phi^{2} \\xi\\right)^{2}}$$"
      ],
      "text/plain": [
       "  ⎛  6       4  2          2  4  3       2  4  2       6  4      6  3⎞\n",
       "2⋅⎝Mₚ  - 6⋅Mₚ ⋅φ ⋅ξ - 36⋅Mₚ ⋅φ ⋅ξ  - 5⋅Mₚ ⋅φ ⋅ξ  + 12⋅φ ⋅ξ  + 2⋅φ ⋅ξ ⎠\n",
       "──────────────────────────────────────────────────────────────────────\n",
       "                                               2                      \n",
       "                       2 ⎛  2      2  2    2  ⎞                       \n",
       "                      φ ⋅⎝Mₚ  + 6⋅φ ⋅ξ  + φ ⋅ξ⎠                       "
      ]
     },
     "execution_count": 3,
     "metadata": {},
     "output_type": "execute_result"
    }
   ],
   "source": [
    "O = sm.symbols('Omega')\n",
    "eps = sm.symbols('epsilon')\n",
    "n = sm.symbols('eta')\n",
    "xi = sm.symbols('xi')\n",
    "phi = sm.symbols('phi',positive = True, real = True)\n",
    "phi_i = sm.symbols('phi_*',positive = True, real = True)\n",
    "phi_e = sm.symbols('phi_e',positive = True, real = True)\n",
    "mp = sm.symbols('M_p', positive = True, real = True)\n",
    "m = sm.symbols('m',positive = True, real = True)\n",
    "\n",
    "U = sm.Rational(1,2) * (m*m) * (phi*phi) # Chaotic Potential\n",
    "O = 1 + xi*phi*phi / (mp*mp)             # Omega\n",
    "Op = sm.diff(O, phi)                     # Omega Prime\n",
    "V = U/(O*O)                              # Physical potential in EF\n",
    "\n",
    "PoP = sm.sqrt((1/O) + sm.Rational(3,2) * (mp*mp) * (Op/O)**2 ) #dvarphi / dphi\n",
    "\n",
    "v_p = sm.symbols('V_1')\n",
    "v_pp = sm.symbols('V_11')\n",
    "v_ppp = sm.symbols('V_111')\n",
    "\n",
    "v_p = sm.diff(V,phi) * (1/PoP)\n",
    "v_pp = sm.diff(v_p,phi) * (1/PoP)\n",
    "v_ppp = sm.diff(v_pp,phi) * (1/PoP)\n",
    "\n",
    "\n",
    "\n",
    "eps = sm.Rational(1,2) * (mp*mp) * (v_p/V)**2\n",
    "n = (mp*mp) * (v_pp/V)\n",
    "#xi_sr = (mp**4) * (v_p*v_ppp/(V*V))\n",
    "\n",
    "print ('Potential (U):')\n",
    "U\n",
    "print ('Physical Potential (V):')\n",
    "V\n",
    "print ('The slow roll parameters :')\n",
    "eps = sm.simplify(eps)\n",
    "eps\n",
    "n = sm.simplify(n)\n",
    "n\n",
    "sm.factor(sm.simplify(n))\n",
    "\n",
    "#sm.simplify(xi_sr)\n",
    "\n",
    "\n",
    "\n",
    "\n"
   ]
  },
  {
   "cell_type": "code",
   "execution_count": 4,
   "metadata": {},
   "outputs": [
    {
     "data": {
      "text/plain": [
       "\"M_p = Symbol('M_p')\\nphi = Symbol('phi')\\nxi = Symbol('xi')\\ne = 2*(M_p**2 - phi**2*xi)**2/(phi**2*(M_p**2 + 6*phi**2*xi**2 + phi**2*xi))\""
      ]
     },
     "execution_count": 4,
     "metadata": {},
     "output_type": "execute_result"
    }
   ],
   "source": [
    "sm.python(eps)"
   ]
  },
  {
   "cell_type": "code",
   "execution_count": 5,
   "metadata": {},
   "outputs": [
    {
     "data": {
      "text/plain": [
       "\"M_p = Symbol('M_p')\\nphi = Symbol('phi')\\nxi = Symbol('xi')\\ne = 2*(M_p**6 - 6*M_p**4*phi**2*xi - 36*M_p**2*phi**4*xi**3 - 5*M_p**2*phi**4*xi**2 + 12*phi**6*xi**4 + 2*phi**6*xi**3)/(phi**2*(M_p**4 + 12*M_p**2*phi**2*xi**2 + 2*M_p**2*phi**2*xi + 36*phi**4*xi**4 + 12*phi**4*xi**3 + phi**4*xi**2))\""
      ]
     },
     "execution_count": 5,
     "metadata": {},
     "output_type": "execute_result"
    }
   ],
   "source": [
    "sm.python(n)"
   ]
  },
  {
   "cell_type": "code",
   "execution_count": 6,
   "metadata": {},
   "outputs": [],
   "source": [
    "eps = sm.simplify(eps)"
   ]
  },
  {
   "cell_type": "code",
   "execution_count": 7,
   "metadata": {},
   "outputs": [
    {
     "name": "stdout",
     "output_type": "stream",
     "text": [
      "Phi_end:\n"
     ]
    },
    {
     "data": {
      "text/latex": [
       "$$\\left [ - \\sqrt{- \\frac{4 M_{p}^{2} \\xi}{8 \\xi^{2} + 2 \\xi} - \\frac{M_{p}^{2} \\sqrt{48 \\xi^{2} + 16 \\xi + 1}}{8 \\xi^{2} + 2 \\xi} - \\frac{M_{p}^{2}}{8 \\xi^{2} + 2 \\xi}}, \\quad \\sqrt{- \\frac{4 M_{p}^{2} \\xi}{8 \\xi^{2} + 2 \\xi} - \\frac{M_{p}^{2} \\sqrt{48 \\xi^{2} + 16 \\xi + 1}}{8 \\xi^{2} + 2 \\xi} - \\frac{M_{p}^{2}}{8 \\xi^{2} + 2 \\xi}}, \\quad - \\sqrt{- \\frac{4 M_{p}^{2} \\xi}{8 \\xi^{2} + 2 \\xi} + \\frac{M_{p}^{2} \\sqrt{48 \\xi^{2} + 16 \\xi + 1}}{8 \\xi^{2} + 2 \\xi} - \\frac{M_{p}^{2}}{8 \\xi^{2} + 2 \\xi}}, \\quad \\sqrt{- \\frac{4 M_{p}^{2} \\xi}{8 \\xi^{2} + 2 \\xi} + \\frac{M_{p}^{2} \\sqrt{48 \\xi^{2} + 16 \\xi + 1}}{8 \\xi^{2} + 2 \\xi} - \\frac{M_{p}^{2}}{8 \\xi^{2} + 2 \\xi}}\\right ]$$"
      ],
      "text/plain": [
       "⎡        _______________________________________________________         _____\n",
       "⎢       ╱                       __________________                      ╱     \n",
       "⎢      ╱         2         2   ╱     2                    2            ╱      \n",
       "⎢     ╱      4⋅Mₚ ⋅ξ     Mₚ ⋅╲╱  48⋅ξ  + 16⋅ξ + 1       Mₚ            ╱      4\n",
       "⎢-   ╱    - ────────── - ───────────────────────── - ────────── ,    ╱    - ──\n",
       "⎢   ╱          2                    2                   2           ╱         \n",
       "⎣ ╲╱        8⋅ξ  + 2⋅ξ           8⋅ξ  + 2⋅ξ          8⋅ξ  + 2⋅ξ   ╲╱        8⋅\n",
       "\n",
       "__________________________________________________          __________________\n",
       "                  __________________                       ╱                  \n",
       "   2         2   ╱     2                    2             ╱         2         \n",
       "⋅Mₚ ⋅ξ     Mₚ ⋅╲╱  48⋅ξ  + 16⋅ξ + 1       Mₚ             ╱      4⋅Mₚ ⋅ξ     Mₚ\n",
       "──────── - ───────────────────────── - ────────── , -   ╱    - ────────── + ──\n",
       " 2                    2                   2            ╱          2           \n",
       "ξ  + 2⋅ξ           8⋅ξ  + 2⋅ξ          8⋅ξ  + 2⋅ξ    ╲╱        8⋅ξ  + 2⋅ξ     \n",
       "\n",
       "_____________________________________         ________________________________\n",
       "     __________________                      ╱                       _________\n",
       "2   ╱     2                    2            ╱         2         2   ╱     2   \n",
       " ⋅╲╱  48⋅ξ  + 16⋅ξ + 1       Mₚ            ╱      4⋅Mₚ ⋅ξ     Mₚ ⋅╲╱  48⋅ξ  + \n",
       "─────────────────────── - ────────── ,    ╱    - ────────── + ────────────────\n",
       "         2                   2           ╱          2                    2    \n",
       "      8⋅ξ  + 2⋅ξ          8⋅ξ  + 2⋅ξ   ╲╱        8⋅ξ  + 2⋅ξ           8⋅ξ  + 2\n",
       "\n",
       "_______________________⎤\n",
       "_________              ⎥\n",
       "                 2     ⎥\n",
       "16⋅ξ + 1       Mₚ      ⎥\n",
       "───────── - ────────── ⎥\n",
       "               2       ⎥\n",
       "⋅ξ          8⋅ξ  + 2⋅ξ ⎦"
      ]
     },
     "execution_count": 7,
     "metadata": {},
     "output_type": "execute_result"
    },
    {
     "data": {
      "text/latex": [
       "$$- 2 M_{p}^{4} + \\xi \\left(4 \\xi + 1\\right) \\left(M_{p}^{2} \\phi^{2} + \\phi^{4}\\right)$$"
      ],
      "text/plain": [
       "      4               ⎛  2  2    4⎞\n",
       "- 2⋅Mₚ  + ξ⋅(4⋅ξ + 1)⋅⎝Mₚ ⋅φ  + φ ⎠"
      ]
     },
     "execution_count": 7,
     "metadata": {},
     "output_type": "execute_result"
    }
   ],
   "source": [
    "eps_end = eps-1\n",
    "phi_end = sm.solve(eps_end,phi)\n",
    "print ('Phi_end:')\n",
    "sm.simplify(phi_end) \n",
    "\n",
    "expr = xi*(1+4*xi)*(phi**4 + (phi**2)*(mp**2)) - 2*(mp**4) \n",
    "expr"
   ]
  },
  {
   "cell_type": "markdown",
   "metadata": {},
   "source": [
    "#### Number of e-folding"
   ]
  },
  {
   "cell_type": "markdown",
   "metadata": {},
   "source": [
    "$$ N = \\frac{1}{M_p}\\int\\limits_{\\varphi_e}^{\\varphi_*} \\frac{d \\varphi}{\\sqrt{2\\epsilon(\\varphi)}} = \\frac{1}{M_p}\\int\\limits_{\\phi_e}^{\\phi_*} \\frac{d \\phi}{\\sqrt{2\\epsilon(\\phi)}}\\frac{d\\varphi}{d\\phi} $$"
   ]
  },
  {
   "cell_type": "code",
   "execution_count": 8,
   "metadata": {},
   "outputs": [
    {
     "data": {
      "text/latex": [
       "$$\\frac{\\phi \\sqrt{\\frac{1}{1 + \\frac{\\phi^{2} \\xi}{M_{p}^{2}}} + \\frac{6 \\phi^{2} \\xi^{2}}{M_{p}^{2} \\left(1 + \\frac{\\phi^{2} \\xi}{M_{p}^{2}}\\right)^{2}}}}{2 \\sqrt{\\frac{\\left(M_{p}^{2} - \\phi^{2} \\xi\\right)^{2}}{M_{p}^{2} + 6 \\phi^{2} \\xi^{2} + \\phi^{2} \\xi}}}$$"
      ],
      "text/plain": [
       "            ____________________________\n",
       "           ╱                   2  2     \n",
       "          ╱     1           6⋅φ ⋅ξ      \n",
       "φ⋅       ╱   ──────── + ─────────────── \n",
       "        ╱         2                   2 \n",
       "       ╱         φ ⋅ξ       ⎛     2  ⎞  \n",
       "      ╱      1 + ────     2 ⎜    φ ⋅ξ⎟  \n",
       "     ╱             2    Mₚ ⋅⎜1 + ────⎟  \n",
       "    ╱            Mₚ         ⎜      2 ⎟  \n",
       "  ╲╱                        ⎝    Mₚ  ⎠  \n",
       "────────────────────────────────────────\n",
       "             ______________________     \n",
       "            ╱                2          \n",
       "           ╱     ⎛  2    2  ⎞           \n",
       "          ╱      ⎝Mₚ  - φ ⋅ξ⎠           \n",
       "    2⋅   ╱    ────────────────────      \n",
       "        ╱       2      2  2    2        \n",
       "      ╲╱      Mₚ  + 6⋅φ ⋅ξ  + φ ⋅ξ      "
      ]
     },
     "execution_count": 8,
     "metadata": {},
     "output_type": "execute_result"
    }
   ],
   "source": [
    "N_integrand = (1/sm.sqrt(2*eps))*PoP\n",
    "N_integrand\n"
   ]
  },
  {
   "cell_type": "code",
   "execution_count": 9,
   "metadata": {},
   "outputs": [
    {
     "data": {
      "text/latex": [
       "$$\\frac{M_{p} \\phi \\sqrt{\\frac{M_{p}^{2} + 6 \\phi^{2} \\xi^{2} + \\phi^{2} \\xi}{\\left(M_{p}^{2} + \\phi^{2} \\xi\\right)^{2}}}}{2 \\sqrt{\\frac{\\left(M_{p}^{2} - \\phi^{2} \\xi\\right)^{2}}{M_{p}^{2} + 6 \\phi^{2} \\xi^{2} + \\phi^{2} \\xi}}}$$"
      ],
      "text/plain": [
       "            ______________________\n",
       "           ╱   2      2  2    2   \n",
       "          ╱  Mₚ  + 6⋅φ ⋅ξ  + φ ⋅ξ \n",
       "Mₚ⋅φ⋅    ╱   ──────────────────── \n",
       "        ╱                   2     \n",
       "       ╱        ⎛  2    2  ⎞      \n",
       "     ╲╱         ⎝Mₚ  + φ ⋅ξ⎠      \n",
       "──────────────────────────────────\n",
       "          ______________________  \n",
       "         ╱                2       \n",
       "        ╱     ⎛  2    2  ⎞        \n",
       "       ╱      ⎝Mₚ  - φ ⋅ξ⎠        \n",
       " 2⋅   ╱    ────────────────────   \n",
       "     ╱       2      2  2    2     \n",
       "   ╲╱      Mₚ  + 6⋅φ ⋅ξ  + φ ⋅ξ   "
      ]
     },
     "execution_count": 9,
     "metadata": {},
     "output_type": "execute_result"
    }
   ],
   "source": [
    "sm.simplify(N_integrand)"
   ]
  },
  {
   "cell_type": "code",
   "execution_count": null,
   "metadata": {},
   "outputs": [],
   "source": [
    "N_integral = sm.integrate(N_integrand, phi)\n",
    "N_integral = N_integral * (1/mp)\n",
    "N_integral"
   ]
  },
  {
   "cell_type": "code",
   "execution_count": null,
   "metadata": {},
   "outputs": [],
   "source": [
    "#sm.quad()"
   ]
  },
  {
   "cell_type": "code",
   "execution_count": null,
   "metadata": {},
   "outputs": [],
   "source": [
    "N_minimal = N_integrand.subs([ (xi, 0)]) \n",
    "N_minimal = sm.integrate(N_minimal, (phi,phi_e,phi_i))\n",
    "sm.simplify(N_minimal)"
   ]
  },
  {
   "cell_type": "code",
   "execution_count": null,
   "metadata": {},
   "outputs": [],
   "source": [
    "a,b = sm.symbols('a,b',positive = True, real = True)\n",
    "expr = sm.sqrt(((a+b)**2)*((a-b)**2))\n",
    "sm.simplify(expr)"
   ]
  },
  {
   "cell_type": "code",
   "execution_count": null,
   "metadata": {},
   "outputs": [],
   "source": [
    "expr = phi*(mp**2 + (6*(phi*phi)*(xi*xi)) + (phi*phi)*xi)/(mp**4 - (phi**4)*(xi*xi) )\n",
    "sm.simplify(expr)"
   ]
  },
  {
   "cell_type": "code",
   "execution_count": null,
   "metadata": {},
   "outputs": [],
   "source": [
    "expr_int = sm.integrate(expr,phi)\n",
    "expr_int\n",
    "sm.simplify(expr_int)\n"
   ]
  },
  {
   "cell_type": "code",
   "execution_count": null,
   "metadata": {},
   "outputs": [],
   "source": []
  }
 ],
 "metadata": {
  "kernelspec": {
   "display_name": "Python 3",
   "language": "python",
   "name": "python3"
  },
  "language_info": {
   "codemirror_mode": {
    "name": "ipython",
    "version": 3
   },
   "file_extension": ".py",
   "mimetype": "text/x-python",
   "name": "python",
   "nbconvert_exporter": "python",
   "pygments_lexer": "ipython3",
   "version": "3.7.2"
  }
 },
 "nbformat": 4,
 "nbformat_minor": 2
}
