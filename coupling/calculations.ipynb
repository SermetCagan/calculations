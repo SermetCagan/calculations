{
 "cells": [
  {
   "cell_type": "code",
   "execution_count": 5,
   "metadata": {},
   "outputs": [],
   "source": [
    "from sympy import *\n",
    "from scipy.constants import physical_constants\n",
    "from sympy.physics.mechanics import dynamicsymbols, init_vprinting\n",
    "#from scipy.constants import hbar, gravitational_constant, c\n",
    "import numpy as np\n",
    "from matplotlib import pyplot as plt\n",
    "\n",
    "init_vprinting()"
   ]
  },
  {
   "cell_type": "code",
   "execution_count": 6,
   "metadata": {},
   "outputs": [],
   "source": [
    "# Symbol definitions for symbolic calculations\n",
    "t = Symbol('t')\n",
    "phi = Symbol('\\phi')\n",
    "phi_i, phi_f = symbols('\\phi_{i} \\phi_{f}')\n",
    "m = Symbol('m')\n",
    "xi = Symbol('xi') # Coupling constant\n",
    "#xi = 0 # Minimal coupling\n",
    "Mp = Symbol('M_{p}')\n",
    "Pi = Symbol('pi')\n",
    "N = Symbol('N') # Number of e-foldings"
   ]
  },
  {
   "cell_type": "code",
   "execution_count": 7,
   "metadata": {},
   "outputs": [],
   "source": [
    "# Function and functionals\n",
    "Phi = Function('\\Phi')(phi) # Canonical normalized scalar field functional F[Phi(phi)]\n",
    "a = Function('a')(t) # Scale parameter\n",
    "a_dot = diff(a,t)\n",
    "U = (1./2)* m**2 * phi**2\n",
    "Om = 1 + xi*phi**2/Mp**2\n",
    "V = U/Om**2\n",
    "H = a_dot/a\n",
    "dPhidphi = 1/(1./Om + 3./2 * Mp**2 * (diff(Om,phi)/Om)**2)\n",
    "#Om = Function('\\Omega')(phi) # Conformal transformation function Omega(phi)"
   ]
  },
  {
   "cell_type": "code",
   "execution_count": 30,
   "metadata": {},
   "outputs": [],
   "source": [
    "# Constants (no need to use for now)\n",
    "G = physical_constants[\"Newtonian constant of gravitation\"]\n",
    "h = physical_constants[\"Planck constant\"]\n",
    "c = physical_constants[\"speed of light in vacuum\"]\n",
    "M_p = physical_constants[\"Planck mass\"][0]\n",
    "e_c = physical_constants[\"elementary charge\"]"
   ]
  },
  {
   "cell_type": "code",
   "execution_count": 31,
   "metadata": {},
   "outputs": [],
   "source": [
    "V_1 = diff(V,phi)\n",
    "V_2 = diff(V_1,phi)\n",
    "Ep = Mp**2/(16*Pi) * (V_1/V)**2\n",
    "Eta = Mp**2/(8*Pi) * (V_2/V)"
   ]
  },
  {
   "cell_type": "code",
   "execution_count": 32,
   "metadata": {},
   "outputs": [],
   "source": [
    "N = integrate(V/V_1,(phi, phi_i, phi_f)) * (-24*Pi/(3*Mp**2))"
   ]
  },
  {
   "cell_type": "code",
   "execution_count": 33,
   "metadata": {},
   "outputs": [
    {
     "data": {
      "image/png": "[encoded data removed]",
      "text/latex": [
       "$$- \\frac{2.0 \\pi}{M_{p}^{2}} \\left(\\phi_{f}^{2} - \\phi_{i}^{2}\\right)$$"
      ],
      "text/plain": [
       "       ⎛        2           2⎞ \n",
       "-2.0⋅π⋅⎝\\phi_{f}  - \\phi_{i} ⎠ \n",
       "───────────────────────────────\n",
       "                  2            \n",
       "             M_{p}             "
      ]
     },
     "execution_count": 33,
     "metadata": {},
     "output_type": "execute_result"
    }
   ],
   "source": [
    "simplify(N)"
   ]
  },
  {
   "cell_type": "code",
   "execution_count": 34,
   "metadata": {},
   "outputs": [
    {
     "data": {
      "image/png": "[encoded data removed]",
      "text/latex": [
       "$$\\frac{\\left(M_{p}^{2} + \\phi^{2} \\xi\\right)^{2}}{M_{p}^{2} \\left(1.0 M_{p}^{2} + 6.0 \\phi^{2} \\xi^{2} + 1.0 \\phi^{2} \\xi\\right)}$$"
      ],
      "text/plain": [
       "                                2               \n",
       "              ⎛     2       2  ⎞                \n",
       "              ⎝M_{p}  + \\phi ⋅ξ⎠                \n",
       "────────────────────────────────────────────────\n",
       "     2 ⎛         2           2  2           2  ⎞\n",
       "M_{p} ⋅⎝1.0⋅M_{p}  + 6.0⋅\\phi ⋅ξ  + 1.0⋅\\phi ⋅ξ⎠"
      ]
     },
     "execution_count": 34,
     "metadata": {},
     "output_type": "execute_result"
    }
   ],
   "source": [
    "simplify(dPhidphi)"
   ]
  },
  {
   "cell_type": "code",
   "execution_count": 35,
   "metadata": {},
   "outputs": [],
   "source": [
    "xi = 0\n",
    "Om = 1 + xi*phi**2/Mp**2\n",
    "V = U/Om**2\n",
    "V_1 = diff(V,phi)\n",
    "V_2 = diff(V_1,phi)\n",
    "Ep = Mp**2/(16*Pi) * (V_1/V)**2\n",
    "Eta = Mp**2/(8*Pi) * (V_2/V)"
   ]
  },
  {
   "cell_type": "code",
   "execution_count": 36,
   "metadata": {},
   "outputs": [],
   "source": [
    "N = integrate(V/V_1,(phi,phi_i,phi_f)) * (-24*Pi/(3*Mp**2))"
   ]
  },
  {
   "cell_type": "code",
   "execution_count": 37,
   "metadata": {},
   "outputs": [
    {
     "data": {
      "image/png": "[encoded data removed]",
      "text/latex": [
       "$$- \\frac{2.0 \\pi}{M_{p}^{2}} \\left(\\phi_{f}^{2} - \\phi_{i}^{2}\\right)$$"
      ],
      "text/plain": [
       "       ⎛        2           2⎞ \n",
       "-2.0⋅π⋅⎝\\phi_{f}  - \\phi_{i} ⎠ \n",
       "───────────────────────────────\n",
       "                  2            \n",
       "             M_{p}             "
      ]
     },
     "execution_count": 37,
     "metadata": {},
     "output_type": "execute_result"
    }
   ],
   "source": [
    "simplify(N)"
   ]
  },
  {
   "cell_type": "code",
   "execution_count": 52,
   "metadata": {},
   "outputs": [],
   "source": [
    "N = 60 # number of e-foldings\n",
    "qi = np.sqrt((N+0.5) * (M_p**2)/(2*np.pi))\n",
    "eps_ = (M_p**2)/(4*np.pi) * (1./(qi**2))\n",
    "eta_ = eps_\n",
    "ns = 1 + 2*eta_ - 6*eps_\n",
    "r = 16*eps_"
   ]
  },
  {
   "cell_type": "code",
   "execution_count": 53,
   "metadata": {},
   "outputs": [
    {
     "data": {
      "image/png": "[encoded data removed]",
      "text/latex": [
       "$$\\left ( 0.96694214876, \\quad 0.132231404959\\right )$$"
      ],
      "text/plain": [
       "(0.96694214876, 0.132231404959)"
      ]
     },
     "execution_count": 53,
     "metadata": {},
     "output_type": "execute_result"
    }
   ],
   "source": [
    "ns, r"
   ]
  },
  {
   "cell_type": "code",
   "execution_count": 54,
   "metadata": {},
   "outputs": [],
   "source": [
    "N = 50 # number of e-foldings\n",
    "qi = np.sqrt((N+0.5) * (M_p**2)/(2*np.pi))\n",
    "eps_ = (M_p**2)/(4*np.pi) * (1./(qi**2))\n",
    "eta_ = eps_\n",
    "ns = 1 + 2*eta_ - 6*eps_\n",
    "r = 16*eps_"
   ]
  },
  {
   "cell_type": "code",
   "execution_count": 55,
   "metadata": {},
   "outputs": [
    {
     "data": {
      "image/png": "[encoded data removed]",
      "text/latex": [
       "$$\\left ( 0.960396039604, \\quad 0.158415841584\\right )$$"
      ],
      "text/plain": [
       "(0.960396039604, 0.158415841584)"
      ]
     },
     "execution_count": 55,
     "metadata": {},
     "output_type": "execute_result"
    }
   ],
   "source": [
    "ns, r"
   ]
  }
 ],
 "metadata": {
  "kernelspec": {
   "display_name": "Python 3",
   "language": "python",
   "name": "python3"
  },
  "language_info": {
   "codemirror_mode": {
    "name": "ipython",
    "version": 3
   },
   "file_extension": ".py",
   "mimetype": "text/x-python",
   "name": "python",
   "nbconvert_exporter": "python",
   "pygments_lexer": "ipython3",
   "version": "3.4.2"
  }
 },
 "nbformat": 4,
 "nbformat_minor": 2
}
