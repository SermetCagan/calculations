{
 "cells": [
  {
   "cell_type": "code",
   "execution_count": 38,
   "metadata": {},
   "outputs": [],
   "source": [
    "from sympy import *\n",
    "from scipy.constants import physical_constants\n",
    "from sympy.physics.mechanics import dynamicsymbols, init_vprinting\n",
    "#from scipy.constants import hbar, gravitational_constant, c\n",
    "import numpy as np\n",
    "from matplotlib import pyplot as plt\n",
    "\n",
    "init_vprinting()"
   ]
  },
  {
   "cell_type": "code",
   "execution_count": 39,
   "metadata": {},
   "outputs": [],
   "source": [
    "# Symbol definitions for symbolic calculations\n",
    "t = Symbol('t')\n",
    "phi = Symbol('\\phi')\n",
    "phi_i, phi_f = symbols('\\phi_{i} \\phi_{f}')\n",
    "m = Symbol('m')\n",
    "xi = Symbol('xi') # Coupling constant\n",
    "#xi = 0 # Minimal coupling\n",
    "Mp = Symbol('M_{p}')\n",
    "Pi = Symbol('pi')\n",
    "N = Symbol('N') # Number of e-foldings"
   ]
  },
  {
   "cell_type": "code",
   "execution_count": 40,
   "metadata": {},
   "outputs": [],
   "source": [
    "# Function and functionals\n",
    "Phi = Function('\\Phi')(phi) # Canonical normalized scalar field functional F[Phi(phi)]\n",
    "a = Function('a')(t) # Scale parameter\n",
    "a_dot = diff(a,t)\n",
    "U = (1./2)* m**2 * phi**2\n",
    "Om = 1 + xi*phi**2/Mp**2\n",
    "V = U/Om**2\n",
    "H = a_dot/a\n",
    "dPhidphi = 1/(1./Om + 3./2 * Mp**2 * (diff(Om,phi)/Om)**2)\n",
    "#Om = Function('\\Omega')(phi) # Conformal transformation function Omega(phi)"
   ]
  },
  {
   "cell_type": "code",
   "execution_count": 41,
   "metadata": {},
   "outputs": [],
   "source": [
    "# Constants\n",
    "G = physical_constants[\"Newtonian constant of gravitation\"]\n",
    "h = physical_constants[\"Planck constant\"]\n",
    "c = physical_constants[\"speed of light in vacuum\"]\n",
    "M_p = physical_constants[\"Planck mass\"][0]\n",
    "e_c = physical_constants[\"elementary charge\"]"
   ]
  },
  {
   "cell_type": "code",
   "execution_count": 58,
   "metadata": {},
   "outputs": [
    {
     "data": {
      "image/png": "[encoded data removed]",
      "text/latex": [
       "$$\\frac{2.0 M_{p}^{2} \\left(M_{p}^{2} - \\phi^{2} \\xi\\right)^{2}}{\\phi^{2} \\left(M_{p}^{2} + \\phi^{2} \\xi\\right)^{2}}$$"
      ],
      "text/plain": [
       "                             2\n",
       "         2 ⎛     2       2  ⎞ \n",
       "2.0⋅M_{p} ⋅⎝M_{p}  - \\phi ⋅ξ⎠ \n",
       "──────────────────────────────\n",
       "                          2   \n",
       "      2 ⎛     2       2  ⎞    \n",
       "  \\phi ⋅⎝M_{p}  + \\phi ⋅ξ⎠    "
      ]
     },
     "execution_count": 58,
     "metadata": {},
     "output_type": "execute_result"
    }
   ],
   "source": [
    "U = (1./2)* m**2 * phi**2\n",
    "Om = 1 + xi*phi**2/Mp**2\n",
    "V = U/Om**2\n",
    "V_1 = diff(V, phi)\n",
    "VV = (V_1/V)**2\n",
    "eps = 0.5*Mp**2*VV\n",
    "relat = sqrt(1/Om + 3/2 * Mp**2 * (diff(Om,phi)/Om)**2)\n",
    "simplify(eps)"
   ]
  },
  {
   "cell_type": "code",
   "execution_count": 6,
   "metadata": {},
   "outputs": [],
   "source": [
    "V_1 = diff(V,phi)\n",
    "V_2 = diff(V_1,phi)\n",
    "Ep = Mp**2/(16*Pi) * (V_1/V)**2\n",
    "Eta = Mp**2/(8*Pi) * (V_2/V)"
   ]
  },
  {
   "cell_type": "code",
   "execution_count": 7,
   "metadata": {},
   "outputs": [],
   "source": [
    "N = integrate(V/V_1,(phi, phi_i, phi_f)) * (-24*Pi/(3*Mp**2))"
   ]
  },
  {
   "cell_type": "code",
   "execution_count": 8,
   "metadata": {},
   "outputs": [
    {
     "data": {
      "image/png": "[encoded data removed]",
      "text/latex": [
       "$$\\frac{8 \\pi}{M_{p}^{2} \\xi} \\left(0.5 M_{p}^{2} \\operatorname{log}\\left(- M_{p}^{2} + \\phi_{f}^{2} \\xi\\right) - 0.5 M_{p}^{2} \\operatorname{log}\\left(- M_{p}^{2} + \\phi_{i}^{2} \\xi\\right) + 0.25 \\xi \\left(\\phi_{f}^{2} - \\phi_{i}^{2}\\right)\\right)$$"
      ],
      "text/plain": [
       "    ⎛         2    ⎛       2           2  ⎞            2    ⎛       2         \n",
       "8⋅π⋅⎝0.5⋅M_{p} ⋅log⎝- M_{p}  + \\phi_{f} ⋅ξ⎠ - 0.5⋅M_{p} ⋅log⎝- M_{p}  + \\phi_{\n",
       "──────────────────────────────────────────────────────────────────────────────\n",
       "                                                            2                 \n",
       "                                                       M_{p} ⋅ξ               \n",
       "\n",
       "  2  ⎞          ⎛        2           2⎞⎞\n",
       "i} ⋅ξ⎠ + 0.25⋅ξ⋅⎝\\phi_{f}  - \\phi_{i} ⎠⎠\n",
       "────────────────────────────────────────\n",
       "                                        \n",
       "                                        "
      ]
     },
     "execution_count": 8,
     "metadata": {},
     "output_type": "execute_result"
    }
   ],
   "source": [
    "simplify(N)"
   ]
  },
  {
   "cell_type": "code",
   "execution_count": 9,
   "metadata": {},
   "outputs": [
    {
     "data": {
      "image/png": "[encoded data removed]",
      "text/latex": [
       "$$\\frac{\\left(M_{p}^{2} + \\phi^{2} \\xi\\right)^{2}}{M_{p}^{2} \\left(1.0 M_{p}^{2} + 6.0 \\phi^{2} \\xi^{2} + 1.0 \\phi^{2} \\xi\\right)}$$"
      ],
      "text/plain": [
       "                                2               \n",
       "              ⎛     2       2  ⎞                \n",
       "              ⎝M_{p}  + \\phi ⋅ξ⎠                \n",
       "────────────────────────────────────────────────\n",
       "     2 ⎛         2           2  2           2  ⎞\n",
       "M_{p} ⋅⎝1.0⋅M_{p}  + 6.0⋅\\phi ⋅ξ  + 1.0⋅\\phi ⋅ξ⎠"
      ]
     },
     "execution_count": 9,
     "metadata": {},
     "output_type": "execute_result"
    }
   ],
   "source": [
    "simplify(dPhidphi)"
   ]
  },
  {
   "cell_type": "code",
   "execution_count": 10,
   "metadata": {},
   "outputs": [],
   "source": [
    "xi = 0\n",
    "Om = 1 + xi*phi**2/Mp**2\n",
    "V = U/Om**2\n",
    "V_1 = diff(V,phi)\n",
    "V_2 = diff(V_1,phi)\n",
    "Ep = Mp**2/(16*Pi) * (V_1/V)**2\n",
    "Eta = Mp**2/(8*Pi) * (V_2/V)"
   ]
  },
  {
   "cell_type": "code",
   "execution_count": 11,
   "metadata": {},
   "outputs": [],
   "source": [
    "N = integrate(V/V_1,(phi,phi_i,phi_f)) * (-24*Pi/(3*Mp**2))"
   ]
  },
  {
   "cell_type": "code",
   "execution_count": 12,
   "metadata": {},
   "outputs": [
    {
     "data": {
      "image/png": "[encoded data removed]",
      "text/latex": [
       "$$- \\frac{2.0 \\pi}{M_{p}^{2}} \\left(\\phi_{f}^{2} - \\phi_{i}^{2}\\right)$$"
      ],
      "text/plain": [
       "       ⎛        2           2⎞ \n",
       "-2.0⋅π⋅⎝\\phi_{f}  - \\phi_{i} ⎠ \n",
       "───────────────────────────────\n",
       "                  2            \n",
       "             M_{p}             "
      ]
     },
     "execution_count": 12,
     "metadata": {},
     "output_type": "execute_result"
    }
   ],
   "source": [
    "simplify(N)"
   ]
  },
  {
   "cell_type": "code",
   "execution_count": 13,
   "metadata": {},
   "outputs": [],
   "source": [
    "N = 60 # number of e-foldings\n",
    "qi = np.sqrt((N+0.5) * (M_p**2)/(2*np.pi))\n",
    "eps_ = (M_p**2)/(4*np.pi) * (1./(qi**2))\n",
    "eta_ = eps_\n",
    "ns = 1 + 2*eta_ - 6*eps_\n",
    "r = 16*eps_"
   ]
  },
  {
   "cell_type": "code",
   "execution_count": 14,
   "metadata": {},
   "outputs": [
    {
     "data": {
      "image/png": "[encoded data removed]",
      "text/latex": [
       "$$\\left ( 0.9669421487603306, \\quad 0.13223140495867766\\right )$$"
      ],
      "text/plain": [
       "(0.9669421487603306, 0.13223140495867766)"
      ]
     },
     "execution_count": 14,
     "metadata": {},
     "output_type": "execute_result"
    }
   ],
   "source": [
    "ns, r"
   ]
  },
  {
   "cell_type": "code",
   "execution_count": 15,
   "metadata": {},
   "outputs": [],
   "source": [
    "N = 50 # number of e-foldings\n",
    "qi = np.sqrt((N+0.5) * (M_p**2)/(2*np.pi))\n",
    "eps_ = (M_p**2)/(4*np.pi) * (1./(qi**2))\n",
    "eta_ = eps_\n",
    "ns = 1 + 2*eta_ - 6*eps_\n",
    "r = 16*eps_"
   ]
  },
  {
   "cell_type": "code",
   "execution_count": 16,
   "metadata": {},
   "outputs": [
    {
     "data": {
      "image/png": "[encoded data removed]",
      "text/latex": [
       "$$\\left ( 0.9603960396039604, \\quad 0.15841584158415845\\right )$$"
      ],
      "text/plain": [
       "(0.9603960396039604, 0.15841584158415845)"
      ]
     },
     "execution_count": 16,
     "metadata": {},
     "output_type": "execute_result"
    }
   ],
   "source": [
    "ns, r"
   ]
  },
  {
   "cell_type": "code",
   "execution_count": 18,
   "metadata": {},
   "outputs": [
    {
     "data": {
      "image/png": "[encoded data removed]",
      "text/latex": [
       "$$0.5 \\phi^{2} m^{2}$$"
      ],
      "text/plain": [
       "        2  2\n",
       "0.5⋅\\phi ⋅m "
      ]
     },
     "execution_count": 18,
     "metadata": {},
     "output_type": "execute_result"
    }
   ],
   "source": [
    "V"
   ]
  }
 ],
 "metadata": {
  "kernelspec": {
   "display_name": "Python 3",
   "language": "python",
   "name": "python3"
  },
  "language_info": {
   "codemirror_mode": {
    "name": "ipython",
    "version": 3
   },
   "file_extension": ".py",
   "mimetype": "text/x-python",
   "name": "python",
   "nbconvert_exporter": "python",
   "pygments_lexer": "ipython3",
   "version": "3.6.8"
  }
 },
 "nbformat": 4,
 "nbformat_minor": 2
}
