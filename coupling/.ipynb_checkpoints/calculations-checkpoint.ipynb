{
 "cells": [
  {
   "cell_type": "code",
   "execution_count": 33,
   "metadata": {},
   "outputs": [],
   "source": [
    "from sympy import *\n",
    "from scipy.constants import physical_constants\n",
    "#from scipy.constants import hbar, gravitational_constant, c\n",
    "import numpy as np\n",
    "from matplotlib import pyplot as plt\n",
    "\n",
    "init_printing(use_unicode=True)"
   ]
  },
  {
   "cell_type": "code",
   "execution_count": 89,
   "metadata": {},
   "outputs": [],
   "source": [
    "phi = Symbol('\\phi')\n",
    "Phi = Function('\\Phi')(phi)\n",
    "U = Function('U')(phi)\n",
    "Om = Function('\\Omega')(phi)\n",
    "V = U/Om**2\n",
    "G = physical_constants[\"Newtonian constant of gravitation\"]\n",
    "h = physical_constants[\"Planck constant\"]\n",
    "c = physical_constants[\"speed of light in vacuum\"]\n",
    "M = physical_constants[\"Planck mass energy equivalent in GeV\"]\n",
    "e_c = physical_constants[\"elementary charge\"]"
   ]
  },
  {
   "cell_type": "code",
   "execution_count": 90,
   "metadata": {},
   "outputs": [
    {
     "name": "stdout",
     "output_type": "stream",
     "text": [
      "G = 6.674080E-11 [m^3 kg^-1 s^-2]\n",
      "h = 6.626070E-34 [J s]\n",
      "c = 2.997925E+08 [m s^-1]\n"
     ]
    }
   ],
   "source": [
    "print(\"G = {grav:E} [{gravunit}]\\nh = {hbar:E} [{hbarunit}]\\nc = {c:E} [{cunit}]\".format(grav=G[0],c=c[0],hbar=h[0],gravunit=G[1],cunit=c[1],hbarunit=h[1]))"
   ]
  },
  {
   "cell_type": "code",
   "execution_count": 105,
   "metadata": {},
   "outputs": [
    {
     "name": "stdout",
     "output_type": "stream",
     "text": [
      "Conversion rate = 5.6095886500206855e+35\n",
      "2.44182e+19\n",
      "Planck mass = 2.441655E+04 [kg]\n",
      "Reduced Planck mass = 1.369668E+40 [GeV]\n"
     ]
    }
   ],
   "source": [
    "conversion_rate = c[0]**2/e_c[0]\n",
    "print(\"Conversion rate = {rate}\".format(rate = conversion_rate))\n",
    "Mp = np.sqrt(1.0/(8*np.pi*G[0]))\n",
    "M_ = Mp * conversion_rate\n",
    "print(M[0]*2)\n",
    "print(\"Planck mass = {pl:E} [{plunit}]\\nReduced Planck mass = {rpl:E} [{rplunit}]\".format(pl = Mp, plunit=\"kg\", rpl = M_, rplunit=\"GeV\"))"
   ]
  },
  {
   "cell_type": "code",
   "execution_count": 46,
   "metadata": {},
   "outputs": [],
   "source": [
    "d1 = diff(V,phi)\n",
    "d2 = diff(d1,phi)\n",
    "d3 = diff(d2,phi)"
   ]
  },
  {
   "cell_type": "code",
   "execution_count": 55,
   "metadata": {},
   "outputs": [
    {
     "data": {
      "image/png": "[encoded data removed]",
      "text/latex": [
       "$$- \\frac{2 U{\\left (\\phi \\right )} \\frac{d}{d \\phi} \\Omega{\\left (\\phi \\right )}}{\\Omega^{3}{\\left (\\phi \\right )}} + \\frac{\\frac{d}{d \\phi} U{\\left (\\phi \\right )}}{\\Omega^{2}{\\left (\\phi \\right )}}$$"
      ],
      "text/plain": [
       "              d                     d           \n",
       "  2⋅U(\\phi)⋅─────(\\Omega(\\phi))   ─────(U(\\phi))\n",
       "            d\\phi                 d\\phi         \n",
       "- ───────────────────────────── + ──────────────\n",
       "                3                       2       \n",
       "          \\Omega (\\phi)           \\Omega (\\phi) "
      ]
     },
     "execution_count": 55,
     "metadata": {},
     "output_type": "execute_result"
    }
   ],
   "source": [
    "d1"
   ]
  },
  {
   "cell_type": "code",
   "execution_count": 59,
   "metadata": {},
   "outputs": [
    {
     "data": {
      "image/png": "[encoded data removed]",
      "text/latex": [
       "$$- \\frac{2 U{\\left (\\phi \\right )} \\frac{d^{2}}{d \\phi^{2}} \\Omega{\\left (\\phi \\right )}}{\\Omega^{3}{\\left (\\phi \\right )}} + \\frac{6 U{\\left (\\phi \\right )} \\left(\\frac{d}{d \\phi} \\Omega{\\left (\\phi \\right )}\\right)^{2}}{\\Omega^{4}{\\left (\\phi \\right )}} + \\frac{\\frac{d^{2}}{d \\phi^{2}} U{\\left (\\phi \\right )}}{\\Omega^{2}{\\left (\\phi \\right )}} - \\frac{4 \\frac{d}{d \\phi} U{\\left (\\phi \\right )} \\frac{d}{d \\phi} \\Omega{\\left (\\phi \\right )}}{\\Omega^{3}{\\left (\\phi \\right )}}$$"
      ],
      "text/plain": [
       "               2                                                         2    \n",
       "              d                                                   2     d     \n",
       "  2⋅U(\\phi)⋅──────(\\Omega(\\phi))             ⎛  d                ⎞    ──────(U\n",
       "                 2                 6⋅U(\\phi)⋅⎜─────(\\Omega(\\phi))⎟         2  \n",
       "            d\\phi                            ⎝d\\phi              ⎠    d\\phi   \n",
       "- ────────────────────────────── + ──────────────────────────────── + ────────\n",
       "                3                                 4                          2\n",
       "          \\Omega (\\phi)                     \\Omega (\\phi)              \\Omega \n",
       "\n",
       "                                              \n",
       "                                              \n",
       "(\\phi))       d              d                \n",
       "          4⋅─────(U(\\phi))⋅─────(\\Omega(\\phi))\n",
       "            d\\phi          d\\phi              \n",
       "─────── - ────────────────────────────────────\n",
       "                           3                  \n",
       "(\\phi)               \\Omega (\\phi)            "
      ]
     },
     "execution_count": 59,
     "metadata": {},
     "output_type": "execute_result"
    }
   ],
   "source": [
    "d2"
   ]
  },
  {
   "cell_type": "code",
   "execution_count": 60,
   "metadata": {},
   "outputs": [
    {
     "data": {
      "image/png": "[encoded data removed]",
      "text/latex": [
       "$$- \\frac{2 U{\\left (\\phi \\right )} \\frac{d^{3}}{d \\phi^{3}} \\Omega{\\left (\\phi \\right )}}{\\Omega^{3}{\\left (\\phi \\right )}} + \\frac{18 U{\\left (\\phi \\right )} \\frac{d}{d \\phi} \\Omega{\\left (\\phi \\right )} \\frac{d^{2}}{d \\phi^{2}} \\Omega{\\left (\\phi \\right )}}{\\Omega^{4}{\\left (\\phi \\right )}} - \\frac{24 U{\\left (\\phi \\right )} \\left(\\frac{d}{d \\phi} \\Omega{\\left (\\phi \\right )}\\right)^{3}}{\\Omega^{5}{\\left (\\phi \\right )}} + \\frac{\\frac{d^{3}}{d \\phi^{3}} U{\\left (\\phi \\right )}}{\\Omega^{2}{\\left (\\phi \\right )}} - \\frac{6 \\frac{d}{d \\phi} U{\\left (\\phi \\right )} \\frac{d^{2}}{d \\phi^{2}} \\Omega{\\left (\\phi \\right )}}{\\Omega^{3}{\\left (\\phi \\right )}} - \\frac{6 \\frac{d^{2}}{d \\phi^{2}} U{\\left (\\phi \\right )} \\frac{d}{d \\phi} \\Omega{\\left (\\phi \\right )}}{\\Omega^{3}{\\left (\\phi \\right )}} + \\frac{18 \\frac{d}{d \\phi} U{\\left (\\phi \\right )} \\left(\\frac{d}{d \\phi} \\Omega{\\left (\\phi \\right )}\\right)^{2}}{\\Omega^{4}{\\left (\\phi \\right )}}$$"
      ],
      "text/plain": [
       "               3                                                     2        \n",
       "              d                                 d                   d         \n",
       "  2⋅U(\\phi)⋅──────(\\Omega(\\phi))   18⋅U(\\phi)⋅─────(\\Omega(\\phi))⋅──────(\\Omeg\n",
       "                 3                            d\\phi                    2      \n",
       "            d\\phi                                                 d\\phi       \n",
       "- ────────────────────────────── + ───────────────────────────────────────────\n",
       "                3                                           4                 \n",
       "          \\Omega (\\phi)                               \\Omega (\\phi)           \n",
       "\n",
       "                                                  3                           \n",
       "                                           3     d                   d        \n",
       "a(\\phi))              ⎛  d                ⎞    ──────(U(\\phi))   6⋅─────(U(\\ph\n",
       "           24⋅U(\\phi)⋅⎜─────(\\Omega(\\phi))⎟         3              d\\phi      \n",
       "                      ⎝d\\phi              ⎠    d\\phi                          \n",
       "──────── - ───────────────────────────────── + ─────────────── - ─────────────\n",
       "                           5                          2                       \n",
       "                     \\Omega (\\phi)              \\Omega (\\phi)                \\\n",
       "\n",
       "       2                        2                                             \n",
       "      d                        d               d                              \n",
       "i))⋅──────(\\Omega(\\phi))   6⋅──────(U(\\phi))⋅─────(\\Omega(\\phi))        d     \n",
       "         2                        2          d\\phi                 18⋅─────(U(\n",
       "    d\\phi                    d\\phi                                    d\\phi   \n",
       "──────────────────────── - ───────────────────────────────────── + ───────────\n",
       "     3                                       3                                \n",
       "Omega (\\phi)                           \\Omega (\\phi)                          \n",
       "\n",
       "                             \n",
       "                            2\n",
       "       ⎛  d                ⎞ \n",
       "\\phi))⋅⎜─────(\\Omega(\\phi))⎟ \n",
       "       ⎝d\\phi              ⎠ \n",
       "─────────────────────────────\n",
       "        4                    \n",
       "  \\Omega (\\phi)              "
      ]
     },
     "execution_count": 60,
     "metadata": {},
     "output_type": "execute_result"
    }
   ],
   "source": [
    "d3"
   ]
  },
  {
   "cell_type": "code",
   "execution_count": null,
   "metadata": {},
   "outputs": [],
   "source": []
  }
 ],
 "metadata": {
  "kernelspec": {
   "display_name": "Python 3",
   "language": "python",
   "name": "python3"
  },
  "language_info": {
   "codemirror_mode": {
    "name": "ipython",
    "version": 3
   },
   "file_extension": ".py",
   "mimetype": "text/x-python",
   "name": "python",
   "nbconvert_exporter": "python",
   "pygments_lexer": "ipython3",
   "version": "3.7.1"
  }
 },
 "nbformat": 4,
 "nbformat_minor": 2
}
