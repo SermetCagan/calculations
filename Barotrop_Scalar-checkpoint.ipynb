{
 "cells": [
  {
   "cell_type": "markdown",
   "metadata": {},
   "source": [
    "# 1 Barotrop + Quintessence with $V(\\phi) = V_0 e^{-\\lambda \\kappa \\phi}$"
   ]
  },
  {
   "cell_type": "markdown",
   "metadata": {},
   "source": [
    "## I, X, Y Notation "
   ]
  },
  {
   "cell_type": "markdown",
   "metadata": {},
   "source": [
    "### 3D System (I, X, Y)"
   ]
  },
  {
   "cell_type": "markdown",
   "metadata": {},
   "source": [
    "#### Autonomous Equations"
   ]
  },
  {
   "cell_type": "markdown",
   "metadata": {},
   "source": [
    "\\begin{align}\n",
    "\\label{eq:1barotrop_1scalar_ixy}\n",
    "\\begin{split}\n",
    "i' &= \\frac{3}{2} i (\\omega_i \\, i^2 + x^2 - y^2 - \\omega_i) \\\\[0.75ex]\n",
    "x' &= \\sqrt{\\frac{3}{2}} \\lambda y^2 + \\frac{3}{2}x (\\omega_i \\, i^2  + x^2 - y^2 -1) \\\\[0.75ex]\n",
    "y' &= -\\sqrt{\\frac{3}{2}} \\lambda x y + \\frac{3}{2}y (\\omega_i \\, i^2 + x^2 - y^2 +1) \n",
    "\\end{split}\n",
    "\\end{align}"
   ]
  },
  {
   "cell_type": "markdown",
   "metadata": {},
   "source": [
    "#### Necessary Modules"
   ]
  },
  {
   "cell_type": "code",
   "execution_count": 8,
   "metadata": {},
   "outputs": [],
   "source": [
    "from __future__ import division\n",
    "import numpy as np\n",
    "import sympy as sm\n",
    "import numpy as np\n",
    "import matplotlib.pyplot as plt\n",
    "from mpl_toolkits.mplot3d import Axes3D\n",
    "import matplotlib as mpl\n",
    "sm.init_printing(use_latex = 'mathjax')\n",
    "from IPython.core.interactiveshell import InteractiveShell\n",
    "InteractiveShell.ast_node_interactivity = \"all\""
   ]
  },
  {
   "cell_type": "markdown",
   "metadata": {},
   "source": [
    "#### Define System"
   ]
  },
  {
   "cell_type": "code",
   "execution_count": 9,
   "metadata": {},
   "outputs": [
    {
     "name": "stdout",
     "output_type": "stream",
     "text": [
      "The autonomous equations are:\n"
     ]
    },
    {
     "data": {
      "text/latex": [
       "$$\\frac{3 i}{2} \\left(\\omega_i i^{2} - \\omega_i + x^{2} - y^{2}\\right)$$"
      ],
      "text/plain": [
       "    ⎛         2              2    2⎞\n",
       "3⋅i⋅⎝\\omegaᵢ⋅i  - \\omegaᵢ + x  - y ⎠\n",
       "────────────────────────────────────\n",
       "                 2                  "
      ]
     },
     "execution_count": 9,
     "metadata": {},
     "output_type": "execute_result"
    },
    {
     "data": {
      "text/latex": [
       "$$\\frac{\\sqrt{6} \\lambda}{2} y^{2} + \\frac{3 x}{2} \\left(\\omega_i i^{2} + x^{2} - y^{2} - 1\\right)$$"
      ],
      "text/plain": [
       "            2       ⎛         2    2    2    ⎞\n",
       "√6⋅\\lambda⋅y    3⋅x⋅⎝\\omegaᵢ⋅i  + x  - y  - 1⎠\n",
       "───────────── + ──────────────────────────────\n",
       "      2                       2               "
      ]
     },
     "execution_count": 9,
     "metadata": {},
     "output_type": "execute_result"
    },
    {
     "data": {
      "text/latex": [
       "$$- \\frac{x y}{2} \\sqrt{6} \\lambda + \\frac{3 y}{2} \\left(\\omega_i i^{2} + x^{2} - y^{2} + 1\\right)$$"
      ],
      "text/plain": [
       "                       ⎛         2    2    2    ⎞\n",
       "  √6⋅\\lambda⋅x⋅y   3⋅y⋅⎝\\omegaᵢ⋅i  + x  - y  + 1⎠\n",
       "- ────────────── + ──────────────────────────────\n",
       "        2                        2               "
      ]
     },
     "execution_count": 9,
     "metadata": {},
     "output_type": "execute_result"
    }
   ],
   "source": [
    "x = sm.symbols('x')\n",
    "i,y = sm.symbols('i,y', nonnegative = True)\n",
    "w1,l= sm.symbols('\\omega_i,\\lambda', positive = True, real = True)\n",
    "\n",
    "I = sm.Rational(3,2) * i * (w1 * i*i + x*x - y*y - w1)\n",
    "X = sm.sqrt(sm.Rational(3,2)) * l * y*y + sm.Rational(3,2)* x * (w1 * i*i + x*x - y*y - 1)\n",
    "Y = -sm.sqrt(sm.Rational(3,2)) * l * x * y + sm.Rational(3,2)* y * (w1 * i*i + x*x - y*y + 1)\n",
    "\n",
    "print 'The autonomous equations are:'\n",
    "I\n",
    "X\n",
    "Y\n"
   ]
  },
  {
   "cell_type": "markdown",
   "metadata": {},
   "source": [
    "#### Critical Points (I,X,Y)"
   ]
  },
  {
   "cell_type": "code",
   "execution_count": 10,
   "metadata": {},
   "outputs": [
    {
     "data": {
      "text/latex": [
       "$$\\left [ \\left ( 0, \\quad -1, \\quad 0\\right ), \\quad \\left ( 0, \\quad 1, \\quad 0\\right ), \\quad \\left ( 1, \\quad 0, \\quad 0\\right ), \\quad \\left ( \\frac{1}{\\lambda} \\sqrt{\\lambda^{2} - 3 \\omega_i - 3}, \\quad \\frac{\\sqrt{6} \\left(\\omega_i + 1\\right)}{2 \\lambda}, \\quad \\frac{\\sqrt{6}}{2 \\lambda} \\sqrt{- \\omega_i^{2} + 1}\\right ), \\quad \\left ( 0, \\quad \\frac{\\sqrt{6} \\lambda}{6}, \\quad \\sqrt{- \\frac{\\lambda^{2}}{6} + 1}\\right ), \\quad \\left ( 0, \\quad \\frac{\\sqrt{6}}{2 \\lambda}, \\quad \\frac{\\sqrt{6}}{2 \\lambda}\\right )\\right ]$$"
      ],
      "text/plain": [
       "⎡                                  ⎛   __________________________             \n",
       "⎢                                  ⎜  ╱        2                              \n",
       "⎢                                  ⎜╲╱  \\lambda  - 3⋅\\omegaᵢ - 3   √6⋅(\\omegaᵢ\n",
       "⎢(0, -1, 0), (0, 1, 0), (1, 0, 0), ⎜─────────────────────────────, ───────────\n",
       "⎣                                  ⎝           \\lambda                2⋅\\lambd\n",
       "\n",
       "             ________________⎞  ⎛                    ________________⎞        \n",
       "            ╱          2     ⎟  ⎜                   ╱          2     ⎟        \n",
       " + 1)  √6⋅╲╱  - \\omegaᵢ  + 1 ⎟  ⎜   √6⋅\\lambda     ╱    \\lambda      ⎟  ⎛     \n",
       "─────, ──────────────────────⎟, ⎜0, ──────────,   ╱   - ──────── + 1 ⎟, ⎜0, ──\n",
       "a            2⋅\\lambda       ⎠  ⎝       6       ╲╱         6         ⎠  ⎝   2⋅\n",
       "\n",
       "                   ⎤\n",
       "                   ⎥\n",
       "  √6         √6   ⎞⎥\n",
       "───────, ─────────⎟⎥\n",
       "\\lambda  2⋅\\lambda⎠⎦"
      ]
     },
     "execution_count": 10,
     "metadata": {},
     "output_type": "execute_result"
    }
   ],
   "source": [
    "# Simultaneously solve three eqs. to find fixed pts\n",
    "# FixedPoints = sm.solve([I,X,Y], (i, x, y), simplify=True)  # Returns to array of fixed pts [(,) , (,) , ... ] #dict= True,\n",
    "# However, SymPy could NOT find CPs.. \n",
    "# Results from Mathematica:\n",
    "X_m = (0,-1,0)\n",
    "X_p = (0,1,0)\n",
    "I_p = (1,0,0)\n",
    "A_p = (sm.sqrt(l*l - 3* (w1 + 1))/l,   sm.sqrt(sm.Rational(3,2)) * (1 + w1) / l, sm.sqrt(sm.Rational(3,2)) * sm.sqrt(1- w1*w1)/l )\n",
    "C_p = (0, l / sm.sqrt(6), sm.sqrt(1 - (l*l)/6))\n",
    "D_p = (0 , sm.sqrt(sm.Rational(3,2)) / l , sm.sqrt(sm.Rational(3,2)) / l )\n",
    "FixedPoints_IXY = [X_m, X_p, I_p, A_p, C_p, D_p]\n",
    "FixedPoints_IXY"
   ]
  },
  {
   "cell_type": "markdown",
   "metadata": {},
   "source": [
    "#### Jacobian Matrix and Eigenvalues"
   ]
  },
  {
   "cell_type": "code",
   "execution_count": 12,
   "metadata": {},
   "outputs": [
    {
     "name": "stdout",
     "output_type": "stream",
     "text": [
      "Jacobian Matrix([[9*\\omega_i*i**2/2 - 3*\\omega_i/2 + 3*x**2/2 - 3*y**2/2, 3*i*x, -3*i*y], [3*\\omega_i*i*x, 3*\\omega_i*i**2/2 + 9*x**2/2 - 3*y**2/2 - 3/2, sqrt(6)*\\lambda*y - 3*x*y], [3*\\omega_i*i*y, -sqrt(6)*\\lambda*y/2 + 3*x*y, -sqrt(6)*\\lambda*x/2 + 3*\\omega_i*i**2/2 + 3*x**2/2 - 9*y**2/2 + 3/2]])\n",
      "---------------------\n"
     ]
    },
    {
     "data": {
      "text/latex": [
       "$$\\left[\\begin{matrix}\\frac{9 \\omega_i}{2} i^{2} - \\frac{3 \\omega_i}{2} + \\frac{3 x^{2}}{2} - \\frac{3 y^{2}}{2} & 3 i x & - 3 i y\\\\3 \\omega_i i x & \\frac{3 \\omega_i}{2} i^{2} + \\frac{9 x^{2}}{2} - \\frac{3 y^{2}}{2} - \\frac{3}{2} & \\sqrt{6} \\lambda y - 3 x y\\\\3 \\omega_i i y & - \\frac{\\lambda y}{2} \\sqrt{6} + 3 x y & - \\frac{\\lambda x}{2} \\sqrt{6} + \\frac{3 \\omega_i}{2} i^{2} + \\frac{3 x^{2}}{2} - \\frac{9 y^{2}}{2} + \\frac{3}{2}\\end{matrix}\\right]$$"
      ],
      "text/plain": [
       "⎡           2                  2      2                                       \n",
       "⎢9⋅\\omegaᵢ⋅i    3⋅\\omegaᵢ   3⋅x    3⋅y                                        \n",
       "⎢──────────── - ───────── + ──── - ────              3⋅i⋅x                    \n",
       "⎢     2             2        2      2                                         \n",
       "⎢                                                                             \n",
       "⎢                                                   2      2      2           \n",
       "⎢                                        3⋅\\omegaᵢ⋅i    9⋅x    3⋅y    3       \n",
       "⎢            3⋅\\omegaᵢ⋅i⋅x               ──────────── + ──── - ──── - ─       \n",
       "⎢                                             2          2      2     2       \n",
       "⎢                                                                             \n",
       "⎢                                                                             \n",
       "⎢                                              √6⋅\\lambda⋅y                √6⋅\n",
       "⎢            3⋅\\omegaᵢ⋅i⋅y                   - ──────────── + 3⋅x⋅y      - ───\n",
       "⎣                                                   2                         \n",
       "\n",
       "                                          ⎤\n",
       "                                          ⎥\n",
       "               -3⋅i⋅y                     ⎥\n",
       "                                          ⎥\n",
       "                                          ⎥\n",
       "                                          ⎥\n",
       "                                          ⎥\n",
       "        √6⋅\\lambda⋅y - 3⋅x⋅y              ⎥\n",
       "                                          ⎥\n",
       "                                          ⎥\n",
       "                       2      2      2    ⎥\n",
       "\\lambda⋅x   3⋅\\omegaᵢ⋅i    3⋅x    9⋅y    3⎥\n",
       "───────── + ──────────── + ──── - ──── + ─⎥\n",
       "  2              2          2      2     2⎦"
      ]
     },
     "execution_count": 12,
     "metadata": {},
     "output_type": "execute_result"
    },
    {
     "data": {
      "text/latex": [
       "$$\\left ( 0, \\quad -1, \\quad 0\\right )$$"
      ],
      "text/plain": [
       "(0, -1, 0)"
      ]
     },
     "execution_count": 12,
     "metadata": {},
     "output_type": "execute_result"
    },
    {
     "name": "stdout",
     "output_type": "stream",
     "text": [
      "The eigenvalues for the fixed point (0, -1, 0) are -3*\\omega_i/2 + 3/2, 3, ,sqrt(6)*\\lambda/2 + 3:\n"
     ]
    },
    {
     "data": {
      "text/latex": [
       "$$\\left [ - \\frac{3 \\omega_i}{2} + \\frac{3}{2}, \\quad 3, \\quad \\frac{\\sqrt{6} \\lambda}{2} + 3\\right ]$$"
      ],
      "text/plain": [
       "⎡  3⋅\\omegaᵢ   3     √6⋅\\lambda    ⎤\n",
       "⎢- ───────── + ─, 3, ────────── + 3⎥\n",
       "⎣      2       2         2         ⎦"
      ]
     },
     "execution_count": 12,
     "metadata": {},
     "output_type": "execute_result"
    },
    {
     "name": "stdout",
     "output_type": "stream",
     "text": [
      "-------------------------------------------\n"
     ]
    },
    {
     "data": {
      "text/latex": [
       "$$\\left ( 0, \\quad 1, \\quad 0\\right )$$"
      ],
      "text/plain": [
       "(0, 1, 0)"
      ]
     },
     "execution_count": 12,
     "metadata": {},
     "output_type": "execute_result"
    },
    {
     "name": "stdout",
     "output_type": "stream",
     "text": [
      "The eigenvalues for the fixed point (0, 1, 0) are -3*\\omega_i/2 + 3/2, 3, ,-sqrt(6)*\\lambda/2 + 3:\n"
     ]
    },
    {
     "data": {
      "text/latex": [
       "$$\\left [ - \\frac{3 \\omega_i}{2} + \\frac{3}{2}, \\quad 3, \\quad - \\frac{\\sqrt{6} \\lambda}{2} + 3\\right ]$$"
      ],
      "text/plain": [
       "⎡  3⋅\\omegaᵢ   3       √6⋅\\lambda    ⎤\n",
       "⎢- ───────── + ─, 3, - ────────── + 3⎥\n",
       "⎣      2       2           2         ⎦"
      ]
     },
     "execution_count": 12,
     "metadata": {},
     "output_type": "execute_result"
    },
    {
     "name": "stdout",
     "output_type": "stream",
     "text": [
      "-------------------------------------------\n"
     ]
    },
    {
     "data": {
      "text/latex": [
       "$$\\left ( 1, \\quad 0, \\quad 0\\right )$$"
      ],
      "text/plain": [
       "(1, 0, 0)"
      ]
     },
     "execution_count": 12,
     "metadata": {},
     "output_type": "execute_result"
    },
    {
     "name": "stdout",
     "output_type": "stream",
     "text": [
      "The eigenvalues for the fixed point (1, 0, 0) are 3*\\omega_i/2 + 3/2, 3*\\omega_i, ,3*\\omega_i/2 - 3/2:\n"
     ]
    },
    {
     "data": {
      "text/latex": [
       "$$\\left [ \\frac{3 \\omega_i}{2} + \\frac{3}{2}, \\quad 3 \\omega_i, \\quad \\frac{3 \\omega_i}{2} - \\frac{3}{2}\\right ]$$"
      ],
      "text/plain": [
       "⎡3⋅\\omegaᵢ   3             3⋅\\omegaᵢ   3⎤\n",
       "⎢───────── + ─, 3⋅\\omegaᵢ, ───────── - ─⎥\n",
       "⎣    2       2                 2       2⎦"
      ]
     },
     "execution_count": 12,
     "metadata": {},
     "output_type": "execute_result"
    },
    {
     "name": "stdout",
     "output_type": "stream",
     "text": [
      "-------------------------------------------\n"
     ]
    },
    {
     "data": {
      "text/latex": [
       "$$\\left ( \\frac{1}{\\lambda} \\sqrt{\\lambda^{2} - 3 \\omega_i - 3}, \\quad \\frac{\\sqrt{6} \\left(\\omega_i + 1\\right)}{2 \\lambda}, \\quad \\frac{\\sqrt{6}}{2 \\lambda} \\sqrt{- \\omega_i^{2} + 1}\\right )$$"
      ],
      "text/plain": [
       "⎛   __________________________                          ________________⎞\n",
       "⎜  ╱        2                                          ╱          2     ⎟\n",
       "⎜╲╱  \\lambda  - 3⋅\\omegaᵢ - 3   √6⋅(\\omegaᵢ + 1)  √6⋅╲╱  - \\omegaᵢ  + 1 ⎟\n",
       "⎜─────────────────────────────, ────────────────, ──────────────────────⎟\n",
       "⎝           \\lambda                2⋅\\lambda            2⋅\\lambda       ⎠"
      ]
     },
     "execution_count": 12,
     "metadata": {},
     "output_type": "execute_result"
    },
    {
     "name": "stdout",
     "output_type": "stream",
     "text": [
      "The eigenvalues for the fixed point (sqrt(\\lambda**2 - 3*\\omega_i - 3)/\\lambda, sqrt(6)*(\\omega_i + 1)/(2*\\lambda), sqrt(6)*sqrt(-\\omega_i**2 + 1)/(2*\\lambda)) are (3*\\lambda*\\omega_i - 3*\\lambda - 3*sqrt(9*\\lambda**2*\\omega_i**2 - 2*\\lambda**2*\\omega_i - 7*\\lambda**2 - 24*\\omega_i**3 - 24*\\omega_i**2 + 24*\\omega_i + 24))/(4*\\lambda), (3*\\lambda*\\omega_i - 3*\\lambda + 3*sqrt(9*\\lambda**2*\\omega_i**2 - 2*\\lambda**2*\\omega_i - 7*\\lambda**2 - 24*\\omega_i**3 - 24*\\omega_i**2 + 24*\\omega_i + 24))/(4*\\lambda), ,3*\\omega_i:\n"
     ]
    },
    {
     "data": {
      "text/latex": [
       "$$\\left [ \\frac{1}{4 \\lambda} \\left(3 \\lambda \\omega_i - 3 \\lambda - 3 \\sqrt{9 \\lambda^{2} \\omega_i^{2} - 2 \\lambda^{2} \\omega_i - 7 \\lambda^{2} - 24 \\omega_i^{3} - 24 \\omega_i^{2} + 24 \\omega_i + 24}\\right), \\quad \\frac{1}{4 \\lambda} \\left(3 \\lambda \\omega_i - 3 \\lambda + 3 \\sqrt{9 \\lambda^{2} \\omega_i^{2} - 2 \\lambda^{2} \\omega_i - 7 \\lambda^{2} - 24 \\omega_i^{3} - 24 \\omega_i^{2} + 24 \\omega_i + 24}\\right), \\quad 3 \\omega_i\\right ]$$"
      ],
      "text/plain": [
       "⎡                                     ________________________________________\n",
       "⎢                                    ╱          2        2            2       \n",
       "⎢3⋅\\lambda⋅\\omegaᵢ - 3⋅\\lambda - 3⋅╲╱  9⋅\\lambda ⋅\\omegaᵢ  - 2⋅\\lambda ⋅\\omega\n",
       "⎢─────────────────────────────────────────────────────────────────────────────\n",
       "⎣                                                                4⋅\\lambda    \n",
       "\n",
       "_____________________________________________________________                 \n",
       "             2             3             2                                    \n",
       "ᵢ - 7⋅\\lambda  - 24⋅\\omegaᵢ  - 24⋅\\omegaᵢ  + 24⋅\\omegaᵢ + 24   3⋅\\lambda⋅\\omeg\n",
       "─────────────────────────────────────────────────────────────, ───────────────\n",
       "                                                                              \n",
       "\n",
       "                      ________________________________________________________\n",
       "                     ╱          2        2            2                    2  \n",
       "aᵢ - 3⋅\\lambda + 3⋅╲╱  9⋅\\lambda ⋅\\omegaᵢ  - 2⋅\\lambda ⋅\\omegaᵢ - 7⋅\\lambda  -\n",
       "──────────────────────────────────────────────────────────────────────────────\n",
       "                                                 4⋅\\lambda                    \n",
       "\n",
       "_____________________________________________           ⎤\n",
       "           3             2                              ⎥\n",
       " 24⋅\\omegaᵢ  - 24⋅\\omegaᵢ  + 24⋅\\omegaᵢ + 24            ⎥\n",
       "─────────────────────────────────────────────, 3⋅\\omegaᵢ⎥\n",
       "                                                        ⎦"
      ]
     },
     "execution_count": 12,
     "metadata": {},
     "output_type": "execute_result"
    },
    {
     "name": "stdout",
     "output_type": "stream",
     "text": [
      "-------------------------------------------\n"
     ]
    },
    {
     "data": {
      "text/latex": [
       "$$\\left ( 0, \\quad \\frac{\\sqrt{6} \\lambda}{6}, \\quad \\sqrt{- \\frac{\\lambda^{2}}{6} + 1}\\right )$$"
      ],
      "text/plain": [
       "⎛                    ________________⎞\n",
       "⎜                   ╱          2     ⎟\n",
       "⎜   √6⋅\\lambda     ╱    \\lambda      ⎟\n",
       "⎜0, ──────────,   ╱   - ──────── + 1 ⎟\n",
       "⎝       6       ╲╱         6         ⎠"
      ]
     },
     "execution_count": 12,
     "metadata": {},
     "output_type": "execute_result"
    },
    {
     "name": "stdout",
     "output_type": "stream",
     "text": [
      "The eigenvalues for the fixed point (0, sqrt(6)*\\lambda/6, sqrt(-\\lambda**2/6 + 1)) are \\lambda**2/2 - 3, \\lambda**2/2 - 3*\\omega_i/2 - 3/2, ,\\lambda**2 - 3:\n"
     ]
    },
    {
     "data": {
      "text/latex": [
       "$$\\left [ \\frac{\\lambda^{2}}{2} - 3, \\quad \\frac{\\lambda^{2}}{2} - \\frac{3 \\omega_i}{2} - \\frac{3}{2}, \\quad \\lambda^{2} - 3\\right ]$$"
      ],
      "text/plain": [
       "⎡       2             2                              ⎤\n",
       "⎢\\lambda       \\lambda    3⋅\\omegaᵢ   3         2    ⎥\n",
       "⎢──────── - 3, ──────── - ───────── - ─, \\lambda  - 3⎥\n",
       "⎣   2             2           2       2              ⎦"
      ]
     },
     "execution_count": 12,
     "metadata": {},
     "output_type": "execute_result"
    },
    {
     "name": "stdout",
     "output_type": "stream",
     "text": [
      "-------------------------------------------\n"
     ]
    },
    {
     "data": {
      "text/latex": [
       "$$\\left ( 0, \\quad \\frac{\\sqrt{6}}{2 \\lambda}, \\quad \\frac{\\sqrt{6}}{2 \\lambda}\\right )$$"
      ],
      "text/plain": [
       "⎛       √6         √6   ⎞\n",
       "⎜0, ─────────, ─────────⎟\n",
       "⎝   2⋅\\lambda  2⋅\\lambda⎠"
      ]
     },
     "execution_count": 12,
     "metadata": {},
     "output_type": "execute_result"
    },
    {
     "name": "stdout",
     "output_type": "stream",
     "text": [
      "The eigenvalues for the fixed point (0, sqrt(6)/(2*\\lambda), sqrt(6)/(2*\\lambda)) are -3*\\omega_i/2, -(3*\\lambda - 3*sqrt(-7*\\lambda**2 + 24))/(4*\\lambda), ,-(3*\\lambda + 3*sqrt(-7*\\lambda**2 + 24))/(4*\\lambda):\n"
     ]
    },
    {
     "data": {
      "text/latex": [
       "$$\\left [ - \\frac{3 \\omega_i}{2}, \\quad - \\frac{1}{4 \\lambda} \\left(3 \\lambda - 3 \\sqrt{- 7 \\lambda^{2} + 24}\\right), \\quad - \\frac{1}{4 \\lambda} \\left(3 \\lambda + 3 \\sqrt{- 7 \\lambda^{2} + 24}\\right)\\right ]$$"
      ],
      "text/plain": [
       "⎡              ⎛                 ___________________⎞    ⎛                 ___\n",
       "⎢              ⎜                ╱            2      ⎟    ⎜                ╱   \n",
       "⎢-3⋅\\omegaᵢ   -⎝3⋅\\lambda - 3⋅╲╱  - 7⋅\\lambda  + 24 ⎠   -⎝3⋅\\lambda + 3⋅╲╱  - \n",
       "⎢───────────, ────────────────────────────────────────, ──────────────────────\n",
       "⎣     2                      4⋅\\lambda                                 4⋅\\lamb\n",
       "\n",
       "________________⎞ ⎤\n",
       "         2      ⎟ ⎥\n",
       "7⋅\\lambda  + 24 ⎠ ⎥\n",
       "──────────────────⎥\n",
       "da                ⎦"
      ]
     },
     "execution_count": 12,
     "metadata": {},
     "output_type": "execute_result"
    },
    {
     "name": "stdout",
     "output_type": "stream",
     "text": [
      "-------------------------------------------\n"
     ]
    }
   ],
   "source": [
    "# put equations into matrix-form and compute Jacobian-matrix  \n",
    "eqMat = sm.Matrix([I,X,Y])\n",
    "Mat = sm.Matrix([i,x,y])\n",
    "jacMat = eqMat.jacobian(Mat)\n",
    "print('Jacobian %s' % jacMat)\n",
    "print('---------------------')\n",
    "jacMat\n",
    "\n",
    "# iterate through list of FixedPoints\n",
    "for item in FixedPoints_IXY:\n",
    "    item\n",
    "    eqmat = jacMat.subs([ (i, item[0]), (x, item[1]), (y, item[2]) ]) \n",
    "    print('The eigenvalues for the fixed point (%s, %s, %s) are %s, %s, ,%s:' \n",
    "          %(item[0], item[1],item[2],eqmat.eigenvals().keys()[0], eqmat.eigenvals().keys()[1],eqmat.eigenvals().keys()[2]))\n",
    "    eqmat.eigenvals().keys()\n",
    "    print('-------------------------------------------')"
   ]
  },
  {
   "cell_type": "markdown",
   "metadata": {},
   "source": [
    "## $\\Omega_i$, $\\Omega_x$, $\\Omega_y$ Notation "
   ]
  },
  {
   "cell_type": "markdown",
   "metadata": {},
   "source": [
    "### 3D System"
   ]
  },
  {
   "cell_type": "code",
   "execution_count": 30,
   "metadata": {},
   "outputs": [
    {
     "name": "stdout",
     "output_type": "stream",
     "text": [
      "The autonomous equations are:\n"
     ]
    },
    {
     "data": {
      "text/latex": [
       "$$3 \\Omega_i \\left(\\Omega_x - \\Omega_y + \\omega_i \\left(\\Omega_i - 1\\right)\\right)$$"
      ],
      "text/plain": [
       "3⋅\\Omegaᵢ⋅(\\Omegaₓ - \\Omega_y + \\omegaᵢ⋅(\\Omegaᵢ - 1))"
      ]
     },
     "execution_count": 30,
     "metadata": {},
     "output_type": "execute_result"
    },
    {
     "data": {
      "text/latex": [
       "$$\\sqrt{6} \\sqrt{\\Omega_x} \\Omega_y \\lambda + 3 \\Omega_x \\left(\\Omega_i \\omega_i + \\Omega_x - \\Omega_y - 1\\right)$$"
      ],
      "text/plain": [
       "     _________                                                                \n",
       "√6⋅╲╱ \\Omegaₓ ⋅\\Omega_y⋅\\lambda + 3⋅\\Omegaₓ⋅(\\Omegaᵢ⋅\\omegaᵢ + \\Omegaₓ - \\Omeg\n",
       "\n",
       "        \n",
       "a_y - 1)"
      ]
     },
     "execution_count": 30,
     "metadata": {},
     "output_type": "execute_result"
    },
    {
     "data": {
      "text/latex": [
       "$$- \\sqrt{6} \\sqrt{\\Omega_x} \\Omega_y \\lambda + 3 \\Omega_y \\left(\\Omega_i \\omega_i + \\Omega_x - \\Omega_y + 1\\right)$$"
      ],
      "text/plain": [
       "       _________                                                              \n",
       "- √6⋅╲╱ \\Omegaₓ ⋅\\Omega_y⋅\\lambda + 3⋅\\Omega_y⋅(\\Omegaᵢ⋅\\omegaᵢ + \\Omegaₓ - \\O\n",
       "\n",
       "           \n",
       "mega_y + 1)"
      ]
     },
     "execution_count": 30,
     "metadata": {},
     "output_type": "execute_result"
    }
   ],
   "source": [
    "x = sm.symbols('\\Omega_x', nonnegative = True)\n",
    "i,y = sm.symbols('\\Omega_i,\\Omega_y', nonnegative = True)\n",
    "w1,l= sm.symbols('\\omega_i,\\lambda', positive = True, real = True)\n",
    "\n",
    "I = 3*i * (w1*(i-1) + x - y)\n",
    "X = 3*x * (w1*i + x - y -1) + l*y*sm.sqrt(6*x)\n",
    "Y = 3*y * (w1*i + x - y +1) - l*y*sm.sqrt(6*x)\n",
    "\n",
    "print 'The autonomous equations are:'\n",
    "I\n",
    "X\n",
    "Y"
   ]
  },
  {
   "cell_type": "markdown",
   "metadata": {},
   "source": [
    "#### Critical Points ($\\Omega_i$, $\\Omega_x$, $\\Omega_y$)"
   ]
  },
  {
   "cell_type": "code",
   "execution_count": 31,
   "metadata": {},
   "outputs": [
    {
     "data": {
      "text/latex": [
       "$$\\left [ \\left ( 0, \\quad 1, \\quad 0\\right ), \\quad \\left ( 1, \\quad 0, \\quad 0\\right ), \\quad \\left ( 0, \\quad 0, \\quad 1\\right ), \\quad \\left ( 1 - \\frac{1}{\\lambda^{2}} \\left(3 \\omega_i + 3\\right), \\quad \\frac{3 \\left(\\omega_i + 1\\right)^{2}}{2 \\lambda^{2}}, \\quad \\frac{1}{\\lambda^{2}} \\left(- \\frac{3 \\omega_i^{2}}{2} + \\frac{3}{2}\\right)\\right ), \\quad \\left ( 0, \\quad \\frac{\\lambda^{2}}{6}, \\quad - \\frac{\\lambda^{2}}{6} + 1\\right ), \\quad \\left ( 0, \\quad \\frac{3}{2 \\lambda^{2}}, \\quad \\frac{3}{2 \\lambda^{2}}\\right )\\right ]$$"
      ],
      "text/plain": [
       "⎡                                 ⎛                                           \n",
       "⎢                                 ⎜                                       3⋅\\o\n",
       "⎢                                 ⎜                                  2  - ────\n",
       "⎢                                 ⎜    3⋅\\omegaᵢ + 3  3⋅(\\omegaᵢ + 1)         \n",
       "⎢(0, 1, 0), (1, 0, 0), (0, 0, 1), ⎜1 - ─────────────, ────────────────, ──────\n",
       "⎢                                 ⎜              2                2           \n",
       "⎣                                 ⎝       \\lambda        2⋅\\lambda          \\l\n",
       "\n",
       "     2    ⎞                                                            ⎤\n",
       "megaᵢ    3⎟                                                            ⎥\n",
       "────── + ─⎟  ⎛          2           2    ⎞                             ⎥\n",
       "2        2⎟  ⎜   \\lambda     \\lambda     ⎟  ⎛       3           3     ⎞⎥\n",
       "──────────⎟, ⎜0, ────────, - ──────── + 1⎟, ⎜0, ──────────, ──────────⎟⎥\n",
       "     2    ⎟  ⎝      6           6        ⎠  ⎜            2           2⎟⎥\n",
       "ambda     ⎠                                 ⎝   2⋅\\lambda   2⋅\\lambda ⎠⎦"
      ]
     },
     "execution_count": 31,
     "metadata": {},
     "output_type": "execute_result"
    }
   ],
   "source": [
    "# Simultaneously solve three eqs. to find fixed pts\n",
    "# FixedPoints = sm.solve([I,X,Y], (i, x, y), simplify=True)  # Returns to array of fixed pts [(,) , (,) , ... ] #dict= True,\n",
    "# However, SymPy could NOT find CPs.. \n",
    "# Results from Mathematica:\n",
    "X_p = (0,1,0)\n",
    "I_p = (1,0,0)\n",
    "Y_p = (0,0,1)\n",
    "A_p = (1 - 3*(w1 + 1)/(l*l), sm.Rational(3,2)*(1 + w1)**2 /(l*l),sm.Rational(3,2)*(1 - w1**2) /(l*l))\n",
    "C_p = (0, (l*l)/6, 1 - (l*l)/6  )\n",
    "D_p = (0, sm.Rational(3,2) /(l*l),sm.Rational(3,2) /(l*l))\n",
    "FixedPoints_IXY = [X_p, I_p,Y_p, A_p, C_p, D_p]\n",
    "FixedPoints_IXY"
   ]
  },
  {
   "cell_type": "markdown",
   "metadata": {},
   "source": [
    "#### Jacobian and Eigenvalues"
   ]
  },
  {
   "cell_type": "code",
   "execution_count": null,
   "metadata": {},
   "outputs": [],
   "source": [
    "# put equations into matrix-form and compute Jacobian-matrix  \n",
    "eqMat = sm.Matrix([I,X,Y])\n",
    "Mat = sm.Matrix([i,x,y])\n",
    "jacMat = eqMat.jacobian(Mat)\n",
    "print('Jacobian %s' % jacMat)\n",
    "print('---------------------')\n",
    "jacMat\n",
    "\n",
    "# iterate through list of FixedPoints\n",
    "for item in FixedPoints_IXY:\n",
    "    item\n",
    "    eqmat = jacMat.subs([ (i, item[0]), (x, item[1]), (y, item[2]) ]) \n",
    "    #print('The eigenvalues for the fixed point (%s, %s, %s) are %s, %s, ,%s:' \n",
    "    #      %(item[0], item[1],item[2],eqmat.eigenvals().keys()[0], eqmat.eigenvals().keys()[1],eqmat.eigenvals().keys()[2]))\n",
    "    eqmat.eigenvals().keys()\n",
    "    print('-------------------------------------------')"
   ]
  },
  {
   "cell_type": "markdown",
   "metadata": {},
   "source": [
    "### 2D System"
   ]
  },
  {
   "cell_type": "code",
   "execution_count": 33,
   "metadata": {},
   "outputs": [
    {
     "name": "stdout",
     "output_type": "stream",
     "text": [
      "The autonomous equations are:\n"
     ]
    },
    {
     "data": {
      "text/latex": [
       "$$\\sqrt{6} \\sqrt{\\Omega_x} \\Omega_y \\lambda + 3 \\Omega_x \\left(- \\Omega_y \\left(\\omega_i + 1\\right) + \\left(\\Omega_x - 1\\right) \\left(- \\omega_i + 1\\right)\\right)$$"
      ],
      "text/plain": [
       "     _________                                                                \n",
       "√6⋅╲╱ \\Omegaₓ ⋅\\Omega_y⋅\\lambda + 3⋅\\Omegaₓ⋅(-\\Omega_y⋅(\\omegaᵢ + 1) + (\\Omega\n",
       "\n",
       "                      \n",
       "ₓ - 1)⋅(-\\omegaᵢ + 1))"
      ]
     },
     "execution_count": 33,
     "metadata": {},
     "output_type": "execute_result"
    },
    {
     "data": {
      "text/latex": [
       "$$- \\sqrt{6} \\sqrt{\\Omega_x} \\Omega_y \\lambda + 3 \\Omega_y \\left(\\Omega_x \\left(- \\omega_i + 1\\right) + \\left(- \\Omega_y + 1\\right) \\left(\\omega_i + 1\\right)\\right)$$"
      ],
      "text/plain": [
       "       _________                                                              \n",
       "- √6⋅╲╱ \\Omegaₓ ⋅\\Omega_y⋅\\lambda + 3⋅\\Omega_y⋅(\\Omegaₓ⋅(-\\omegaᵢ + 1) + (-\\Om\n",
       "\n",
       "                         \n",
       "ega_y + 1)⋅(\\omegaᵢ + 1))"
      ]
     },
     "execution_count": 33,
     "metadata": {},
     "output_type": "execute_result"
    }
   ],
   "source": [
    "x = sm.symbols('\\Omega_x')\n",
    "y = sm.symbols('\\Omega_y')\n",
    "w1,l= sm.symbols('\\omega_i,\\lambda', positive = True, real = True)\n",
    "\n",
    "X = 3*x * ((x-1)*(1-w1) - y*(1 + w1)) + l*y*sm.sqrt(6*x)\n",
    "Y = 3*y * (x*(1-w1) + (1-y)*(1+w1)) - l*y*sm.sqrt(6*x)\n",
    "\n",
    "print 'The autonomous equations are:'\n",
    "X\n",
    "Y"
   ]
  },
  {
   "cell_type": "markdown",
   "metadata": {},
   "source": [
    "#### Critical Points"
   ]
  },
  {
   "cell_type": "code",
   "execution_count": 34,
   "metadata": {},
   "outputs": [
    {
     "data": {
      "text/latex": [
       "$$\\left [ \\left ( 1, \\quad 0\\right ), \\quad \\left ( 0, \\quad 0\\right ), \\quad \\left ( 0, \\quad 1\\right ), \\quad \\left ( \\frac{3 \\left(\\omega_i + 1\\right)^{2}}{2 \\lambda^{2}}, \\quad \\frac{1}{\\lambda^{2}} \\left(- \\frac{3 \\omega_i^{2}}{2} + \\frac{3}{2}\\right)\\right ), \\quad \\left ( \\frac{\\lambda^{2}}{6}, \\quad - \\frac{\\lambda^{2}}{6} + 1\\right ), \\quad \\left ( \\frac{3}{2 \\lambda^{2}}, \\quad \\frac{3}{2 \\lambda^{2}}\\right )\\right ]$$"
      ],
      "text/plain": [
       "⎡                        ⎛                             2    ⎞                 \n",
       "⎢                        ⎜                    3⋅\\omegaᵢ    3⎟                 \n",
       "⎢                        ⎜               2  - ────────── + ─⎟  ⎛       2      \n",
       "⎢                        ⎜3⋅(\\omegaᵢ + 1)         2        2⎟  ⎜\\lambda     \\l\n",
       "⎢(1, 0), (0, 0), (0, 1), ⎜────────────────, ────────────────⎟, ⎜────────, - ──\n",
       "⎢                        ⎜            2                2    ⎟  ⎝   6          \n",
       "⎣                        ⎝   2⋅\\lambda          \\lambda     ⎠                 \n",
       "\n",
       "                                     ⎤\n",
       "                                     ⎥\n",
       "     2    ⎞                          ⎥\n",
       "ambda     ⎟  ⎛    3           3     ⎞⎥\n",
       "────── + 1⎟, ⎜──────────, ──────────⎟⎥\n",
       " 6        ⎠  ⎜         2           2⎟⎥\n",
       "             ⎝2⋅\\lambda   2⋅\\lambda ⎠⎦"
      ]
     },
     "execution_count": 34,
     "metadata": {},
     "output_type": "execute_result"
    }
   ],
   "source": [
    "# Simultaneously solve three eqs. to find fixed pts\n",
    "# FixedPoints = sm.solve([I,X,Y], (i, x, y), simplify=True)  # Returns to array of fixed pts [(,) , (,) , ... ] #dict= True,\n",
    "# However, SymPy could NOT find CPs.. \n",
    "# Results from Mathematica:\n",
    "X_p = (1,0)\n",
    "I_p = (0,0)\n",
    "Y_p = (0,1)\n",
    "A_p = (sm.Rational(3,2)*(1 + w1)**2 /(l*l),sm.Rational(3,2)*(1 - w1**2) /(l*l))\n",
    "C_p = ((l*l)/6, 1 - (l*l)/6  )\n",
    "D_p = (sm.Rational(3,2) /(l*l),sm.Rational(3,2) /(l*l))\n",
    "FixedPoints_XY = [X_p, I_p,Y_p, A_p, C_p, D_p]\n",
    "FixedPoints_XY"
   ]
  },
  {
   "cell_type": "markdown",
   "metadata": {},
   "source": [
    "#### Jacobian and Eigenvalues"
   ]
  },
  {
   "cell_type": "code",
   "execution_count": null,
   "metadata": {},
   "outputs": [],
   "source": [
    "# put equations into matrix-form and compute Jacobian-matrix  \n",
    "eqMat = sm.Matrix([X,Y])\n",
    "Mat = sm.Matrix([x,y])\n",
    "jacMat = eqMat.jacobian(Mat)\n",
    "print('Jacobian %s' % jacMat)\n",
    "print('---------------------')\n",
    "jacMat\n",
    "\n",
    "# iterate through list of FixedPoints\n",
    "for item in FixedPoints_XY:\n",
    "    item\n",
    "    eqmat = jacMat.subs([ (x, item[0]), (y, item[1]) ]) \n",
    "    #print('The eigenvalues for the fixed point (%s, %s) are %s, %s:' \n",
    "    #      %(item[0], item[1],eqmat.eigenvals().keys()[0], eqmat.eigenvals().keys()[1]))\n",
    "    eqmat.eigenvals().keys()\n",
    "    print('-------------------------------------------')"
   ]
  }
 ],
 "metadata": {
  "kernelspec": {
   "display_name": "Python 2",
   "language": "python",
   "name": "python2"
  },
  "language_info": {
   "codemirror_mode": {
    "name": "ipython",
    "version": 2
   },
   "file_extension": ".py",
   "mimetype": "text/x-python",
   "name": "python",
   "nbconvert_exporter": "python",
   "pygments_lexer": "ipython2",
   "version": "2.7.14"
  }
 },
 "nbformat": 4,
 "nbformat_minor": 2
}
