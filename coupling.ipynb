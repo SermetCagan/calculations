{
 "cells": [
  {
   "cell_type": "code",
   "execution_count": 1,
   "metadata": {
    "collapsed": true,
    "deletable": true,
    "editable": true
   },
   "outputs": [],
   "source": [
    "from __future__ import print_function\n",
    "from IPython.display import display, clear_output\n",
    "import sys, os\n",
    "import time\n",
    "import math\n",
    "import getdist.plots as gplot\n",
    "from sympy import *\n",
    "from sympy.solvers import solve\n",
    "from scipy import optimize\n",
    "from scipy.constants import physical_constants\n",
    "from sympy.physics.mechanics import dynamicsymbols, init_vprinting\n",
    "from matplotlib import pyplot as plt\n",
    "import scipy.integrate as integrate\n",
    "import numpy as np\n",
    "from my_integration import calculat_all\n",
    "\n",
    "\n",
    "init_vprinting()"
   ]
  },
  {
   "cell_type": "markdown",
   "metadata": {
    "deletable": true,
    "editable": true
   },
   "source": [
    "### Symbol definitions"
   ]
  },
  {
   "cell_type": "code",
   "execution_count": 2,
   "metadata": {
    "collapsed": true,
    "deletable": true,
    "editable": true
   },
   "outputs": [],
   "source": [
    "phi_ = Symbol('phi')\n",
    "Phi_ = Function('\\Phi')(phi_)\n",
    "xi_ = Symbol('xi')\n",
    "m_ = Symbol('m')\n",
    "Mp_ = Symbol('M_{p}')"
   ]
  },
  {
   "cell_type": "markdown",
   "metadata": {
    "deletable": true,
    "editable": true
   },
   "source": [
    "### Potentials"
   ]
  },
  {
   "cell_type": "code",
   "execution_count": 3,
   "metadata": {
    "collapsed": true,
    "deletable": true,
    "editable": true
   },
   "outputs": [],
   "source": [
    "U = 0.5*m_**2*phi_**2\n",
    "Om = 1 + xi_*phi_**2/Mp_**2\n",
    "dPdp2 = 1/Om + 3/2 * Mp_**2 * (diff(Om,phi_)/Om)**2\n",
    "dPdp = sqrt(1/Om + 3/2 * Mp_**2 * (diff(Om,phi_)/Om)**2)\n",
    "V = U/Om**2\n",
    "V_prime = diff(V,phi_)*(dPdp**(-1))\n",
    "V_pprime = diff(V_prime, phi_) * (dPdp**(-1))"
   ]
  },
  {
   "cell_type": "markdown",
   "metadata": {
    "deletable": true,
    "editable": true
   },
   "source": [
    "### Slow-roll parameter"
   ]
  },
  {
   "cell_type": "code",
   "execution_count": 4,
   "metadata": {
    "collapsed": true,
    "deletable": true,
    "editable": true
   },
   "outputs": [],
   "source": [
    "eps = Mp_**2/2 *(V_prime/V)**2\n",
    "eta = Mp_**2*(V_pprime/V)"
   ]
  },
  {
   "cell_type": "markdown",
   "metadata": {
    "deletable": true,
    "editable": true
   },
   "source": [
    "$$ \\epsilon = \\frac{2\\left(M_{p}^{2} - \\phi^{2}\\xi\\right)^{2}}{\\phi^{2}\\left(M_{p}^{2} + 6\\phi^{2}\\xi^{2} + \\phi^{2}\\xi\\right)}$$\n",
    "\n",
    "$$ \\eta = \\frac{\\left(2M_{p}^{6} - 12M_{p}^{4} \\phi^{2} \\xi - 72M_{p}^{2} \\phi^{4} \\xi^{3} - 10M_{p}^{2} \\phi^{4} \\xi^{2} + 24\\phi^{6} \\xi^{4} + 4\\phi^{6} \\xi^{3}\\right)}{\\phi^{2} \\left(1M_{p}^{4} + 12M_{p}^{2} \\phi^{2} \\xi^{2} + 2M_{p}^{2} \\phi^{2} \\xi + 36\\phi^{4} \\xi^{4} + 12\\phi^{4} \\xi^{3} + \\phi^{4} \\xi^{2}\\right)}$$"
   ]
  },
  {
   "cell_type": "markdown",
   "metadata": {
    "deletable": true,
    "editable": true
   },
   "source": [
    "### Scalar field at the end of inflation ($\\epsilon = 1$)\n",
    "$$\\phi_{f} = \\sqrt{\\frac{0.5 M_{p}^{2} \\left(\\left(4\\xi + 1\\right) \\left(12\\xi + 1\\right)\\right)^{0.5}}{\\xi \\left(4\\xi + 1\\right)} - \\frac{0.5 M_{p}^{2}}{\\xi}}$$\n"
   ]
  },
  {
   "cell_type": "code",
   "execution_count": 5,
   "metadata": {
    "collapsed": false,
    "deletable": true,
    "editable": true
   },
   "outputs": [
    {
     "data": {
      "image/png": "[encoded data removed]",
      "text/latex": [
       "$$\\sqrt{\\frac{0.5 M_{p}^{2} \\left(\\left(4.0 \\xi + 1.0\\right) \\left(12.0 \\xi + 1.0\\right)\\right)^{0.5}}{\\xi \\left(4.0 \\xi + 1.0\\right)} - \\frac{0.5 M_{p}^{2}}{\\xi}}$$"
      ],
      "text/plain": [
       "     ___________________________________________________________\n",
       "    ╱          2                               0.5            2 \n",
       "   ╱  0.5⋅M_{p} ⋅((4.0⋅ξ + 1.0)⋅(12.0⋅ξ + 1.0))      0.5⋅M_{p}  \n",
       "  ╱   ──────────────────────────────────────────── - ────────── \n",
       "╲╱                  ξ⋅(4.0⋅ξ + 1.0)                      ξ      "
      ]
     },
     "execution_count": 5,
     "metadata": {},
     "output_type": "execute_result"
    }
   ],
   "source": [
    "phi_f = solve(eps-1, phi_)\n",
    "phi_f[3]"
   ]
  },
  {
   "cell_type": "markdown",
   "metadata": {
    "deletable": true,
    "editable": true
   },
   "source": [
    "### Integration"
   ]
  },
  {
   "cell_type": "markdown",
   "metadata": {
    "deletable": true,
    "editable": true
   },
   "source": [
    "### Number of e-folding integral"
   ]
  },
  {
   "cell_type": "code",
   "execution_count": 6,
   "metadata": {
    "collapsed": false,
    "deletable": true,
    "editable": true
   },
   "outputs": [
    {
     "data": {
      "image/png": "[encoded data removed]",
      "text/latex": [
       "$$\\frac{0.5 \\sqrt{\\frac{M_{p}^{2} \\left(M_{p}^{2} + 6.0 \\phi^{2} \\xi^{2} + \\phi^{2} \\xi\\right)}{\\left(M_{p}^{2} + \\phi^{2} \\xi\\right)^{2}}}}{M_{p} \\sqrt{\\frac{\\left(M_{p}^{2} - \\phi^{2} \\xi\\right)^{2}}{\\phi^{2} \\left(M_{p}^{2} + 6.0 \\phi^{2} \\xi^{2} + \\phi^{2} \\xi\\right)}}}$$"
      ],
      "text/plain": [
       "           ____________________________________\n",
       "          ╱      2 ⎛     2        2  2    2  ⎞ \n",
       "         ╱  M_{p} ⋅⎝M_{p}  + 6.0⋅φ ⋅ξ  + φ ⋅ξ⎠ \n",
       "0.5⋅    ╱   ────────────────────────────────── \n",
       "       ╱                            2          \n",
       "      ╱              ⎛     2    2  ⎞           \n",
       "    ╲╱               ⎝M_{p}  + φ ⋅ξ⎠           \n",
       "───────────────────────────────────────────────\n",
       "              ________________________________ \n",
       "             ╱                       2         \n",
       "            ╱         ⎛     2    2  ⎞          \n",
       "           ╱          ⎝M_{p}  - φ ⋅ξ⎠          \n",
       " M_{p}⋅   ╱    ──────────────────────────────  \n",
       "         ╱      2 ⎛     2        2  2    2  ⎞  \n",
       "       ╲╱      φ ⋅⎝M_{p}  + 6.0⋅φ ⋅ξ  + φ ⋅ξ⎠  "
      ]
     },
     "execution_count": 6,
     "metadata": {},
     "output_type": "execute_result"
    }
   ],
   "source": [
    "simplify(dPdp/(Mp_ * sqrt(2*eps)))"
   ]
  },
  {
   "cell_type": "code",
   "execution_count": 7,
   "metadata": {
    "collapsed": true,
    "deletable": true,
    "editable": true
   },
   "outputs": [],
   "source": [
    "xi_ = np.linspace(-0.002,0.006,1000)\n",
    "Mp = physical_constants['Planck mass'][0]\n",
    "Mp = 4.341e-9\n",
    "\n",
    "def integrand_(phi, xi):\n",
    "    return 0.5*phi*(Mp**2 + 6*phi**2*xi**2 + phi**2*xi)/(Mp**4 - phi**4*xi**2)\n",
    "\n",
    "def phi_f(xi):\n",
    "    return np.sqrt(Mp**2*(np.sqrt(48*(xi**2) + 16*xi + 1) -1 -4*xi)/(8*(xi**2) + 2*xi))"
   ]
  },
  {
   "cell_type": "code",
   "execution_count": 37,
   "metadata": {
    "collapsed": true,
    "deletable": true,
    "editable": true
   },
   "outputs": [
    {
     "name": "stdout",
     "output_type": "stream",
     "text": [
      "1 2 3 4 5 6 7 8 9 10 11 12 13 14 15 16 17 18 19 20 21 22 23 24 25 26 27 28 29 30 31 32 33 34 35 36 37 38 39 40 41 42 43 44 45 46 47 48 49 50 51 52 53 54 55 56 57 58 59 60 61 62 63 64 65 66 67 68 69 70 71 72 73 74 75 76 77 78 79 80 81 82 83 84 85 86 87 88 89 90 91 92 93 94 95 96 97 98 99 100 101 102 103 104 105 106 107 108 109 110 111 112 113 114 115 116 117 118 119 120 121 122 123 124 125 126 127 128 129 130 131 132 133 134 135 136 137 138 139 140 141 142 143 144 145 146 147 148 149 150 151 152 153 154 155 156 157 158 159 160 161 162 163 164 165 166 167 168 169 170 171 172 173 174 175 176 177 178 179 180 181 182 183 184 185 186 187 188 189 190 191 192 193 194 195 196 197 198 199 200 201 202 203 204 205 206 207 208 209 210 211 212 213 214 215 216 217 218 219 220 221 222 223 224 225 226 227 228 229 230 231 232 233 234 235 236 237 238 239 240 241 242 243 244 245 246 247 248 249 250 251 252 253 254 255 256 257 258 259 260 261 262 263 264 265 266 267 268 269 270 271 272 273 274 275 276 277 278 279 280 281 282 283 284 285 286 287 288 289 290 291 292 293 294 295 296 297 298 299 300 301 302 303 304 305 306 307 308 309 310 311 312 313 314 315 316 317 318 319 320 321 322 323 324 325 326 327 328 329 330 331 332 333 334 335 336 337 338 339 340 341 342 343 344 345 346 347 348 349 350 351 352 353 354 355 356 357 358 359 360 361 362 363 364 365 366 367 368 369 370 371 372 373 374 375 376 377 378 379 380 381 382 383 384 385 386 387 388 389 390 391 392 393 394 395 396 397 398 399 400 401 402 403 404 405 406 407 408 409 410 411 412 413 414 415 416 417 418 419 420 421 422 423 424 425 426 427 428 429 430 431 432 433 434 435 436 437 438 439 440 441 442 443 444 445 446 447 448 449 450 451 452 453 454 455 456 457 458 459 460 461 462 463 464 465 466 467 468 469 470 471 472 473 474 475 476 477 478 479 480 481 482 483 484 485 486 487 488 489 490 491 492 493 494 495 496 497 498 499 500 501 502 503 504 505 506 507 508 509 510 511 512 513 514 515 516 517 518 519 520 521 522 523 524 525 526 527 528 529 530 531 532 533 534 535 536 537 538 539 540 541 542 543 544 545 546 547 548 549 550 551 552 553 554 555 556 557 558 559 560 561 562 563 564 565 566 567 568 569 570 571 572 573 574 575 576 577 578 579 580 581 582 583 584 585 586 587 588 589 590 591 592 593 594 595 596 597 598 599 600 601 602 603 604 605 606 607 608 609 610 611 612 613 614 615 616 617 618 619 620 621 622 623 624 625 626 627 628 629 630 631 632 633 634 635 636 637 638 639 640 641 642 643 644 645 646 647 648 649 650 651 652 653 654 655 656 657 658 659 660 661 662 663 664 665 666 667 668 669 670 671 672 673 674 675 676 677 678 679 680 681 682 683 684 685 686 687 688 689 690 691 692 693 694 695 696 697 698 699 700 701 702 703 704 705 706 707 708 709 710 711 712 713 714 715 716 717 718 719 720 721 722 723 724 725 726 727 728 729 730 731 732 733 734 735 736 737 738 739 740 741 742 743 744 745 746 747 748 749 750 751 752 753 754 755 756 757 758 759 760 761 762 763 764 765 766 767 768 769 770 771 772 773 774 775 776 777 778 779 780 781 782 783 784 785 786 787 788 789 790 791 792 793 794 795 796 797 798 799 800 801 802 803 804 805 806 807 808 809 810 811 812 813 814 815 816 817 818 819 820 821 822 823 824 825 826 827 828 829 830 831 832 833 834 835 836 837 838 839 840 841 842 843 844 845 846 847 848 849 850 851 852 853 854 855 856 857 858 859 860 861 862 863 864 865 866 867 868 869 870 871 872 873 874 875 876 877 878 879 880 881 882 883 884 885 886 887 888 889 890 891 892 893 894 895 896 897 898 899 900 901 902 903 904 905 906 907 908 909 910 911 912 913 914 915 916 917 918 919 920 921 922 923 924 925 926 927 928 929 930 931 932 933 934 935 936 937 938 939 940 941 942 943 944 945 946 947 948 949 950 951 952 953 954 955 956 957 958 959 960 961 962 963 964 965 966 967 968 969 970 971 972 973 974 975 976 977 978 979 980 981 982 983 984 985 986 987 988 989 990 991 992 993 994 995 996 997 998 999 1000 ************************************************************\n"
     ]
    }
   ],
   "source": [
    "xi_ = np.linspace(-0.002,0.005,1000)\n",
    "delta_phi = 1e-10\n",
    "tol = 1e-1\n",
    "N = 60\n",
    "number_of_trapz = 10000\n",
    "\n",
    "phi_i_60 = []\n",
    "phi_i_50 = []\n",
    "\n",
    "progress = 0\n",
    "for xi in xi_:\n",
    "    iterator = 1\n",
    "    integral_result = 0\n",
    "    while abs(N-integral_result) >= tol:\n",
    "        (r,w) = calculat_all(2**10, phi_f(xi), phi_f(xi) + iterator*delta_phi)\n",
    "        integral_result = np.dot(integrand_(r,xi),w)\n",
    "#         limits = np.linspace(phi_f(xi), phi_f(xi) + iterator*delta_phi, number_of_trapz)\n",
    "#         integral_result = np.trapz(integrand_(limits, xi), limits)\n",
    "        if abs(50 - integral_result) <= tol:\n",
    "            phi_i_50.append(phi_f(xi) + (iterator)*delta_phi)\n",
    "#             print(\"to 50 array with N = \", integral_result)\n",
    "        iterator += 1\n",
    "    progress += 1\n",
    "#     print(\"to 60 array with N = \", integral_result)\n",
    "    print(progress, end=' ')\n",
    "    phi_i_60.append(phi_f(xi) + (iterator-1)*delta_phi)\n",
    "\n",
    "print(60*'*')\n",
    "# N = 50\n",
    "# progress = 0\n",
    "# for xi in xi_:\n",
    "#     iterator = 1\n",
    "#     integral_result = 0\n",
    "#     while abs(N-integral_result) >= tol:\n",
    "#         (r,w) = calculat_all(2**10, phi_f(xi), phi_f(xi) + i*delta_phi)\n",
    "#         integral_result = np.dot(integrand_(r,xi),w)\n",
    "#         limits = np.linspace(phi_f(xi), phi_f(xi) + iterator*delta_phi, number_of_trapz)\n",
    "#         integral_result = np.trapz(integrand_(limits, xi), limits)\n",
    "#         iterator += 1\n",
    "#     progress += 1\n",
    "#     print(progress, end=' ')\n",
    "#     phi_i_50.append(phi_f(xi) + (iterator-1)*delta_phi)    "
   ]
  },
  {
   "cell_type": "code",
   "execution_count": 30,
   "metadata": {},
   "outputs": [
    {
     "data": {
      "image/png": "[encoded data removed]",
      "text/latex": [
       "$$-112.314507169$$"
      ],
      "text/plain": [
       "-112.314507169"
      ]
     },
     "execution_count": 30,
     "metadata": {},
     "output_type": "execute_result"
    }
   ],
   "source": [
    "res"
   ]
  },
  {
   "cell_type": "markdown",
   "metadata": {
    "deletable": true,
    "editable": true
   },
   "source": [
    "### Slow-roll parameter collection"
   ]
  },
  {
   "cell_type": "code",
   "execution_count": 38,
   "metadata": {
    "collapsed": true,
    "deletable": true,
    "editable": true
   },
   "outputs": [],
   "source": [
    "def epsi(phi, xi):\n",
    "    return 2.0*(Mp**2 - phi**2*xi)**2/(phi**2*(Mp**2 + 6.0*phi**2*xi**2 + phi**2*xi))\n",
    "def etaa(phi, xi):\n",
    "    return (2.0*Mp**6 - 12.0*Mp**4*phi**2*xi - 72.0*Mp**2*phi**4*xi**3 - 10.0*Mp**2*phi**4*xi**2 + 24.0*phi**6*xi**4 + \n",
    "            4.0*phi**6*xi**3)/(phi**2*(1.0*Mp**4 + 12.0*Mp**2*phi**2*xi**2 + 2.0*Mp**2*phi**2*xi + 36.0*phi**4*xi**4 + \n",
    "                                       12.0*phi**4*xi**3 + 1.0*phi**4*xi**2))\n",
    "\n",
    "_eta_60 = []\n",
    "_eps_60 = []\n",
    "_eta_50 = []\n",
    "_eps_50 = []\n",
    "\n",
    "for i in range(len(phi_i_60)):\n",
    "    _eta_60.append(etaa(phi_i_60[i], xi_[i]))\n",
    "    _eps_60.append(epsi(phi_i_60[i], xi_[i]))\n",
    "    _eta_50.append(etaa(phi_i_50[i], xi_[i]))\n",
    "    _eps_50.append(epsi(phi_i_50[i], xi_[i]))\n",
    "\n",
    "ns_60 = []\n",
    "r_60 = []\n",
    "ns_50 = []\n",
    "r_50 = []\n",
    "for i in range(len(phi_i_60)):\n",
    "    ns_60.append(1 + 2*_eta_60[i] - 6*_eps_60[i])\n",
    "    r_60.append(16*_eps_60[i])\n",
    "    ns_50.append(1 + 2*_eta_50[i] - 6*_eps_50[i])\n",
    "    r_50.append(16*_eps_50[i])    "
   ]
  },
  {
   "cell_type": "markdown",
   "metadata": {
    "deletable": true,
    "editable": true
   },
   "source": [
    "### Plotting"
   ]
  },
  {
   "cell_type": "code",
   "execution_count": null,
   "metadata": {
    "collapsed": false,
    "deletable": true,
    "editable": true
   },
   "outputs": [],
   "source": [
    "%matplotlib qt\n",
    "\n",
    "g = gplot.getSinglePlotter(chain_dir=[r'/Volumes/Newton/planck/2018/COM_CosmoParams_fullGrid_R3.00/base_r/plikHM_TT_lowl_lowE',\n",
    "                                      r'/Volumes/Newton/planck/2018/COM_CosmoParams_fullGrid_R3.00/base_r/plikHM_TTTEEE_lowl_lowE',\n",
    "                                      r'/Volumes/Newton/planck/2018/COM_CosmoParams_fullGrid_R3.00/base_r/CamSpecHM_TTTEEE_lowl_lowE_lensing',\n",
    "                                      r'/Volumes/Newton/planck/2015/COM_CosmoParams_fullGrid_R2.00/base_r/plikHM_TT_lowTEB'])\n",
    "g.settings.legend_frame = False\n",
    "g.settings.legend_loc = 'best'\n",
    "g.settings.figure_legend_frame = False\n",
    "\n",
    "roots = []\n",
    "roots.append('base_r_plikHM_TT_lowl_lowE')\n",
    "roots.append('base_r_plikHM_TT_lowl_lowE_post_BAO')\n",
    "roots.append('base_r_plikHM_TTTEEE_lowl_lowE')\n",
    "roots.append('base_r_CamSpecHM_TTTEEE_lowl_lowE_lensing')\n",
    "roots.append('base_r_plikHM_TT_lowTEB')\n",
    "roots.append('base_r_plikHM_TT_lowTEB_post_BAO')\n",
    "pairs = [('ns','r')]\n",
    "\n",
    "g.plots_2d(roots, param_pairs=pairs, legend_labels=[], filled=True, shaded=False)\n",
    "g.add_line([0.96694214876], [0.132231404959], label=['N = 60'], ls='None', zorder=3, color='red', marker='o', markeredgewidth=7)\n",
    "g.add_line([0.960396039604], [0.158415841584], label=['N = 50'], ls='None', zorder=3, color='red', marker='o', markeredgewidth=2)\n",
    "\n",
    "leg1 = g.add_legend(['Planck TT','Planck TT + BAO','Planck TTTEEE','CamSpec TTTEEE + Lensing','Planck 2015 TT', 'Planck 2015 TT + BAO'], colored_text=True, fontsize=13, legend_loc='upper left', figure=False)\n",
    "leg2 = g.subplots[0,0].legend(['N = 60', 'N = 50'], loc='upper right', frameon=False)\n",
    "g.subplots[0,0].add_artist(leg1)\n",
    "\n",
    "plt.scatter(x60, y60, c=xi_, s=1, cmap = 'inferno', vmin=xi_.min(), vmax=xi_.max())\n",
    "plt.scatter(x50, y50, c=xi_, s=1, cmap = 'inferno', vmin=xi_.min(), vmax=xi_.max())\n",
    "\n",
    "plt.colorbar(label = r'$\\xi$')\n",
    "plt.xlim(0.94,0.98)\n",
    "plt.ylim(0.00,0.20)\n",
    "\n",
    "plt.show()\n",
    "\n",
    "#g.export('nm.pdf',adir='coupling/150205193/figures/')"
   ]
  },
  {
   "cell_type": "markdown",
   "metadata": {
    "deletable": true,
    "editable": true
   },
   "source": [
    "### File I/O"
   ]
  },
  {
   "cell_type": "code",
   "execution_count": 44,
   "metadata": {
    "collapsed": true,
    "deletable": true,
    "editable": true
   },
   "outputs": [],
   "source": [
    "f = open(\"/Users/sermetcagan/Desktop/60efold.txt\",'w+')\n",
    "for i in range(len(ns_60)):\n",
    "    f.write(str(ns_60[i]) + ' ' + str(r_60[i]) + \"\\n\")\n",
    "f.close()\n",
    "f = open(\"/Users/sermetcagan/Desktop/50efold.txt\", 'w+')\n",
    "for i in range(len(ns_60)):\n",
    "    f.write(str(ns_50[i]) + ' ' + str(r_50[i]) + \"\\n\")\n",
    "f.close()"
   ]
  },
  {
   "cell_type": "code",
   "execution_count": 9,
   "metadata": {
    "collapsed": true,
    "deletable": true,
    "editable": true
   },
   "outputs": [],
   "source": [
    "f = open(\"/Users/sermetcagan/Desktop/60efold.txt\",'w+')\n",
    "lines = f.readlines()\n",
    "x60 = []\n",
    "y60 = []\n",
    "x50 = []\n",
    "y50 = []\n",
    "\n",
    "x60 = [float([lines[i].strip(\"\\n\").split(\" \") for i in range(len(lines))][j][0]) for j in range(len(lines))]\n",
    "y60 = [float([lines[i].strip(\"\\n\").split(\" \") for i in range(len(lines))][j][1]) for j in range(len(lines))]\n",
    "f.close()\n",
    "\n",
    "f = open(\"/Users/sermetcagan/Desktop/50efold.txt\",'w+')\n",
    "lines = f.readlines()\n",
    "x50 = [float([lines[i].strip(\"\\n\").split(\" \") for i in range(len(lines))][j][0]) for j in range(len(lines))]\n",
    "y50 = [float([lines[i].strip(\"\\n\").split(\" \") for i in range(len(lines))][j][1]) for j in range(len(lines))]\n",
    "f.close()"
   ]
  },
  {
   "cell_type": "code",
   "execution_count": null,
   "metadata": {
    "collapsed": true,
    "deletable": true,
    "editable": true
   },
   "outputs": [],
   "source": []
  }
 ],
 "metadata": {
  "kernelspec": {
   "display_name": "Python 3",
   "language": "python",
   "name": "python3"
  },
  "language_info": {
   "codemirror_mode": {
    "name": "ipython",
    "version": 3
   },
   "file_extension": ".py",
   "mimetype": "text/x-python",
   "name": "python",
   "nbconvert_exporter": "python",
   "pygments_lexer": "ipython3",
   "version": "3.7.2"
  }
 },
 "nbformat": 4,
 "nbformat_minor": 2
}
