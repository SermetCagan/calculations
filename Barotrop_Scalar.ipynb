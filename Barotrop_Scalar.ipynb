{
 "cells": [
  {
   "cell_type": "markdown",
   "metadata": {},
   "source": [
    "# 1 Barotrop + Quintessence with $V(\\phi) = V_0 e^{-\\lambda \\kappa \\phi}$"
   ]
  },
  {
   "cell_type": "markdown",
   "metadata": {},
   "source": [
    "## I, X, Y Notation "
   ]
  },
  {
   "cell_type": "markdown",
   "metadata": {},
   "source": [
    "### 3D System (I, X, Y)"
   ]
  },
  {
   "cell_type": "markdown",
   "metadata": {},
   "source": [
    "#### Autonomous Equations"
   ]
  },
  {
   "cell_type": "markdown",
   "metadata": {},
   "source": [
    "\\begin{align}\n",
    "\\label{eq:1barotrop_1scalar_ixy}\n",
    "\\begin{split}\n",
    "i' &= \\frac{3}{2} i (\\omega_i \\, i^2 + x^2 - y^2 - \\omega_i) \\\\[0.75ex]\n",
    "x' &= \\sqrt{\\frac{3}{2}} \\lambda y^2 + \\frac{3}{2}x (\\omega_i \\, i^2  + x^2 - y^2 -1) \\\\[0.75ex]\n",
    "y' &= -\\sqrt{\\frac{3}{2}} \\lambda x y + \\frac{3}{2}y (\\omega_i \\, i^2 + x^2 - y^2 +1) \n",
    "\\end{split}\n",
    "\\end{align}"
   ]
  },
  {
   "cell_type": "markdown",
   "metadata": {},
   "source": [
    "#### Necessary Modules"
   ]
  },
  {
   "cell_type": "code",
   "execution_count": 1,
   "metadata": {},
   "outputs": [],
   "source": [
    "from __future__ import division\n",
    "import numpy as np\n",
    "import sympy as sm\n",
    "import numpy as np\n",
    "import matplotlib.pyplot as plt\n",
    "from mpl_toolkits.mplot3d import Axes3D\n",
    "import matplotlib as mpl\n",
    "sm.init_printing(use_latex = 'mathjax')\n",
    "from IPython.core.interactiveshell import InteractiveShell\n",
    "InteractiveShell.ast_node_interactivity = \"all\""
   ]
  },
  {
   "cell_type": "markdown",
   "metadata": {},
   "source": [
    "#### Define System"
   ]
  },
  {
   "cell_type": "code",
   "execution_count": 3,
   "metadata": {},
   "outputs": [
    {
     "name": "stdout",
     "output_type": "stream",
     "text": [
      "The autonomous equations are:\n"
     ]
    },
    {
     "data": {
      "text/latex": [
       "$$\\frac{3 i}{2} \\left(\\omega_i i^{2} - \\omega_i + x^{2} - y^{2}\\right)$$"
      ],
      "text/plain": [
       "    ⎛         2              2    2⎞\n",
       "3⋅i⋅⎝\\omegaᵢ⋅i  - \\omegaᵢ + x  - y ⎠\n",
       "────────────────────────────────────\n",
       "                 2                  "
      ]
     },
     "execution_count": 3,
     "metadata": {},
     "output_type": "execute_result"
    },
    {
     "data": {
      "text/latex": [
       "$$\\frac{\\sqrt{6} \\lambda}{2} y^{2} + \\frac{3 x}{2} \\left(\\omega_i i^{2} + x^{2} - y^{2} - 1\\right)$$"
      ],
      "text/plain": [
       "            2       ⎛         2    2    2    ⎞\n",
       "√6⋅\\lambda⋅y    3⋅x⋅⎝\\omegaᵢ⋅i  + x  - y  - 1⎠\n",
       "───────────── + ──────────────────────────────\n",
       "      2                       2               "
      ]
     },
     "execution_count": 3,
     "metadata": {},
     "output_type": "execute_result"
    },
    {
     "data": {
      "text/latex": [
       "$$- \\frac{x y}{2} \\sqrt{6} \\lambda + \\frac{3 y}{2} \\left(\\omega_i i^{2} + x^{2} - y^{2} + 1\\right)$$"
      ],
      "text/plain": [
       "                       ⎛         2    2    2    ⎞\n",
       "  √6⋅\\lambda⋅x⋅y   3⋅y⋅⎝\\omegaᵢ⋅i  + x  - y  + 1⎠\n",
       "- ────────────── + ──────────────────────────────\n",
       "        2                        2               "
      ]
     },
     "execution_count": 3,
     "metadata": {},
     "output_type": "execute_result"
    }
   ],
   "source": [
    "x = sm.symbols('x')\n",
    "i,y = sm.symbols('i,y', nonnegative = True)\n",
    "w1,l= sm.symbols('\\omega_i,\\lambda', positive = True, real = True)\n",
    "\n",
    "I = sm.Rational(3,2) * i * (w1 * i*i + x*x - y*y - w1)\n",
    "X = sm.sqrt(sm.Rational(3,2)) * l * y*y + sm.Rational(3,2)* x * (w1 * i*i + x*x - y*y - 1)\n",
    "Y = -sm.sqrt(sm.Rational(3,2)) * l * x * y + sm.Rational(3,2)* y * (w1 * i*i + x*x - y*y + 1)\n",
    "\n",
    "print('The autonomous equations are:')\n",
    "I\n",
    "X\n",
    "Y\n"
   ]
  },
  {
   "cell_type": "markdown",
   "metadata": {},
   "source": [
    "#### Critical Points (I,X,Y)"
   ]
  },
  {
   "cell_type": "code",
   "execution_count": 4,
   "metadata": {},
   "outputs": [
    {
     "data": {
      "text/latex": [
       "$$\\left [ \\left ( 0, \\quad -1, \\quad 0\\right ), \\quad \\left ( 0, \\quad 1, \\quad 0\\right ), \\quad \\left ( 1, \\quad 0, \\quad 0\\right ), \\quad \\left ( \\frac{1}{\\lambda} \\sqrt{\\lambda^{2} - 3 \\omega_i - 3}, \\quad \\frac{\\sqrt{6} \\left(\\omega_i + 1\\right)}{2 \\lambda}, \\quad \\frac{\\sqrt{6}}{2 \\lambda} \\sqrt{- \\omega_i^{2} + 1}\\right ), \\quad \\left ( 0, \\quad \\frac{\\sqrt{6} \\lambda}{6}, \\quad \\sqrt{- \\frac{\\lambda^{2}}{6} + 1}\\right ), \\quad \\left ( 0, \\quad \\frac{\\sqrt{6}}{2 \\lambda}, \\quad \\frac{\\sqrt{6}}{2 \\lambda}\\right )\\right ]$$"
      ],
      "text/plain": [
       "⎡                                  ⎛   __________________________             \n",
       "⎢                                  ⎜  ╱        2                              \n",
       "⎢                                  ⎜╲╱  \\lambda  - 3⋅\\omegaᵢ - 3   √6⋅(\\omegaᵢ\n",
       "⎢(0, -1, 0), (0, 1, 0), (1, 0, 0), ⎜─────────────────────────────, ───────────\n",
       "⎣                                  ⎝           \\lambda                2⋅\\lambd\n",
       "\n",
       "             ________________⎞  ⎛                    ________________⎞        \n",
       "            ╱          2     ⎟  ⎜                   ╱          2     ⎟        \n",
       " + 1)  √6⋅╲╱  - \\omegaᵢ  + 1 ⎟  ⎜   √6⋅\\lambda     ╱    \\lambda      ⎟  ⎛     \n",
       "─────, ──────────────────────⎟, ⎜0, ──────────,   ╱   - ──────── + 1 ⎟, ⎜0, ──\n",
       "a            2⋅\\lambda       ⎠  ⎝       6       ╲╱         6         ⎠  ⎝   2⋅\n",
       "\n",
       "                   ⎤\n",
       "                   ⎥\n",
       "  √6         √6   ⎞⎥\n",
       "───────, ─────────⎟⎥\n",
       "\\lambda  2⋅\\lambda⎠⎦"
      ]
     },
     "execution_count": 4,
     "metadata": {},
     "output_type": "execute_result"
    }
   ],
   "source": [
    "# Simultaneously solve three eqs. to find fixed pts\n",
    "# FixedPoints = sm.solve([I,X,Y], (i, x, y), simplify=True)  # Returns to array of fixed pts [(,) , (,) , ... ] #dict= True,\n",
    "# However, SymPy could NOT find CPs.. \n",
    "# Results from Mathematica:\n",
    "X_m = (0,-1,0)\n",
    "X_p = (0,1,0)\n",
    "I_p = (1,0,0)\n",
    "A_p = (sm.sqrt(l*l - 3* (w1 + 1))/l,   sm.sqrt(sm.Rational(3,2)) * (1 + w1) / l, sm.sqrt(sm.Rational(3,2)) * sm.sqrt(1- w1*w1)/l )\n",
    "C_p = (0, l / sm.sqrt(6), sm.sqrt(1 - (l*l)/6))\n",
    "D_p = (0 , sm.sqrt(sm.Rational(3,2)) / l , sm.sqrt(sm.Rational(3,2)) / l )\n",
    "FixedPoints_IXY = [X_m, X_p, I_p, A_p, C_p, D_p]\n",
    "FixedPoints_IXY"
   ]
  },
  {
   "cell_type": "markdown",
   "metadata": {},
   "source": [
    "#### Jacobian Matrix and Eigenvalues"
   ]
  },
  {
   "cell_type": "code",
   "execution_count": 5,
   "metadata": {},
   "outputs": [
    {
     "name": "stdout",
     "output_type": "stream",
     "text": [
      "Jacobian Matrix([[9*\\omega_i*i**2/2 - 3*\\omega_i/2 + 3*x**2/2 - 3*y**2/2, 3*i*x, -3*i*y], [3*\\omega_i*i*x, 3*\\omega_i*i**2/2 + 9*x**2/2 - 3*y**2/2 - 3/2, sqrt(6)*\\lambda*y - 3*x*y], [3*\\omega_i*i*y, -sqrt(6)*\\lambda*y/2 + 3*x*y, -sqrt(6)*\\lambda*x/2 + 3*\\omega_i*i**2/2 + 3*x**2/2 - 9*y**2/2 + 3/2]])\n",
      "---------------------\n"
     ]
    },
    {
     "data": {
      "text/latex": [
       "$$\\left[\\begin{matrix}\\frac{9 \\omega_i}{2} i^{2} - \\frac{3 \\omega_i}{2} + \\frac{3 x^{2}}{2} - \\frac{3 y^{2}}{2} & 3 i x & - 3 i y\\\\3 \\omega_i i x & \\frac{3 \\omega_i}{2} i^{2} + \\frac{9 x^{2}}{2} - \\frac{3 y^{2}}{2} - \\frac{3}{2} & \\sqrt{6} \\lambda y - 3 x y\\\\3 \\omega_i i y & - \\frac{\\lambda y}{2} \\sqrt{6} + 3 x y & - \\frac{\\lambda x}{2} \\sqrt{6} + \\frac{3 \\omega_i}{2} i^{2} + \\frac{3 x^{2}}{2} - \\frac{9 y^{2}}{2} + \\frac{3}{2}\\end{matrix}\\right]$$"
      ],
      "text/plain": [
       "⎡           2                  2      2                                       \n",
       "⎢9⋅\\omegaᵢ⋅i    3⋅\\omegaᵢ   3⋅x    3⋅y                                        \n",
       "⎢──────────── - ───────── + ──── - ────              3⋅i⋅x                    \n",
       "⎢     2             2        2      2                                         \n",
       "⎢                                                                             \n",
       "⎢                                                   2      2      2           \n",
       "⎢                                        3⋅\\omegaᵢ⋅i    9⋅x    3⋅y    3       \n",
       "⎢            3⋅\\omegaᵢ⋅i⋅x               ──────────── + ──── - ──── - ─       \n",
       "⎢                                             2          2      2     2       \n",
       "⎢                                                                             \n",
       "⎢                                                                             \n",
       "⎢                                              √6⋅\\lambda⋅y                √6⋅\n",
       "⎢            3⋅\\omegaᵢ⋅i⋅y                   - ──────────── + 3⋅x⋅y      - ───\n",
       "⎣                                                   2                         \n",
       "\n",
       "                                          ⎤\n",
       "                                          ⎥\n",
       "               -3⋅i⋅y                     ⎥\n",
       "                                          ⎥\n",
       "                                          ⎥\n",
       "                                          ⎥\n",
       "                                          ⎥\n",
       "        √6⋅\\lambda⋅y - 3⋅x⋅y              ⎥\n",
       "                                          ⎥\n",
       "                                          ⎥\n",
       "                       2      2      2    ⎥\n",
       "\\lambda⋅x   3⋅\\omegaᵢ⋅i    3⋅x    9⋅y    3⎥\n",
       "───────── + ──────────── + ──── - ──── + ─⎥\n",
       "  2              2          2      2     2⎦"
      ]
     },
     "execution_count": 5,
     "metadata": {},
     "output_type": "execute_result"
    },
    {
     "data": {
      "text/latex": [
       "$$\\left ( 0, \\quad -1, \\quad 0\\right )$$"
      ],
      "text/plain": [
       "(0, -1, 0)"
      ]
     },
     "execution_count": 5,
     "metadata": {},
     "output_type": "execute_result"
    },
    {
     "ename": "TypeError",
     "evalue": "'dict_keys' object does not support indexing",
     "output_type": "error",
     "traceback": [
      "\u001b[0;31m---------------------------------------------------------------------------\u001b[0m",
      "\u001b[0;31mTypeError\u001b[0m                                 Traceback (most recent call last)",
      "\u001b[0;32m<ipython-input-5-c8fa41443550>\u001b[0m in \u001b[0;36m<module>\u001b[0;34m()\u001b[0m\n\u001b[1;32m     12\u001b[0m     \u001b[0meqmat\u001b[0m \u001b[0;34m=\u001b[0m \u001b[0mjacMat\u001b[0m\u001b[0;34m.\u001b[0m\u001b[0msubs\u001b[0m\u001b[0;34m(\u001b[0m\u001b[0;34m[\u001b[0m \u001b[0;34m(\u001b[0m\u001b[0mi\u001b[0m\u001b[0;34m,\u001b[0m \u001b[0mitem\u001b[0m\u001b[0;34m[\u001b[0m\u001b[0;36m0\u001b[0m\u001b[0;34m]\u001b[0m\u001b[0;34m)\u001b[0m\u001b[0;34m,\u001b[0m \u001b[0;34m(\u001b[0m\u001b[0mx\u001b[0m\u001b[0;34m,\u001b[0m \u001b[0mitem\u001b[0m\u001b[0;34m[\u001b[0m\u001b[0;36m1\u001b[0m\u001b[0;34m]\u001b[0m\u001b[0;34m)\u001b[0m\u001b[0;34m,\u001b[0m \u001b[0;34m(\u001b[0m\u001b[0my\u001b[0m\u001b[0;34m,\u001b[0m \u001b[0mitem\u001b[0m\u001b[0;34m[\u001b[0m\u001b[0;36m2\u001b[0m\u001b[0;34m]\u001b[0m\u001b[0;34m)\u001b[0m \u001b[0;34m]\u001b[0m\u001b[0;34m)\u001b[0m\u001b[0;34m\u001b[0m\u001b[0m\n\u001b[1;32m     13\u001b[0m     print('The eigenvalues for the fixed point (%s, %s, %s) are %s, %s, ,%s:' \n\u001b[0;32m---> 14\u001b[0;31m           %(item[0], item[1],item[2],eqmat.eigenvals().keys()[0], eqmat.eigenvals().keys()[1],eqmat.eigenvals().keys()[2]))\n\u001b[0m\u001b[1;32m     15\u001b[0m     \u001b[0meqmat\u001b[0m\u001b[0;34m.\u001b[0m\u001b[0meigenvals\u001b[0m\u001b[0;34m(\u001b[0m\u001b[0;34m)\u001b[0m\u001b[0;34m.\u001b[0m\u001b[0mkeys\u001b[0m\u001b[0;34m(\u001b[0m\u001b[0;34m)\u001b[0m\u001b[0;34m\u001b[0m\u001b[0m\n\u001b[1;32m     16\u001b[0m     \u001b[0mprint\u001b[0m\u001b[0;34m(\u001b[0m\u001b[0;34m'-------------------------------------------'\u001b[0m\u001b[0;34m)\u001b[0m\u001b[0;34m\u001b[0m\u001b[0m\n",
      "\u001b[0;31mTypeError\u001b[0m: 'dict_keys' object does not support indexing"
     ]
    }
   ],
   "source": [
    "# put equations into matrix-form and compute Jacobian-matrix  \n",
    "eqMat = sm.Matrix([I,X,Y])\n",
    "Mat = sm.Matrix([i,x,y])\n",
    "jacMat = eqMat.jacobian(Mat)\n",
    "print('Jacobian %s' % jacMat)\n",
    "print('---------------------')\n",
    "jacMat\n",
    "\n",
    "# iterate through list of FixedPoints\n",
    "# for item in FixedPoints_IXY:\n",
    "#     item\n",
    "#     eqmat = jacMat.subs([ (i, item[0]), (x, item[1]), (y, item[2]) ]) \n",
    "#     print('The eigenvalues for the fixed point (%s, %s, %s) are %s, %s, ,%s:' \n",
    "#           %(item[0], item[1],item[2],eqmat.eigenvals().keys()[0], eqmat.eigenvals().keys()[1],eqmat.eigenvals().keys()[2]))\n",
    "#     eqmat.eigenvals().keys()\n",
    "#     print('-------------------------------------------')"
   ]
  },
  {
   "cell_type": "code",
   "execution_count": 11,
   "metadata": {},
   "outputs": [
    {
     "data": {
      "text/latex": [
       "$$\\left \\{ - 3 \\omega_i : 1, \\quad - \\frac{1}{4 \\lambda} \\left(3 \\lambda - 3 \\sqrt{- 7 \\lambda^{2} + 24}\\right) : 1, \\quad - \\frac{1}{4 \\lambda} \\left(3 \\lambda + 3 \\sqrt{- 7 \\lambda^{2} + 24}\\right) : 1\\right \\}$$"
      ],
      "text/plain": [
       "⎧                ⎛                 ___________________⎞       ⎛               \n",
       "⎪                ⎜                ╱            2      ⎟       ⎜               \n",
       "⎨               -⎝3⋅\\lambda - 3⋅╲╱  - 7⋅\\lambda  + 24 ⎠      -⎝3⋅\\lambda + 3⋅╲\n",
       "⎪-3⋅\\omegaᵢ: 1, ────────────────────────────────────────: 1, ─────────────────\n",
       "⎩                              4⋅\\lambda                                    4⋅\n",
       "\n",
       "  ___________________⎞    ⎫\n",
       " ╱            2      ⎟    ⎪\n",
       "╱  - 7⋅\\lambda  + 24 ⎠    ⎬\n",
       "───────────────────────: 1⎪\n",
       "\\lambda                   ⎭"
      ]
     },
     "execution_count": 11,
     "metadata": {},
     "output_type": "execute_result"
    }
   ],
   "source": [
    "jacMat.subs([ (i, item[0]), (x, item[1]), (y, item[2]) ]).eigenvals()"
   ]
  },
  {
   "cell_type": "markdown",
   "metadata": {},
   "source": [
    "## $\\Omega_i$, $\\Omega_x$, $\\Omega_y$ Notation "
   ]
  },
  {
   "cell_type": "markdown",
   "metadata": {},
   "source": [
    "### 3D System"
   ]
  },
  {
   "cell_type": "code",
   "execution_count": 7,
   "metadata": {},
   "outputs": [
    {
     "name": "stdout",
     "output_type": "stream",
     "text": [
      "The autonomous equations are:\n"
     ]
    },
    {
     "data": {
      "text/latex": [
       "$$3 \\Omega_i \\left(\\Omega_x - \\Omega_y + \\omega_i \\left(\\Omega_i - 1\\right)\\right)$$"
      ],
      "text/plain": [
       "3⋅\\Omegaᵢ⋅(\\Omegaₓ - \\Omega_y + \\omegaᵢ⋅(\\Omegaᵢ - 1))"
      ]
     },
     "execution_count": 7,
     "metadata": {},
     "output_type": "execute_result"
    },
    {
     "data": {
      "text/latex": [
       "$$\\sqrt{6} \\sqrt{\\Omega_x} \\Omega_y \\lambda + 3 \\Omega_x \\left(\\Omega_i \\omega_i + \\Omega_x - \\Omega_y - 1\\right)$$"
      ],
      "text/plain": [
       "     _________                                                                \n",
       "√6⋅╲╱ \\Omegaₓ ⋅\\Omega_y⋅\\lambda + 3⋅\\Omegaₓ⋅(\\Omegaᵢ⋅\\omegaᵢ + \\Omegaₓ - \\Omeg\n",
       "\n",
       "        \n",
       "a_y - 1)"
      ]
     },
     "execution_count": 7,
     "metadata": {},
     "output_type": "execute_result"
    },
    {
     "data": {
      "text/latex": [
       "$$- \\sqrt{6} \\sqrt{\\Omega_x} \\Omega_y \\lambda + 3 \\Omega_y \\left(\\Omega_i \\omega_i + \\Omega_x - \\Omega_y + 1\\right)$$"
      ],
      "text/plain": [
       "       _________                                                              \n",
       "- √6⋅╲╱ \\Omegaₓ ⋅\\Omega_y⋅\\lambda + 3⋅\\Omega_y⋅(\\Omegaᵢ⋅\\omegaᵢ + \\Omegaₓ - \\O\n",
       "\n",
       "           \n",
       "mega_y + 1)"
      ]
     },
     "execution_count": 7,
     "metadata": {},
     "output_type": "execute_result"
    }
   ],
   "source": [
    "x = sm.symbols('\\Omega_x', nonnegative = True)\n",
    "i,y = sm.symbols('\\Omega_i,\\Omega_y', nonnegative = True)\n",
    "w1,l= sm.symbols('\\omega_i,\\lambda', positive = True, real = True)\n",
    "\n",
    "I = 3*i * (w1*(i-1) + x - y)\n",
    "X = 3*x * (w1*i + x - y -1) + l*y*sm.sqrt(6*x)\n",
    "Y = 3*y * (w1*i + x - y +1) - l*y*sm.sqrt(6*x)\n",
    "\n",
    "print('The autonomous equations are:')\n",
    "I\n",
    "X\n",
    "Y"
   ]
  },
  {
   "cell_type": "markdown",
   "metadata": {},
   "source": [
    "#### Critical Points ($\\Omega_i$, $\\Omega_x$, $\\Omega_y$)"
   ]
  },
  {
   "cell_type": "code",
   "execution_count": 8,
   "metadata": {},
   "outputs": [
    {
     "data": {
      "text/latex": [
       "$$\\left [ \\left ( 0, \\quad 0.99999999, \\quad 0\\right ), \\quad \\left ( 1, \\quad 1e-08, \\quad 0\\right ), \\quad \\left ( 0, \\quad 1e-08, \\quad 1\\right ), \\quad \\left ( 1 - \\frac{1}{\\lambda^{2}} \\left(3 \\omega_i + 3\\right), \\quad \\frac{3 \\left(\\omega_i + 1\\right)^{2}}{2 \\lambda^{2}}, \\quad \\frac{1}{\\lambda^{2}} \\left(- \\frac{3 \\omega_i^{2}}{2} + \\frac{3}{2}\\right)\\right ), \\quad \\left ( 0, \\quad \\frac{\\lambda^{2}}{6}, \\quad - \\frac{\\lambda^{2}}{6} + 1\\right ), \\quad \\left ( 0, \\quad \\frac{3}{2 \\lambda^{2}}, \\quad \\frac{3}{2 \\lambda^{2}}\\right )\\right ]$$"
      ],
      "text/plain": [
       "⎡                                                  ⎛                          \n",
       "⎢                                                  ⎜                          \n",
       "⎢                                                  ⎜                          \n",
       "⎢                                                  ⎜    3⋅\\omegaᵢ + 3  3⋅(\\ome\n",
       "⎢(0, 0.99999999, 0), (1, 1e-08, 0), (0, 1e-08, 1), ⎜1 - ─────────────, ───────\n",
       "⎢                                                  ⎜              2           \n",
       "⎣                                                  ⎝       \\lambda        2⋅\\l\n",
       "\n",
       "                      2    ⎞                                                  \n",
       "             3⋅\\omegaᵢ    3⎟                                                  \n",
       "        2  - ────────── + ─⎟  ⎛          2           2    ⎞                   \n",
       "gaᵢ + 1)         2        2⎟  ⎜   \\lambda     \\lambda     ⎟  ⎛       3        \n",
       "─────────, ────────────────⎟, ⎜0, ────────, - ──────── + 1⎟, ⎜0, ──────────, ─\n",
       "     2                2    ⎟  ⎝      6           6        ⎠  ⎜            2   \n",
       "ambda          \\lambda     ⎠                                 ⎝   2⋅\\lambda   2\n",
       "\n",
       "          ⎤\n",
       "          ⎥\n",
       "          ⎥\n",
       "   3     ⎞⎥\n",
       "─────────⎟⎥\n",
       "        2⎟⎥\n",
       "⋅\\lambda ⎠⎦"
      ]
     },
     "execution_count": 8,
     "metadata": {},
     "output_type": "execute_result"
    }
   ],
   "source": [
    "# Simultaneously solve three eqs. to find fixed pts\n",
    "# FixedPoints = sm.solve([I,X,Y], (i, x, y), simplify=True)  # Returns to array of fixed pts [(,) , (,) , ... ] #dict= True,\n",
    "# However, SymPy could NOT find CPs.. \n",
    "# Results from Mathematica:\n",
    "eps = 1e-8\n",
    "X_p = (0,1-eps,0)\n",
    "I_p = (1,eps,0)\n",
    "Y_p = (0,eps,1)\n",
    "A_p = (1 - 3*(w1 + 1)/(l*l), sm.Rational(3,2)*(1 + w1)**2 /(l*l),sm.Rational(3,2)*(1 - w1**2) /(l*l))\n",
    "C_p = (0, (l*l)/6, 1 - (l*l)/6  )\n",
    "D_p = (0, sm.Rational(3,2) /(l*l),sm.Rational(3,2) /(l*l))\n",
    "FixedPoints_IXY = [X_p, I_p,Y_p, A_p, C_p, D_p]\n",
    "FixedPoints_IXY"
   ]
  },
  {
   "cell_type": "markdown",
   "metadata": {},
   "source": [
    "#### Jacobian and Eigenvalues"
   ]
  },
  {
   "cell_type": "code",
   "execution_count": 9,
   "metadata": {},
   "outputs": [
    {
     "name": "stdout",
     "output_type": "stream",
     "text": [
      "Jacobian Matrix([[3*\\Omega_i*\\omega_i + 3*\\Omega_x - 3*\\Omega_y + 3*\\omega_i*(\\Omega_i - 1), 3*\\Omega_i, -3*\\Omega_i], [3*\\Omega_x*\\omega_i, 3*\\Omega_i*\\omega_i + 6*\\Omega_x - 3*\\Omega_y - 3 + sqrt(6)*\\Omega_y*\\lambda/(2*sqrt(\\Omega_x)), sqrt(6)*sqrt(\\Omega_x)*\\lambda - 3*\\Omega_x], [3*\\Omega_y*\\omega_i, 3*\\Omega_y - sqrt(6)*\\Omega_y*\\lambda/(2*sqrt(\\Omega_x)), 3*\\Omega_i*\\omega_i - sqrt(6)*sqrt(\\Omega_x)*\\lambda + 3*\\Omega_x - 6*\\Omega_y + 3]])\n",
      "---------------------\n"
     ]
    },
    {
     "data": {
      "text/latex": [
       "$$\\left[\\begin{matrix}3 \\Omega_i \\omega_i + 3 \\Omega_x - 3 \\Omega_y + 3 \\omega_i \\left(\\Omega_i - 1\\right) & 3 \\Omega_i & - 3 \\Omega_i\\\\3 \\Omega_x \\omega_i & 3 \\Omega_i \\omega_i + 6 \\Omega_x - 3 \\Omega_y - 3 + \\frac{\\sqrt{6} \\Omega_y \\lambda}{2 \\sqrt{\\Omega_x}} & \\sqrt{6} \\sqrt{\\Omega_x} \\lambda - 3 \\Omega_x\\\\3 \\Omega_y \\omega_i & 3 \\Omega_y - \\frac{\\sqrt{6} \\Omega_y \\lambda}{2 \\sqrt{\\Omega_x}} & 3 \\Omega_i \\omega_i - \\sqrt{6} \\sqrt{\\Omega_x} \\lambda + 3 \\Omega_x - 6 \\Omega_y + 3\\end{matrix}\\right]$$"
      ],
      "text/plain": [
       "⎡3⋅\\Omegaᵢ⋅\\omegaᵢ + 3⋅\\Omegaₓ - 3⋅\\Omega_y + 3⋅\\omegaᵢ⋅(\\Omegaᵢ - 1)         \n",
       "⎢                                                                             \n",
       "⎢                                                                             \n",
       "⎢                         3⋅\\Omegaₓ⋅\\omegaᵢ                            3⋅\\Omeg\n",
       "⎢                                                                             \n",
       "⎢                                                                             \n",
       "⎢                                                                             \n",
       "⎢                                                                             \n",
       "⎢                         3⋅\\Omega_y⋅\\omegaᵢ                                  \n",
       "⎢                                                                             \n",
       "⎣                                                                             \n",
       "\n",
       "                      3⋅\\Omegaᵢ                                               \n",
       "                                                                              \n",
       "                                          √6⋅\\Omega_y⋅\\lambda                 \n",
       "aᵢ⋅\\omegaᵢ + 6⋅\\Omegaₓ - 3⋅\\Omega_y - 3 + ───────────────────                 \n",
       "                                                 _________                    \n",
       "                                             2⋅╲╱ \\Omegaₓ                     \n",
       "                                                                              \n",
       "                        √6⋅\\Omega_y⋅\\lambda                                   \n",
       "           3⋅\\Omega_y - ───────────────────                    3⋅\\Omegaᵢ⋅\\omeg\n",
       "                               _________                                      \n",
       "                           2⋅╲╱ \\Omegaₓ                                       \n",
       "\n",
       "               -3⋅\\Omegaᵢ                               ⎤\n",
       "                                                        ⎥\n",
       "        _________                                       ⎥\n",
       "   √6⋅╲╱ \\Omegaₓ ⋅\\lambda - 3⋅\\Omegaₓ                   ⎥\n",
       "                                                        ⎥\n",
       "                                                        ⎥\n",
       "                                                        ⎥\n",
       "          _________                                     ⎥\n",
       "aᵢ - √6⋅╲╱ \\Omegaₓ ⋅\\lambda + 3⋅\\Omegaₓ - 6⋅\\Omega_y + 3⎥\n",
       "                                                        ⎥\n",
       "                                                        ⎦"
      ]
     },
     "execution_count": 9,
     "metadata": {},
     "output_type": "execute_result"
    },
    {
     "data": {
      "text/latex": [
       "$$\\left ( 0, \\quad 0.99999999, \\quad 0\\right )$$"
      ],
      "text/plain": [
       "(0, 0.99999999, 0)"
      ]
     },
     "execution_count": 9,
     "metadata": {},
     "output_type": "execute_result"
    },
    {
     "data": {
      "text/plain": [
       "dict_keys([-sqrt(6)*\\lambda + 6, 3, -3*\\omega_i + 3])"
      ]
     },
     "execution_count": 9,
     "metadata": {},
     "output_type": "execute_result"
    },
    {
     "name": "stdout",
     "output_type": "stream",
     "text": [
      "-------------------------------------------\n"
     ]
    },
    {
     "data": {
      "text/latex": [
       "$$\\left ( 1, \\quad 1e-08, \\quad 0\\right )$$"
      ],
      "text/plain": [
       "(1, 1e-08, 0)"
      ]
     },
     "execution_count": 9,
     "metadata": {},
     "output_type": "execute_result"
    },
    {
     "data": {
      "text/plain": [
       "dict_keys([-sqrt(6)*\\lambda/10000 + 3*\\omega_i + 3, 3*\\omega_i + 3*sqrt(400000000*\\omega_i + 10000000200000001)/200000000 - 299999997/200000000, 3*\\omega_i - 3*sqrt(400000000*\\omega_i + 10000000200000001)/200000000 - 299999997/200000000])"
      ]
     },
     "execution_count": 9,
     "metadata": {},
     "output_type": "execute_result"
    },
    {
     "name": "stdout",
     "output_type": "stream",
     "text": [
      "-------------------------------------------\n"
     ]
    },
    {
     "data": {
      "text/latex": [
       "$$\\left ( 0, \\quad 1e-08, \\quad 1\\right )$$"
      ],
      "text/plain": [
       "(0, 1e-08, 1)"
      ]
     },
     "execution_count": 9,
     "metadata": {},
     "output_type": "execute_result"
    },
    {
     "data": {
      "text/plain": [
       "dict_keys([-3*\\omega_i - 3, 49999999*sqrt(6)*\\lambda/20000 + sqrt(6)*sqrt(2499999900000001*\\lambda**2 - 499999980000*sqrt(6)*\\lambda + 149999994)/20000 - 9/2, 49999999*sqrt(6)*\\lambda/20000 - sqrt(6)*sqrt(2499999900000001*\\lambda**2 - 499999980000*sqrt(6)*\\lambda + 149999994)/20000 - 9/2])"
      ]
     },
     "execution_count": 9,
     "metadata": {},
     "output_type": "execute_result"
    },
    {
     "name": "stdout",
     "output_type": "stream",
     "text": [
      "-------------------------------------------\n"
     ]
    },
    {
     "data": {
      "text/latex": [
       "$$\\left ( 1 - \\frac{1}{\\lambda^{2}} \\left(3 \\omega_i + 3\\right), \\quad \\frac{3 \\left(\\omega_i + 1\\right)^{2}}{2 \\lambda^{2}}, \\quad \\frac{1}{\\lambda^{2}} \\left(- \\frac{3 \\omega_i^{2}}{2} + \\frac{3}{2}\\right)\\right )$$"
      ],
      "text/plain": [
       "⎛                                                2    ⎞\n",
       "⎜                                       3⋅\\omegaᵢ    3⎟\n",
       "⎜                                  2  - ────────── + ─⎟\n",
       "⎜    3⋅\\omegaᵢ + 3  3⋅(\\omegaᵢ + 1)         2        2⎟\n",
       "⎜1 - ─────────────, ────────────────, ────────────────⎟\n",
       "⎜              2                2                2    ⎟\n",
       "⎝       \\lambda        2⋅\\lambda          \\lambda     ⎠"
      ]
     },
     "execution_count": 9,
     "metadata": {},
     "output_type": "execute_result"
    },
    {
     "data": {
      "text/plain": [
       "dict_keys([(3*\\lambda*\\omega_i - 3*\\lambda - 3*sqrt(9*\\lambda**2*\\omega_i**2 - 2*\\lambda**2*\\omega_i - 7*\\lambda**2 - 24*\\omega_i**3 - 24*\\omega_i**2 + 24*\\omega_i + 24))/(4*\\lambda), 3*\\omega_i, (3*\\lambda*\\omega_i - 3*\\lambda + 3*sqrt(9*\\lambda**2*\\omega_i**2 - 2*\\lambda**2*\\omega_i - 7*\\lambda**2 - 24*\\omega_i**3 - 24*\\omega_i**2 + 24*\\omega_i + 24))/(4*\\lambda)])"
      ]
     },
     "execution_count": 9,
     "metadata": {},
     "output_type": "execute_result"
    },
    {
     "name": "stdout",
     "output_type": "stream",
     "text": [
      "-------------------------------------------\n"
     ]
    },
    {
     "data": {
      "text/latex": [
       "$$\\left ( 0, \\quad \\frac{\\lambda^{2}}{6}, \\quad - \\frac{\\lambda^{2}}{6} + 1\\right )$$"
      ],
      "text/plain": [
       "⎛          2           2    ⎞\n",
       "⎜   \\lambda     \\lambda     ⎟\n",
       "⎜0, ────────, - ──────── + 1⎟\n",
       "⎝      6           6        ⎠"
      ]
     },
     "execution_count": 9,
     "metadata": {},
     "output_type": "execute_result"
    },
    {
     "data": {
      "text/plain": [
       "dict_keys([\\lambda**2/2 - 3, \\lambda**2 - 3, \\lambda**2 - 3*\\omega_i - 3])"
      ]
     },
     "execution_count": 9,
     "metadata": {},
     "output_type": "execute_result"
    },
    {
     "name": "stdout",
     "output_type": "stream",
     "text": [
      "-------------------------------------------\n"
     ]
    },
    {
     "data": {
      "text/latex": [
       "$$\\left ( 0, \\quad \\frac{3}{2 \\lambda^{2}}, \\quad \\frac{3}{2 \\lambda^{2}}\\right )$$"
      ],
      "text/plain": [
       "⎛       3           3     ⎞\n",
       "⎜0, ──────────, ──────────⎟\n",
       "⎜            2           2⎟\n",
       "⎝   2⋅\\lambda   2⋅\\lambda ⎠"
      ]
     },
     "execution_count": 9,
     "metadata": {},
     "output_type": "execute_result"
    },
    {
     "data": {
      "text/plain": [
       "dict_keys([-(3*\\lambda + 3*sqrt(-7*\\lambda**2 + 24))/(4*\\lambda), -(3*\\lambda - 3*sqrt(-7*\\lambda**2 + 24))/(4*\\lambda), -3*\\omega_i])"
      ]
     },
     "execution_count": 9,
     "metadata": {},
     "output_type": "execute_result"
    },
    {
     "name": "stdout",
     "output_type": "stream",
     "text": [
      "-------------------------------------------\n"
     ]
    }
   ],
   "source": [
    "# put equations into matrix-form and compute Jacobian-matrix  \n",
    "eqMat = sm.Matrix([I,X,Y])\n",
    "Mat = sm.Matrix([i,x,y])\n",
    "jacMat = eqMat.jacobian(Mat)\n",
    "print('Jacobian %s' % jacMat)\n",
    "print('---------------------')\n",
    "jacMat\n",
    "\n",
    "# iterate through list of FixedPoints\n",
    "for item in FixedPoints_IXY:\n",
    "    item\n",
    "    eqmat = jacMat.subs([ (i, item[0]), (x, item[1]), (y, item[2]) ]) \n",
    "    #print('The eigenvalues for the fixed point (%s, %s, %s) are %s, %s, ,%s:' \n",
    "    #      %(item[0], item[1],item[2],eqmat.eigenvals().keys()[0], eqmat.eigenvals().keys()[1],eqmat.eigenvals().keys()[2]))\n",
    "    eqmat.eigenvals().keys()\n",
    "    print('-------------------------------------------')"
   ]
  },
  {
   "cell_type": "markdown",
   "metadata": {},
   "source": [
    "### 2D System"
   ]
  },
  {
   "cell_type": "code",
   "execution_count": 3,
   "metadata": {},
   "outputs": [
    {
     "name": "stdout",
     "output_type": "stream",
     "text": [
      "The autonomous equations are:\n"
     ]
    },
    {
     "data": {
      "text/latex": [
       "$$\\sqrt{6} \\sqrt{\\Omega_x} \\Omega_y \\lambda + 3 \\Omega_x \\left(\\Omega_x - \\Omega_y + \\omega_i \\left(- \\Omega_x - \\Omega_y + 1\\right) - 1\\right)$$"
      ],
      "text/plain": [
       "     _________                                                                \n",
       "√6⋅╲╱ \\Omegaₓ ⋅\\Omega_y⋅\\lambda + 3⋅\\Omegaₓ⋅(\\Omegaₓ - \\Omega_y + \\omegaᵢ⋅(-\\O\n",
       "\n",
       "                          \n",
       "megaₓ - \\Omega_y + 1) - 1)"
      ]
     },
     "execution_count": 3,
     "metadata": {},
     "output_type": "execute_result"
    },
    {
     "data": {
      "text/latex": [
       "$$- \\sqrt{6} \\sqrt{\\Omega_x} \\Omega_y \\lambda + 3 \\Omega_y \\left(\\Omega_x - \\Omega_y + \\omega_i \\left(- \\Omega_x - \\Omega_y + 1\\right) + 1\\right)$$"
      ],
      "text/plain": [
       "       _________                                                              \n",
       "- √6⋅╲╱ \\Omegaₓ ⋅\\Omega_y⋅\\lambda + 3⋅\\Omega_y⋅(\\Omegaₓ - \\Omega_y + \\omegaᵢ⋅(\n",
       "\n",
       "                             \n",
       "-\\Omegaₓ - \\Omega_y + 1) + 1)"
      ]
     },
     "execution_count": 3,
     "metadata": {},
     "output_type": "execute_result"
    }
   ],
   "source": [
    "x = sm.symbols('\\Omega_x')\n",
    "y = sm.symbols('\\Omega_y')\n",
    "w1,l= sm.symbols('\\omega_i,\\lambda', positive = True, real = True)\n",
    "\n",
    "X = 3*x * ( (1-x-y)*w1 + x-y -1) + l*y*sm.sqrt(6*x)\n",
    "Y = 3*y * ((1-x-y)*w1 + x-y +1) - l*y*sm.sqrt(6*x)\n",
    "\n",
    "print 'The autonomous equations are:'\n",
    "X\n",
    "Y"
   ]
  },
  {
   "cell_type": "markdown",
   "metadata": {},
   "source": [
    "#### Critical Points"
   ]
  },
  {
   "cell_type": "code",
   "execution_count": 20,
   "metadata": {},
   "outputs": [
    {
     "data": {
      "text/latex": [
       "$$\\left [ \\left ( 1, \\quad 0\\right ), \\quad \\left ( 1e-08, \\quad 1e-08\\right ), \\quad \\left ( 1e-08, \\quad 1\\right ), \\quad \\left ( \\frac{3 \\left(\\omega_i + 1\\right)^{2}}{2 \\lambda^{2}}, \\quad \\frac{1}{\\lambda^{2}} \\left(- \\frac{3 \\omega_i^{2}}{2} + \\frac{3}{2}\\right)\\right ), \\quad \\left ( \\frac{\\lambda^{2}}{6}, \\quad - \\frac{\\lambda^{2}}{6} + 1\\right ), \\quad \\left ( \\frac{3}{2 \\lambda^{2}}, \\quad \\frac{3}{2 \\lambda^{2}}\\right )\\right ]$$"
      ],
      "text/plain": [
       "⎡                                    ⎛                             2    ⎞     \n",
       "⎢                                    ⎜                    3⋅\\omegaᵢ    3⎟     \n",
       "⎢                                    ⎜               2  - ────────── + ─⎟  ⎛  \n",
       "⎢                                    ⎜3⋅(\\omegaᵢ + 1)         2        2⎟  ⎜\\l\n",
       "⎢(1, 0), (1e-08, 1e-08), (1e-08, 1), ⎜────────────────, ────────────────⎟, ⎜──\n",
       "⎢                                    ⎜            2                2    ⎟  ⎝  \n",
       "⎣                                    ⎝   2⋅\\lambda          \\lambda     ⎠     \n",
       "\n",
       "                                                 ⎤\n",
       "                                                 ⎥\n",
       "     2           2    ⎞                          ⎥\n",
       "ambda     \\lambda     ⎟  ⎛    3           3     ⎞⎥\n",
       "──────, - ──────── + 1⎟, ⎜──────────, ──────────⎟⎥\n",
       " 6           6        ⎠  ⎜         2           2⎟⎥\n",
       "                         ⎝2⋅\\lambda   2⋅\\lambda ⎠⎦"
      ]
     },
     "execution_count": 20,
     "metadata": {},
     "output_type": "execute_result"
    }
   ],
   "source": [
    "# Simultaneously solve three eqs. to find fixed pts\n",
    "# FixedPoints = sm.solve([I,X,Y], (i, x, y), simplify=True)  # Returns to array of fixed pts [(,) , (,) , ... ] #dict= True,\n",
    "# However, SymPy could NOT find CPs.. \n",
    "# Results from Mathematica:\n",
    "eps = 1e-8\n",
    "X_p = (1,0)\n",
    "I_p = (eps,eps)\n",
    "Y_p = (eps,1)\n",
    "A_p = (sm.Rational(3,2)*(1 + w1)**2 /(l*l),sm.Rational(3,2)*(1 - w1**2) /(l*l))\n",
    "C_p = ((l*l)/6, 1 - (l*l)/6  )\n",
    "D_p = (sm.Rational(3,2) /(l*l),sm.Rational(3,2) /(l*l))\n",
    "FixedPoints_XY = [X_p, I_p,Y_p, A_p, C_p, D_p]\n",
    "FixedPoints_XY"
   ]
  },
  {
   "cell_type": "markdown",
   "metadata": {},
   "source": [
    "#### Jacobian and Eigenvalues"
   ]
  },
  {
   "cell_type": "code",
   "execution_count": 26,
   "metadata": {},
   "outputs": [
    {
     "name": "stdout",
     "output_type": "stream",
     "text": [
      "Jacobian Matrix([[3*\\Omega_x*(-\\omega_i + 1) + 3*\\Omega_x - 3*\\Omega_y + 3*\\omega_i*(-\\Omega_x - \\Omega_y + 1) - 3 + sqrt(6)*\\Omega_y*\\lambda/(2*sqrt(\\Omega_x)), sqrt(6)*sqrt(\\Omega_x)*\\lambda + 3*\\Omega_x*(-\\omega_i - 1)], [3*\\Omega_y*(-\\omega_i + 1) - sqrt(6)*\\Omega_y*\\lambda/(2*sqrt(\\Omega_x)), -sqrt(6)*sqrt(\\Omega_x)*\\lambda + 3*\\Omega_x + 3*\\Omega_y*(-\\omega_i - 1) - 3*\\Omega_y + 3*\\omega_i*(-\\Omega_x - \\Omega_y + 1) + 3]])\n",
      "---------------------\n"
     ]
    },
    {
     "data": {
      "text/latex": [
       "$$\\left[\\begin{matrix}3 \\Omega_x \\left(- \\omega_i + 1\\right) + 3 \\Omega_x - 3 \\Omega_y + 3 \\omega_i \\left(- \\Omega_x - \\Omega_y + 1\\right) - 3 + \\frac{\\sqrt{6} \\Omega_y \\lambda}{2 \\sqrt{\\Omega_x}} & \\sqrt{6} \\sqrt{\\Omega_x} \\lambda + 3 \\Omega_x \\left(- \\omega_i - 1\\right)\\\\3 \\Omega_y \\left(- \\omega_i + 1\\right) - \\frac{\\sqrt{6} \\Omega_y \\lambda}{2 \\sqrt{\\Omega_x}} & - \\sqrt{6} \\sqrt{\\Omega_x} \\lambda + 3 \\Omega_x + 3 \\Omega_y \\left(- \\omega_i - 1\\right) - 3 \\Omega_y + 3 \\omega_i \\left(- \\Omega_x - \\Omega_y + 1\\right) + 3\\end{matrix}\\right]$$"
      ],
      "text/plain": [
       "⎡                                                                             \n",
       "⎢3⋅\\Omegaₓ⋅(-\\omegaᵢ + 1) + 3⋅\\Omegaₓ - 3⋅\\Omega_y + 3⋅\\omegaᵢ⋅(-\\Omegaₓ - \\Om\n",
       "⎢                                                                             \n",
       "⎢                                                                             \n",
       "⎢                                                                             \n",
       "⎢                                                             √6⋅\\Omega_y⋅\\lam\n",
       "⎢                                 3⋅\\Omega_y⋅(-\\omegaᵢ + 1) - ────────────────\n",
       "⎢                                                                    _________\n",
       "⎣                                                                2⋅╲╱ \\Omegaₓ \n",
       "\n",
       "                 √6⋅\\Omega_y⋅\\lambda                                          \n",
       "ega_y + 1) - 3 + ───────────────────                                     √6⋅╲╱\n",
       "                        _________                                             \n",
       "                    2⋅╲╱ \\Omegaₓ                                              \n",
       "                                                                              \n",
       "bda                                          _________                        \n",
       "───                                   - √6⋅╲╱ \\Omegaₓ ⋅\\lambda + 3⋅\\Omegaₓ + 3\n",
       "                                                                              \n",
       "                                                                              \n",
       "\n",
       "_________                                                                     \n",
       " \\Omegaₓ ⋅\\lambda + 3⋅\\Omegaₓ⋅(-\\omegaᵢ - 1)                                  \n",
       "                                                                              \n",
       "                                                                              \n",
       "                                                                              \n",
       "                                                                              \n",
       "⋅\\Omega_y⋅(-\\omegaᵢ - 1) - 3⋅\\Omega_y + 3⋅\\omegaᵢ⋅(-\\Omegaₓ - \\Omega_y + 1) + \n",
       "                                                                              \n",
       "                                                                              \n",
       "\n",
       " ⎤\n",
       " ⎥\n",
       " ⎥\n",
       " ⎥\n",
       " ⎥\n",
       " ⎥\n",
       "3⎥\n",
       " ⎥\n",
       " ⎦"
      ]
     },
     "execution_count": 26,
     "metadata": {},
     "output_type": "execute_result"
    },
    {
     "data": {
      "text/latex": [
       "$$\\left ( 1, \\quad 0\\right )$$"
      ],
      "text/plain": [
       "(1, 0)"
      ]
     },
     "execution_count": 26,
     "metadata": {},
     "output_type": "execute_result"
    },
    {
     "data": {
      "text/latex": [
       "$$\\left [ - \\sqrt{6} \\lambda + 6, \\quad - 3 \\omega_i + 3\\right ]$$"
      ],
      "text/plain": [
       "[-√6⋅\\lambda + 6, -3⋅\\omegaᵢ + 3]"
      ]
     },
     "execution_count": 26,
     "metadata": {},
     "output_type": "execute_result"
    },
    {
     "name": "stdout",
     "output_type": "stream",
     "text": [
      "-------------------------------------------\n"
     ]
    },
    {
     "data": {
      "text/latex": [
       "$$\\left ( 1e-08, \\quad 1e-08\\right )$$"
      ],
      "text/plain": [
       "(1e-08, 1e-08)"
      ]
     },
     "execution_count": 26,
     "metadata": {},
     "output_type": "execute_result"
    },
    {
     "data": {
      "text/latex": [
       "$$\\left [ - \\frac{\\sqrt{6} \\lambda}{40000} + 3 \\omega_i - \\frac{\\sqrt{3}}{100000000} \\sqrt{12500000 \\lambda^{2} - 5000 \\sqrt{6} \\lambda \\omega_i - 1499999985000 \\sqrt{6} \\lambda + 3 \\omega_i^{2} + 29999999999999997}, \\quad - \\frac{\\sqrt{6} \\lambda}{40000} + 3 \\omega_i + \\frac{\\sqrt{3}}{100000000} \\sqrt{12500000 \\lambda^{2} - 5000 \\sqrt{6} \\lambda \\omega_i - 1499999985000 \\sqrt{6} \\lambda + 3 \\omega_i^{2} + 29999999999999997}\\right ]$$"
      ],
      "text/plain": [
       "⎡                                 ____________________________________________\n",
       "⎢                                ╱                 2                          \n",
       "⎢  √6⋅\\lambda               √3⋅╲╱  12500000⋅\\lambda  - 5000⋅√6⋅\\lambda⋅\\omegaᵢ\n",
       "⎢- ────────── + 3⋅\\omegaᵢ - ──────────────────────────────────────────────────\n",
       "⎣    40000                                                                    \n",
       "\n",
       "_____________________________________________________________                 \n",
       "                                       2                                      \n",
       " - 1499999985000⋅√6⋅\\lambda + 3⋅\\omegaᵢ  + 29999999999999997     √6⋅\\lambda   \n",
       "─────────────────────────────────────────────────────────────, - ────────── + \n",
       " 100000000                                                         40000      \n",
       "\n",
       "                  ____________________________________________________________\n",
       "                 ╱                 2                                          \n",
       "            √3⋅╲╱  12500000⋅\\lambda  - 5000⋅√6⋅\\lambda⋅\\omegaᵢ - 1499999985000\n",
       "3⋅\\omegaᵢ + ──────────────────────────────────────────────────────────────────\n",
       "                                                               100000000      \n",
       "\n",
       "_____________________________________________⎤\n",
       "                       2                     ⎥\n",
       "⋅√6⋅\\lambda + 3⋅\\omegaᵢ  + 29999999999999997 ⎥\n",
       "─────────────────────────────────────────────⎥\n",
       "                                             ⎦"
      ]
     },
     "execution_count": 26,
     "metadata": {},
     "output_type": "execute_result"
    },
    {
     "name": "stdout",
     "output_type": "stream",
     "text": [
      "-------------------------------------------\n"
     ]
    },
    {
     "data": {
      "text/latex": [
       "$$\\left ( 1e-08, \\quad 1\\right )$$"
      ],
      "text/plain": [
       "(1e-08, 1)"
      ]
     },
     "execution_count": 26,
     "metadata": {},
     "output_type": "execute_result"
    },
    {
     "data": {
      "text/latex": [
       "$$\\left [ \\frac{49999999 \\lambda}{20000} \\sqrt{6} - \\frac{7500000150000000376857 \\omega_i}{5000000000000000000000} + \\frac{\\sqrt{3}}{5000000000000000000000} \\sqrt{312499987500000125000000000000000000000000000000000 \\lambda^{2} + 62499998749999971859524937190500000000000000000 \\sqrt{6} \\lambda \\omega_i - 62499997500000000000000000000000000000000000000 \\sqrt{6} \\lambda + 18750000000000005615715037685700047340399483 \\omega_i^{2} - 37499999249999998115715000000000000000000000 \\omega_i + 18749999250000000000000000000000000000000000} - \\frac{9}{2}, \\quad \\frac{49999999 \\lambda}{20000} \\sqrt{6} - \\frac{7500000150000000376857 \\omega_i}{5000000000000000000000} - \\frac{\\sqrt{3}}{5000000000000000000000} \\sqrt{312499987500000125000000000000000000000000000000000 \\lambda^{2} + 62499998749999971859524937190500000000000000000 \\sqrt{6} \\lambda \\omega_i - 62499997500000000000000000000000000000000000000 \\sqrt{6} \\lambda + 18750000000000005615715037685700047340399483 \\omega_i^{2} - 37499999249999998115715000000000000000000000 \\omega_i + 18749999250000000000000000000000000000000000} - \\frac{9}{2}\\right ]$$"
      ],
      "text/plain": [
       "⎡                                                             ________________\n",
       "⎢                                                            ╱                \n",
       "⎢49999999⋅√6⋅\\lambda   7500000150000000376857⋅\\omegaᵢ   √3⋅╲╱  312499987500000\n",
       "⎢─────────────────── - ────────────────────────────── + ──────────────────────\n",
       "⎣       20000              5000000000000000000000                             \n",
       "\n",
       "______________________________________________________________________________\n",
       "                                            2                                 \n",
       "125000000000000000000000000000000000⋅\\lambda  + 624999987499999718595249371905\n",
       "──────────────────────────────────────────────────────────────────────────────\n",
       "                                                                              \n",
       "\n",
       "______________________________________________________________________________\n",
       "                                                                              \n",
       "00000000000000000⋅√6⋅\\lambda⋅\\omegaᵢ - 624999975000000000000000000000000000000\n",
       "──────────────────────────────────────────────────────────────────────────────\n",
       "                                                                   50000000000\n",
       "\n",
       "______________________________________________________________________________\n",
       "                                                                          2   \n",
       "00000000⋅√6⋅\\lambda + 18750000000000005615715037685700047340399483⋅\\omegaᵢ  - \n",
       "──────────────────────────────────────────────────────────────────────────────\n",
       "00000000000                                                                   \n",
       "\n",
       "______________________________________________________________________________\n",
       "                                                                              \n",
       "37499999249999998115715000000000000000000000⋅\\omegaᵢ + 18749999250000000000000\n",
       "──────────────────────────────────────────────────────────────────────────────\n",
       "                                                                              \n",
       "\n",
       "______________________                                                        \n",
       "                                                                              \n",
       "000000000000000000000    9  49999999⋅√6⋅\\lambda   7500000150000000376857⋅\\omeg\n",
       "────────────────────── - ─, ─────────────────── - ────────────────────────────\n",
       "                         2         20000              5000000000000000000000  \n",
       "\n",
       "           ___________________________________________________________________\n",
       "          ╱                                                            2      \n",
       "aᵢ   √3⋅╲╱  312499987500000125000000000000000000000000000000000⋅\\lambda  + 624\n",
       "── - ─────────────────────────────────────────────────────────────────────────\n",
       "                                                                              \n",
       "\n",
       "______________________________________________________________________________\n",
       "                                                                              \n",
       "99998749999971859524937190500000000000000000⋅√6⋅\\lambda⋅\\omegaᵢ - 624999975000\n",
       "──────────────────────────────────────────────────────────────────────────────\n",
       "                                                                              \n",
       "\n",
       "______________________________________________________________________________\n",
       "                                                                              \n",
       "00000000000000000000000000000000000⋅√6⋅\\lambda + 18750000000000005615715037685\n",
       "──────────────────────────────────────────────────────────────────────────────\n",
       "                5000000000000000000000                                        \n",
       "\n",
       "______________________________________________________________________________\n",
       "                       2                                                      \n",
       "700047340399483⋅\\omegaᵢ  - 37499999249999998115715000000000000000000000⋅\\omega\n",
       "──────────────────────────────────────────────────────────────────────────────\n",
       "                                                                              \n",
       "\n",
       "_________________________________________________    ⎤\n",
       "                                                     ⎥\n",
       "ᵢ + 18749999250000000000000000000000000000000000    9⎥\n",
       "───────────────────────────────────────────────── - ─⎥\n",
       "                                                    2⎦"
      ]
     },
     "execution_count": 26,
     "metadata": {},
     "output_type": "execute_result"
    },
    {
     "name": "stdout",
     "output_type": "stream",
     "text": [
      "-------------------------------------------\n"
     ]
    },
    {
     "data": {
      "text/latex": [
       "$$\\left ( \\frac{3 \\left(\\omega_i + 1\\right)^{2}}{2 \\lambda^{2}}, \\quad \\frac{1}{\\lambda^{2}} \\left(- \\frac{3 \\omega_i^{2}}{2} + \\frac{3}{2}\\right)\\right )$$"
      ],
      "text/plain": [
       "⎛                             2    ⎞\n",
       "⎜                    3⋅\\omegaᵢ    3⎟\n",
       "⎜               2  - ────────── + ─⎟\n",
       "⎜3⋅(\\omegaᵢ + 1)         2        2⎟\n",
       "⎜────────────────, ────────────────⎟\n",
       "⎜            2                2    ⎟\n",
       "⎝   2⋅\\lambda          \\lambda     ⎠"
      ]
     },
     "execution_count": 26,
     "metadata": {},
     "output_type": "execute_result"
    },
    {
     "data": {
      "text/latex": [
       "$$\\left [ \\frac{3 \\omega_i}{4} - \\frac{3}{4} + \\frac{3}{4 \\lambda} \\sqrt{\\left(\\omega_i - 1\\right) \\left(9 \\lambda^{2} \\omega_i + 7 \\lambda^{2} - 24 \\omega_i^{2} - 48 \\omega_i - 24\\right)}, \\quad \\frac{3 \\omega_i}{4} - \\frac{3}{4} - \\frac{3}{4 \\lambda} \\sqrt{\\left(\\omega_i - 1\\right) \\left(9 \\lambda^{2} \\omega_i + 7 \\lambda^{2} - 24 \\omega_i^{2} - 48 \\omega_i - 24\\right)}\\right ]$$"
      ],
      "text/plain": [
       "⎡                     ________________________________________________________\n",
       "⎢                    ╱               ⎛         2                    2         \n",
       "⎢3⋅\\omegaᵢ   3   3⋅╲╱  (\\omegaᵢ - 1)⋅⎝9⋅\\lambda ⋅\\omegaᵢ + 7⋅\\lambda  - 24⋅\\om\n",
       "⎢───────── - ─ + ─────────────────────────────────────────────────────────────\n",
       "⎣    4       4                                         4⋅\\lambda              \n",
       "\n",
       "_________________________                       ______________________________\n",
       "    2                  ⎞                       ╱               ⎛         2    \n",
       "egaᵢ  - 48⋅\\omegaᵢ - 24⎠   3⋅\\omegaᵢ   3   3⋅╲╱  (\\omegaᵢ - 1)⋅⎝9⋅\\lambda ⋅\\om\n",
       "─────────────────────────, ───────── - ─ - ───────────────────────────────────\n",
       "                               4       4                                      \n",
       "\n",
       "___________________________________________________⎤\n",
       "                2             2                  ⎞ ⎥\n",
       "egaᵢ + 7⋅\\lambda  - 24⋅\\omegaᵢ  - 48⋅\\omegaᵢ - 24⎠ ⎥\n",
       "───────────────────────────────────────────────────⎥\n",
       "   4⋅\\lambda                                       ⎦"
      ]
     },
     "execution_count": 26,
     "metadata": {},
     "output_type": "execute_result"
    },
    {
     "name": "stdout",
     "output_type": "stream",
     "text": [
      "-------------------------------------------\n"
     ]
    },
    {
     "data": {
      "text/latex": [
       "$$\\left ( \\frac{\\lambda^{2}}{6}, \\quad - \\frac{\\lambda^{2}}{6} + 1\\right )$$"
      ],
      "text/plain": [
       "⎛       2           2    ⎞\n",
       "⎜\\lambda     \\lambda     ⎟\n",
       "⎜────────, - ──────── + 1⎟\n",
       "⎝   6           6        ⎠"
      ]
     },
     "execution_count": 26,
     "metadata": {},
     "output_type": "execute_result"
    },
    {
     "data": {
      "text/latex": [
       "$$\\left [ \\frac{\\lambda^{2}}{2} - 3, \\quad \\lambda^{2} - 3 \\omega_i - 3\\right ]$$"
      ],
      "text/plain": [
       "⎡       2                              ⎤\n",
       "⎢\\lambda              2                ⎥\n",
       "⎢──────── - 3, \\lambda  - 3⋅\\omegaᵢ - 3⎥\n",
       "⎣   2                                  ⎦"
      ]
     },
     "execution_count": 26,
     "metadata": {},
     "output_type": "execute_result"
    },
    {
     "name": "stdout",
     "output_type": "stream",
     "text": [
      "-------------------------------------------\n"
     ]
    },
    {
     "data": {
      "text/latex": [
       "$$\\left ( \\frac{3}{2 \\lambda^{2}}, \\quad \\frac{3}{2 \\lambda^{2}}\\right )$$"
      ],
      "text/plain": [
       "⎛    3           3     ⎞\n",
       "⎜──────────, ──────────⎟\n",
       "⎜         2           2⎟\n",
       "⎝2⋅\\lambda   2⋅\\lambda ⎠"
      ]
     },
     "execution_count": 26,
     "metadata": {},
     "output_type": "execute_result"
    },
    {
     "data": {
      "text/latex": [
       "$$\\left [ \\frac{1}{4 \\lambda^{2}} \\left(12 \\lambda^{2} \\omega_i - 3 \\lambda^{2} - 54 \\omega_i\\right) + \\frac{3}{4 \\lambda^{2}} \\sqrt{- 7 \\lambda^{4} - 12 \\lambda^{2} \\omega_i + 24 \\lambda^{2} + 36 \\omega_i^{2}}, \\quad \\frac{1}{4 \\lambda^{2}} \\left(12 \\lambda^{2} \\omega_i - 3 \\lambda^{2} - 54 \\omega_i\\right) - \\frac{3}{4 \\lambda^{2}} \\sqrt{- 7 \\lambda^{4} - 12 \\lambda^{2} \\omega_i + 24 \\lambda^{2} + 36 \\omega_i^{2}}\\right ]$$"
      ],
      "text/plain": [
       "⎡                                                      _______________________\n",
       "⎢  ⎛         2                  2             ⎞       ╱            4          \n",
       "⎢3⋅⎝4⋅\\lambda ⋅\\omegaᵢ - \\lambda  - 18⋅\\omegaᵢ⎠   3⋅╲╱  - 7⋅\\lambda  - 12⋅\\lam\n",
       "⎢────────────────────────────────────────────── + ────────────────────────────\n",
       "⎢                           2                                                 \n",
       "⎣                  4⋅\\lambda                                                  \n",
       "\n",
       "_________________________________________                                     \n",
       "   2                     2             2     ⎛         2                  2   \n",
       "bda ⋅\\omegaᵢ + 24⋅\\lambda  + 36⋅\\omegaᵢ    3⋅⎝4⋅\\lambda ⋅\\omegaᵢ - \\lambda  - \n",
       "─────────────────────────────────────────, ───────────────────────────────────\n",
       "           2                                                          2       \n",
       "  4⋅\\lambda                                                  4⋅\\lambda        \n",
       "\n",
       "                   ___________________________________________________________\n",
       "          ⎞       ╱            4             2                     2          \n",
       "18⋅\\omegaᵢ⎠   3⋅╲╱  - 7⋅\\lambda  - 12⋅\\lambda ⋅\\omegaᵢ + 24⋅\\lambda  + 36⋅\\ome\n",
       "─────────── - ────────────────────────────────────────────────────────────────\n",
       "                                                     2                        \n",
       "                                            4⋅\\lambda                         \n",
       "\n",
       "_____⎤\n",
       "   2 ⎥\n",
       "gaᵢ  ⎥\n",
       "─────⎥\n",
       "     ⎥\n",
       "     ⎦"
      ]
     },
     "execution_count": 26,
     "metadata": {},
     "output_type": "execute_result"
    },
    {
     "name": "stdout",
     "output_type": "stream",
     "text": [
      "-------------------------------------------\n"
     ]
    }
   ],
   "source": [
    "# put equations into matrix-form and compute Jacobian-matrix  \n",
    "eqMat = sm.Matrix([X,Y])\n",
    "Mat = sm.Matrix([x,y])\n",
    "jacMat = eqMat.jacobian(Mat)\n",
    "print('Jacobian %s' % jacMat)\n",
    "print('---------------------')\n",
    "jacMat\n",
    "\n",
    "# iterate through list of FixedPoints\n",
    "for item in FixedPoints_XY:\n",
    "    item\n",
    "    eqmat = jacMat.subs([ (x, item[0]), (y, item[1]) ]) \n",
    "    #print('The eigenvalues for the fixed point (%s, %s) are %s, %s:' \n",
    "    #      %(item[0], item[1],eqmat.eigenvals().keys()[0], eqmat.eigenvals().keys()[1]))\n",
    "    eqmat.eigenvals().keys()\n",
    "    \n",
    "    print('-------------------------------------------')"
   ]
  },
  {
   "cell_type": "code",
   "execution_count": null,
   "metadata": {},
   "outputs": [],
   "source": []
  }
 ],
 "metadata": {
  "kernelspec": {
   "display_name": "Python 3",
   "language": "python",
   "name": "python3"
  },
  "language_info": {
   "codemirror_mode": {
    "name": "ipython",
    "version": 3
   },
   "file_extension": ".py",
   "mimetype": "text/x-python",
   "name": "python",
   "nbconvert_exporter": "python",
   "pygments_lexer": "ipython3",
   "version": "3.4.2"
  }
 },
 "nbformat": 4,
 "nbformat_minor": 2
}
