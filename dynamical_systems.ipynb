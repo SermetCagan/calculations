{
 "cells": [
  {
   "cell_type": "code",
   "execution_count": 1,
   "metadata": {},
   "outputs": [],
   "source": [
    "from __future__ import print_function\n",
    "from IPython.display import display, clear_output\n",
    "import sys, os\n",
    "import time\n",
    "import math\n",
    "import getdist.plots as gplot\n",
    "from sympy import *\n",
    "from sympy.solvers import solve\n",
    "from scipy import optimize\n",
    "from scipy.constants import physical_constants\n",
    "from sympy.physics.mechanics import dynamicsymbols, init_vprinting\n",
    "from matplotlib import pyplot as plt\n",
    "import scipy.integrate as integrate\n",
    "import numpy as np\n",
    "\n",
    "init_vprinting()"
   ]
  },
  {
   "cell_type": "markdown",
   "metadata": {},
   "source": [
    "# Stability analysis for a universe: Matter+Radiation+$\\Lambda$"
   ]
  },
  {
   "cell_type": "code",
   "execution_count": 2,
   "metadata": {},
   "outputs": [],
   "source": [
    "Omega_m, Omega_r, Omega_l = symbols('\\Omega_{M} \\Omega_{R} \\Omega_{\\Lambda}')\n",
    "\n",
    "Omega_m_p = Function('\\Omega_{M}^{\\prime}')\n",
    "Omega_r_p = Function('\\Omega_{R}^{\\prime}')\n",
    "\n",
    "Omega_m_p = Omega_m * (3*Omega_m + 4*Omega_r - 3)\n",
    "Omega_r_p = Omega_r * (3*Omega_m + 4*Omega_r - 4)\n",
    "\n",
    "w_eff = Symbol('w_{eff}')\n",
    "w_m = Symbol('w_{M}')\n",
    "w_r = Symbol('w_{R}')\n",
    "w_l = Symbol('w_{\\Lambda}')\n",
    "\n",
    "w_eff = w_m*Omega_m + w_r*Omega_r + w_l*Omega_l"
   ]
  },
  {
   "cell_type": "markdown",
   "metadata": {},
   "source": [
    "### Effective EoS Parameter $w_{eff}$"
   ]
  },
  {
   "cell_type": "code",
   "execution_count": 3,
   "metadata": {},
   "outputs": [],
   "source": [
    "def w_effective(Or, Ol):\n",
    "    return Or/3.0 - Ol"
   ]
  },
  {
   "cell_type": "code",
   "execution_count": 4,
   "metadata": {},
   "outputs": [
    {
     "data": {
      "image/png": "[encoded data removed]",
      "text/latex": [
       "$$\\left [ \\left \\{ \\Omega_{M} : - \\frac{4 \\Omega_{R}}{3}\\right \\}, \\quad \\left \\{ \\Omega_{M} : - \\Omega_{R} + 1\\right \\}\\right ]$$"
      ],
      "text/plain": [
       "⎡⎧            -4⋅\\Omega_{R} ⎫                               ⎤\n",
       "⎢⎨\\Omega_{M}: ──────────────⎬, {\\Omega_{M}: -\\Omega_{R} + 1}⎥\n",
       "⎣⎩                  3       ⎭                               ⎦"
      ]
     },
     "execution_count": 4,
     "metadata": {},
     "output_type": "execute_result"
    }
   ],
   "source": [
    "solve([Omega_m_p + Omega_r_p], Omega_m, Omega_r)"
   ]
  },
  {
   "cell_type": "markdown",
   "metadata": {},
   "source": [
    "### Critical Points"
   ]
  },
  {
   "cell_type": "markdown",
   "metadata": {},
   "source": [
    "$\\left(\\Omega_{M}, \\Omega_{R}\\right) = (0,0) \\ \\rightarrow\\ \\Lambda\\ \\text{dominated}$\n",
    "\n",
    "$\\left(\\Omega_{M}, \\Omega_{R}\\right) = (0,1)\\ \\rightarrow\\ \\text{Radiation dominated}$\n",
    "\n",
    "$\\left(\\Omega_{M}, \\Omega_{R}\\right) = (1,0)\\ \\rightarrow\\ \\text{Matter dominated}$"
   ]
  },
  {
   "cell_type": "code",
   "execution_count": 5,
   "metadata": {},
   "outputs": [],
   "source": [
    "Jacobian = Matrix([[diff(Omega_m_p, Omega_m),diff(Omega_m_p, Omega_r)],[diff(Omega_r_p, Omega_m), diff(Omega_r_p, Omega_r)]])"
   ]
  },
  {
   "cell_type": "code",
   "execution_count": 6,
   "metadata": {},
   "outputs": [
    {
     "data": {
      "image/png": "[encoded data removed]",
      "text/latex": [
       "$$\\left \\{ \\frac{9 \\Omega_{M}}{2} + 6 \\Omega_{R} - \\frac{1}{2} \\sqrt{9 \\Omega_{M}^{2} + 24 \\Omega_{M} \\Omega_{R} + 6 \\Omega_{M} + 16 \\Omega_{R}^{2} - 8 \\Omega_{R} + 1} - \\frac{7}{2} : 1, \\quad \\frac{9 \\Omega_{M}}{2} + 6 \\Omega_{R} + \\frac{1}{2} \\sqrt{9 \\Omega_{M}^{2} + 24 \\Omega_{M} \\Omega_{R} + 6 \\Omega_{M} + 16 \\Omega_{R}^{2} - 8 \\Omega_{R} + 1} - \\frac{7}{2} : 1\\right \\}$$"
      ],
      "text/plain": [
       "⎧                                 ____________________________________________\n",
       "⎪                                ╱             2                              \n",
       "⎨9⋅\\Omega_{M}                  ╲╱  9⋅\\Omega_{M}  + 24⋅\\Omega_{M}⋅\\Omega_{R} + \n",
       "⎪──────────── + 6⋅\\Omega_{R} - ───────────────────────────────────────────────\n",
       "⎩     2                                                                       \n",
       "\n",
       "_________________________________________________                             \n",
       "                            2                                                 \n",
       "6⋅\\Omega_{M} + 16⋅\\Omega_{R}  - 8⋅\\Omega_{R} + 1    7     9⋅\\Omega_{M}        \n",
       "───────────────────────────────────────────────── - ─: 1, ──────────── + 6⋅\\Om\n",
       "2                                                   2          2              \n",
       "\n",
       "             _________________________________________________________________\n",
       "            ╱             2                                                   \n",
       "          ╲╱  9⋅\\Omega_{M}  + 24⋅\\Omega_{M}⋅\\Omega_{R} + 6⋅\\Omega_{M} + 16⋅\\Om\n",
       "ega_{R} + ────────────────────────────────────────────────────────────────────\n",
       "                                                         2                    \n",
       "\n",
       "____________________________       ⎫\n",
       "       2                           ⎪\n",
       "ega_{R}  - 8⋅\\Omega_{R} + 1    7   ⎬\n",
       "──────────────────────────── - ─: 1⎪\n",
       "                               2   ⎭"
      ]
     },
     "execution_count": 6,
     "metadata": {},
     "output_type": "execute_result"
    }
   ],
   "source": [
    "Jacobian.eigenvals()"
   ]
  },
  {
   "cell_type": "code",
   "execution_count": 7,
   "metadata": {},
   "outputs": [],
   "source": [
    "def eig_vals(Omega_M, Omega_R):\n",
    "    eig1 = 9*Omega_M/2 + 6*Omega_R - np.sqrt(9*Omega_M**2 + 24*Omega_M*Omega_R + 6*Omega_M + 16*Omega_R**2 - 8*Omega_R + 1)/2 - 7/2\n",
    "    eig2 = 9*Omega_M/2 + 6*Omega_R + np.sqrt(9*Omega_M**2 + 24*Omega_M*Omega_R + 6*Omega_M + 16*Omega_R**2 - 8*Omega_R + 1)/2 - 7/2\n",
    "    \n",
    "    return [eig1, eig2]\n",
    "\n",
    "M_eigs = eig_vals(1,0)\n",
    "R_eigs = eig_vals(0,1)\n",
    "L_eigs = eig_vals(0,0)"
   ]
  },
  {
   "cell_type": "markdown",
   "metadata": {},
   "source": [
    "### Eigenvalues for the critical point M(1,0)"
   ]
  },
  {
   "cell_type": "code",
   "execution_count": 8,
   "metadata": {},
   "outputs": [
    {
     "data": {
      "image/png": "[encoded data removed]",
      "text/latex": [
       "$$\\left [ -1.0, \\quad 3.0\\right ]$$"
      ],
      "text/plain": [
       "[-1.0, 3.0]"
      ]
     },
     "execution_count": 8,
     "metadata": {},
     "output_type": "execute_result"
    }
   ],
   "source": [
    "M_eigs"
   ]
  },
  {
   "cell_type": "markdown",
   "metadata": {},
   "source": [
    "M(1,0) $\\rightarrow$ Saddle point"
   ]
  },
  {
   "cell_type": "code",
   "execution_count": 9,
   "metadata": {},
   "outputs": [
    {
     "data": {
      "image/png": "[encoded data removed]",
      "text/latex": [
       "$$0.0$$"
      ],
      "text/plain": [
       "0.0"
      ]
     },
     "execution_count": 9,
     "metadata": {},
     "output_type": "execute_result"
    }
   ],
   "source": [
    "w_effective(0,0)"
   ]
  },
  {
   "cell_type": "markdown",
   "metadata": {},
   "source": [
    "### Eigenvalues for the critical point R(0,1)"
   ]
  },
  {
   "cell_type": "code",
   "execution_count": 10,
   "metadata": {},
   "outputs": [
    {
     "data": {
      "image/png": "[encoded data removed]",
      "text/latex": [
       "$$\\left [ 1.0, \\quad 4.0\\right ]$$"
      ],
      "text/plain": [
       "[1.0, 4.0]"
      ]
     },
     "execution_count": 10,
     "metadata": {},
     "output_type": "execute_result"
    }
   ],
   "source": [
    "R_eigs"
   ]
  },
  {
   "cell_type": "markdown",
   "metadata": {},
   "source": [
    "R(0,1) $\\rightarrow$ Unstable (past time attractor) "
   ]
  },
  {
   "cell_type": "code",
   "execution_count": 11,
   "metadata": {},
   "outputs": [
    {
     "data": {
      "image/png": "[encoded data removed]",
      "text/latex": [
       "$$0.3333333333333333$$"
      ],
      "text/plain": [
       "0.3333333333333333"
      ]
     },
     "execution_count": 11,
     "metadata": {},
     "output_type": "execute_result"
    }
   ],
   "source": [
    "w_effective(1,0)"
   ]
  },
  {
   "cell_type": "markdown",
   "metadata": {},
   "source": [
    "### Eigenvalues for the critical point $\\Lambda(0,0)$"
   ]
  },
  {
   "cell_type": "code",
   "execution_count": 12,
   "metadata": {},
   "outputs": [
    {
     "data": {
      "image/png": "[encoded data removed]",
      "text/latex": [
       "$$\\left [ -4.0, \\quad -3.0\\right ]$$"
      ],
      "text/plain": [
       "[-4.0, -3.0]"
      ]
     },
     "execution_count": 12,
     "metadata": {},
     "output_type": "execute_result"
    }
   ],
   "source": [
    "L_eigs"
   ]
  },
  {
   "cell_type": "markdown",
   "metadata": {},
   "source": [
    "$\\Lambda$(0,0) $\\rightarrow$ Stable (attractor - future time attractor)"
   ]
  },
  {
   "cell_type": "code",
   "execution_count": 13,
   "metadata": {},
   "outputs": [
    {
     "data": {
      "image/png": "[encoded data removed]",
      "text/latex": [
       "$$-1.0$$"
      ],
      "text/plain": [
       "-1.0"
      ]
     },
     "execution_count": 13,
     "metadata": {},
     "output_type": "execute_result"
    }
   ],
   "source": [
    "w_effective(0,1)"
   ]
  },
  {
   "cell_type": "markdown",
   "metadata": {},
   "source": [
    "# Stability analysis for a universe with Barotropic fluid and Quintessence"
   ]
  },
  {
   "cell_type": "code",
   "execution_count": 113,
   "metadata": {},
   "outputs": [],
   "source": [
    "x_prime = Function('x^{\\prime}')\n",
    "y_prime = Function('y^{\\prime}')\n",
    "\n",
    "l = Symbol('\\lambda', real=True, positive=True)\n",
    "w_i = Symbol('w_{i}', real=True, positive=True)\n",
    "x, y = symbols('x y')\n",
    "\n",
    "x_prime = Rational(3,2)**Rational(1,2)*l*y**2 + Rational(3,2) * x *((1-w_i)*(x**2 - 1) - y**2 * (1 + w_i))\n",
    "y_prime = -1 * Rational(3,2)**Rational(1,2)*l*x*y + Rational(3,2) * y * (x**2 * (1 - w_i) + (1 + w_i)*(1-y**2))"
   ]
  },
  {
   "cell_type": "code",
   "execution_count": 114,
   "metadata": {},
   "outputs": [],
   "source": [
    "solution = solve([x_prime, y_prime], x, y)"
   ]
  },
  {
   "cell_type": "code",
   "execution_count": 115,
   "metadata": {},
   "outputs": [
    {
     "data": {
      "image/png": "[encoded data removed]",
      "text/latex": [
       "$$\\left [ \\left ( -1, \\quad 0\\right ), \\quad \\left ( 0, \\quad 0\\right ), \\quad \\left ( 1, \\quad 0\\right ), \\quad \\left ( \\frac{\\sqrt{6} \\lambda}{6}, \\quad - \\sqrt{- \\frac{\\lambda^{2}}{6} + 1}\\right ), \\quad \\left ( \\frac{\\sqrt{6} \\lambda}{6}, \\quad \\sqrt{- \\frac{\\lambda^{2}}{6} + 1}\\right ), \\quad \\left ( \\frac{\\sqrt{6} \\left(w_{i} + 1\\right)}{2 \\lambda}, \\quad - \\frac{\\sqrt{2}}{2 \\lambda} \\sqrt{- 3 w_{i}^{2} + 3}\\right ), \\quad \\left ( \\frac{\\sqrt{6} \\left(w_{i} + 1\\right)}{2 \\lambda}, \\quad \\frac{\\sqrt{2}}{2 \\lambda} \\sqrt{- 3 w_{i}^{2} + 3}\\right )\\right ]$$"
      ],
      "text/plain": [
       "⎡                         ⎛                  ________________⎞  ⎛             \n",
       "⎢                         ⎜                 ╱          2     ⎟  ⎜             \n",
       "⎢                         ⎜√6⋅\\lambda      ╱    \\lambda      ⎟  ⎜√6⋅\\lambda   \n",
       "⎢(-1, 0), (0, 0), (1, 0), ⎜──────────, -  ╱   - ──────── + 1 ⎟, ⎜──────────,  \n",
       "⎣                         ⎝    6        ╲╱         6         ⎠  ⎝    6       ╲\n",
       "\n",
       "    ________________⎞  ⎛                       ________________ ⎞  ⎛          \n",
       "   ╱          2     ⎟  ⎜                      ╱          2      ⎟  ⎜          \n",
       "  ╱    \\lambda      ⎟  ⎜√6⋅(w_{i} + 1)  -√2⋅╲╱  - 3⋅w_{i}  + 3  ⎟  ⎜√6⋅(w_{i} \n",
       " ╱   - ──────── + 1 ⎟, ⎜──────────────, ────────────────────────⎟, ⎜──────────\n",
       "╱         6         ⎠  ⎝  2⋅\\lambda            2⋅\\lambda        ⎠  ⎝  2⋅\\lambd\n",
       "\n",
       "            ________________⎞⎤\n",
       "           ╱          2     ⎟⎥\n",
       "+ 1)  √2⋅╲╱  - 3⋅w_{i}  + 3 ⎟⎥\n",
       "────, ──────────────────────⎟⎥\n",
       "a           2⋅\\lambda       ⎠⎦"
      ]
     },
     "execution_count": 115,
     "metadata": {},
     "output_type": "execute_result"
    }
   ],
   "source": [
    "solution"
   ]
  },
  {
   "cell_type": "code",
   "execution_count": 116,
   "metadata": {},
   "outputs": [
    {
     "data": {
      "image/png": "[encoded data removed]",
      "text/latex": [
       "$$\\left [ \\left ( -1, \\quad 0\\right ), \\quad \\left ( 0, \\quad 0\\right ), \\quad \\left ( 1, \\quad 0\\right ), \\quad \\left ( \\frac{\\sqrt{6} \\lambda}{6}, \\quad \\sqrt{- \\frac{\\lambda^{2}}{6} + 1}\\right ), \\quad \\left ( \\frac{\\sqrt{6} \\left(w_{i} + 1\\right)}{2 \\lambda}, \\quad \\frac{\\sqrt{2}}{2 \\lambda} \\sqrt{- 3 w_{i}^{2} + 3}\\right )\\right ]$$"
      ],
      "text/plain": [
       "⎡                         ⎛                 ________________⎞  ⎛              \n",
       "⎢                         ⎜                ╱          2     ⎟  ⎜              \n",
       "⎢                         ⎜√6⋅\\lambda     ╱    \\lambda      ⎟  ⎜√6⋅(w_{i} + 1)\n",
       "⎢(-1, 0), (0, 0), (1, 0), ⎜──────────,   ╱   - ──────── + 1 ⎟, ⎜──────────────\n",
       "⎣                         ⎝    6       ╲╱         6         ⎠  ⎝  2⋅\\lambda   \n",
       "\n",
       "        ________________⎞⎤\n",
       "       ╱          2     ⎟⎥\n",
       "  √2⋅╲╱  - 3⋅w_{i}  + 3 ⎟⎥\n",
       ", ──────────────────────⎟⎥\n",
       "        2⋅\\lambda       ⎠⎦"
      ]
     },
     "execution_count": 116,
     "metadata": {},
     "output_type": "execute_result"
    }
   ],
   "source": [
    "critical_points = [solution[0],solution[1],solution[2],solution[4],solution[6]]\n",
    "critical_points"
   ]
  },
  {
   "cell_type": "markdown",
   "metadata": {},
   "source": [
    "### Jacobian"
   ]
  },
  {
   "cell_type": "code",
   "execution_count": 117,
   "metadata": {},
   "outputs": [],
   "source": [
    "J = Matrix([[diff(x_prime, x),diff(x_prime, y)],[diff(y_prime, x), diff(y_prime, y)]])"
   ]
  },
  {
   "cell_type": "code",
   "execution_count": 126,
   "metadata": {},
   "outputs": [
    {
     "data": {
      "image/png": "[encoded data removed]",
      "text/latex": [
       "$$\\left[\\begin{matrix}3 x^{2} \\left(- w_{i} + 1\\right) - \\frac{3 y^{2}}{2} \\left(w_{i} + 1\\right) + \\frac{3}{2} \\left(- w_{i} + 1\\right) \\left(x^{2} - 1\\right) & \\sqrt{6} \\lambda y - 3 x y \\left(w_{i} + 1\\right)\\\\- \\frac{\\lambda y}{2} \\sqrt{6} + 3 x y \\left(- w_{i} + 1\\right) & - \\frac{\\lambda x}{2} \\sqrt{6} + \\frac{3 x^{2}}{2} \\left(- w_{i} + 1\\right) - 3 y^{2} \\left(w_{i} + 1\\right) + \\frac{3}{2} \\left(w_{i} + 1\\right) \\left(- y^{2} + 1\\right)\\end{matrix}\\right]$$"
      ],
      "text/plain": [
       "⎡                       2                              ⎛ 2    ⎞               \n",
       "⎢   2                3⋅y ⋅(w_{i} + 1)   3⋅(-w_{i} + 1)⋅⎝x  - 1⎠               \n",
       "⎢3⋅x ⋅(-w_{i} + 1) - ──────────────── + ───────────────────────               \n",
       "⎢                           2                      2                          \n",
       "⎢                                                                             \n",
       "⎢                                                                             \n",
       "⎢               √6⋅\\lambda⋅y                                       √6⋅\\lambda⋅\n",
       "⎢             - ──────────── + 3⋅x⋅y⋅(-w_{i} + 1)                - ───────────\n",
       "⎣                    2                                                  2     \n",
       "\n",
       "                                                                   ⎤\n",
       "                                                                   ⎥\n",
       "           √6⋅\\lambda⋅y - 3⋅x⋅y⋅(w_{i} + 1)                        ⎥\n",
       "                                                                   ⎥\n",
       "                                                                   ⎥\n",
       "       2                                                 ⎛   2    ⎞⎥\n",
       "x   3⋅x ⋅(-w_{i} + 1)      2               3⋅(w_{i} + 1)⋅⎝- y  + 1⎠⎥\n",
       "─ + ───────────────── - 3⋅y ⋅(w_{i} + 1) + ────────────────────────⎥\n",
       "            2                                         2            ⎦"
      ]
     },
     "execution_count": 126,
     "metadata": {},
     "output_type": "execute_result"
    }
   ],
   "source": [
    "J"
   ]
  },
  {
   "cell_type": "code",
   "execution_count": 118,
   "metadata": {},
   "outputs": [
    {
     "data": {
      "image/png": "[encoded data removed]",
      "text/latex": [
       "$$- \\frac{9 w_{i}}{2} x^{2} - \\frac{3 w_{i}}{2} y^{2} + \\frac{3 w_{i}}{2} + \\frac{9 x^{2}}{2} - \\frac{3 y^{2}}{2} - \\frac{3}{2}$$"
      ],
      "text/plain": [
       "           2            2                2      2    \n",
       "  9⋅w_{i}⋅x    3⋅w_{i}⋅y    3⋅w_{i}   9⋅x    3⋅y    3\n",
       "- ────────── - ────────── + ─────── + ──── - ──── - ─\n",
       "      2            2           2       2      2     2"
      ]
     },
     "execution_count": 118,
     "metadata": {},
     "output_type": "execute_result"
    }
   ],
   "source": [
    "cancel(collect(J[0,0],x))"
   ]
  },
  {
   "cell_type": "code",
   "execution_count": 119,
   "metadata": {},
   "outputs": [
    {
     "data": {
      "image/png": "[encoded data removed]",
      "text/latex": [
       "$$\\sqrt{6} \\lambda y - 3 w_{i} x y - 3 x y$$"
      ],
      "text/plain": [
       "√6⋅\\lambda⋅y - 3⋅w_{i}⋅x⋅y - 3⋅x⋅y"
      ]
     },
     "execution_count": 119,
     "metadata": {},
     "output_type": "execute_result"
    }
   ],
   "source": [
    "cancel(collect(J[0,1],x))"
   ]
  },
  {
   "cell_type": "code",
   "execution_count": 120,
   "metadata": {},
   "outputs": [
    {
     "data": {
      "image/png": "[encoded data removed]",
      "text/latex": [
       "$$- \\frac{\\lambda y}{2} \\sqrt{6} - 3 w_{i} x y + 3 x y$$"
      ],
      "text/plain": [
       "  √6⋅\\lambda⋅y                      \n",
       "- ──────────── - 3⋅w_{i}⋅x⋅y + 3⋅x⋅y\n",
       "       2                            "
      ]
     },
     "execution_count": 120,
     "metadata": {},
     "output_type": "execute_result"
    }
   ],
   "source": [
    "cancel(collect(J[1,0],x))"
   ]
  },
  {
   "cell_type": "code",
   "execution_count": 121,
   "metadata": {},
   "outputs": [
    {
     "data": {
      "image/png": "[encoded data removed]",
      "text/latex": [
       "$$- \\frac{\\lambda x}{2} \\sqrt{6} - \\frac{3 w_{i}}{2} x^{2} - \\frac{9 w_{i}}{2} y^{2} + \\frac{3 w_{i}}{2} + \\frac{3 x^{2}}{2} - \\frac{9 y^{2}}{2} + \\frac{3}{2}$$"
      ],
      "text/plain": [
       "                          2            2                2      2    \n",
       "  √6⋅\\lambda⋅x   3⋅w_{i}⋅x    9⋅w_{i}⋅y    3⋅w_{i}   3⋅x    9⋅y    3\n",
       "- ──────────── - ────────── - ────────── + ─────── + ──── - ──── + ─\n",
       "       2             2            2           2       2      2     2"
      ]
     },
     "execution_count": 121,
     "metadata": {},
     "output_type": "execute_result"
    }
   ],
   "source": [
    "cancel(collect(J[1,1],x))"
   ]
  },
  {
   "cell_type": "code",
   "execution_count": 122,
   "metadata": {},
   "outputs": [],
   "source": [
    "J_eigenvalues = J.eigenvals()"
   ]
  },
  {
   "cell_type": "code",
   "execution_count": 123,
   "metadata": {},
   "outputs": [],
   "source": [
    "e1 = -sqrt(6)*l*x/4 - 3*w_i*x**2 - 3*w_i*y**2 + 3*w_i/2 + 3*x**2 - 3*y**2 - sqrt(6)*sqrt(l**2*x**2 - 8*l**2*y**2 - 2*sqrt(6)*l*w_i*x**3 - 2*sqrt(6)*l*w_i*x*y**2 + 2*sqrt(6)*l*x**3 + 14*sqrt(6)*l*x*y**2 - 2*sqrt(6)*l*x + 6*w_i**2*x**4 + 12*w_i**2*x**2*y**2 + 6*w_i**2*y**4 - 12*w_i*x**4 + 12*w_i*x**2 + 12*w_i*y**4 - 12*w_i*y**2 + 6*x**4 - 12*x**2*y**2 - 12*x**2 + 6*y**4 - 12*y**2 + 6)/4\n",
    "e2 = -sqrt(6)*l*x/4 - 3*w_i*x**2 - 3*w_i*y**2 + 3*w_i/2 + 3*x**2 - 3*y**2 + sqrt(6)*sqrt(l**2*x**2 - 8*l**2*y**2 - 2*sqrt(6)*l*w_i*x**3 - 2*sqrt(6)*l*w_i*x*y**2 + 2*sqrt(6)*l*x**3 + 14*sqrt(6)*l*x*y**2 - 2*sqrt(6)*l*x + 6*w_i**2*x**4 + 12*w_i**2*x**2*y**2 + 6*w_i**2*y**4 - 12*w_i*x**4 + 12*w_i*x**2 + 12*w_i*y**4 - 12*w_i*y**2 + 6*x**4 - 12*x**2*y**2 - 12*x**2 + 6*y**4 - 12*y**2 + 6)/4\n",
    "    \n",
    "J_complete = [e1, e2]\n"
   ]
  },
  {
   "cell_type": "code",
   "execution_count": 124,
   "metadata": {},
   "outputs": [],
   "source": [
    "J_x_minus = [J_complete[0].subs([(x,-1), (y, 0)]), J_complete[1].subs([(x,-1), (y, 0)])]\n",
    "J_x_plus = [J_complete[0].subs([(x,1), (y, 0)]), J_complete[1].subs([(x,1), (y, 0)])]\n",
    "J_I = [J_complete[0].subs([(x,0), (y, 0)]), J_complete[1].subs([(x,0), (y, 0)])]\n",
    "J_A = [J_complete[0].subs([(x,critical_points[3][0]), (y, critical_points[3][1])]), J_complete[1].subs([(x,critical_points[3][0]), (y, critical_points[3][1])])]\n",
    "J_C = [J_complete[0].subs([(x,critical_points[4][0]), (y, critical_points[4][1])]), J_complete[1].subs([(x,critical_points[4][0]), (y, critical_points[4][1])])]\n"
   ]
  },
  {
   "cell_type": "code",
   "execution_count": 49,
   "metadata": {},
   "outputs": [],
   "source": [
    "def w_effective(x, y, w_i = Symbol('w_{i}')):\n",
    "    return w_i*(1 - x**2 - y**2) + x**2 - y**2\n",
    "\n",
    "def eigen_values(l, w_i, x, y):\n",
    "    eig1 = -np.sqrt(6)*l*x/4 - 3*w_i*x**2 - 3*w_i*y**2 + 3*w_i/2 + 3*x**2 - 3*y**2 - np.sqrt(6)*np.sqrt(l**2*x**2 - 8*l**2*y**2 - 2*np.sqrt(6)*l*w_i*x**3 - 2*np.sqrt(6)*l*w_i*x*y**2 + 2*np.sqrt(6)*l*x**3 + 14*np.sqrt(6)*l*x*y**2 - 2*np.sqrt(6)*l*x + 6*w_i**2*x**4 + 12*w_i**2*x**2*y**2 + 6*w_i**2*y**4 - 12*w_i*x**4 + 12*w_i*x**2 + 12*w_i*y**4 - 12*w_i*y**2 + 6*x**4 - 12*x**2*y**2 - 12*x**2 + 6*y**4 - 12*y**2 + 6)/4\n",
    "    eig2 = -np.sqrt(6)*l*x/4 - 3*w_i*x**2 - 3*w_i*y**2 + 3*w_i/2 + 3*x**2 - 3*y**2 + np.sqrt(6)*np.sqrt(l**2*x**2 - 8*l**2*y**2 - 2*np.sqrt(6)*l*w_i*x**3 - 2*np.sqrt(6)*l*w_i*x*y**2 + 2*np.sqrt(6)*l*x**3 + 14*np.sqrt(6)*l*x*y**2 - 2*np.sqrt(6)*l*x + 6*w_i**2*x**4 + 12*w_i**2*x**2*y**2 + 6*w_i**2*y**4 - 12*w_i*x**4 + 12*w_i*x**2 + 12*w_i*y**4 - 12*w_i*y**2 + 6*x**4 - 12*x**2*y**2 - 12*x**2 + 6*y**4 - 12*y**2 + 6)/4\n",
    "    \n",
    "    return eig1, eig2\n",
    "    "
   ]
  },
  {
   "cell_type": "code",
   "execution_count": 61,
   "metadata": {},
   "outputs": [
    {
     "data": {
      "image/png": "[encoded data removed]",
      "text/latex": [
       "$$1$$"
      ],
      "text/plain": [
       "1"
      ]
     },
     "execution_count": 61,
     "metadata": {},
     "output_type": "execute_result"
    }
   ],
   "source": [
    "w_effective(critical_points[0][0],critical_points[0][1])"
   ]
  },
  {
   "cell_type": "code",
   "execution_count": 62,
   "metadata": {},
   "outputs": [
    {
     "data": {
      "image/png": "[encoded data removed]",
      "text/latex": [
       "$$w_{i}$$"
      ],
      "text/plain": [
       "w_{i}"
      ]
     },
     "execution_count": 62,
     "metadata": {},
     "output_type": "execute_result"
    }
   ],
   "source": [
    "w_effective(critical_points[1][0],critical_points[1][1])"
   ]
  },
  {
   "cell_type": "code",
   "execution_count": 63,
   "metadata": {},
   "outputs": [
    {
     "data": {
      "image/png": "[encoded data removed]",
      "text/latex": [
       "$$1$$"
      ],
      "text/plain": [
       "1"
      ]
     },
     "execution_count": 63,
     "metadata": {},
     "output_type": "execute_result"
    }
   ],
   "source": [
    "w_effective(critical_points[2][0],critical_points[2][1])"
   ]
  },
  {
   "cell_type": "code",
   "execution_count": 64,
   "metadata": {},
   "outputs": [
    {
     "data": {
      "image/png": "[encoded data removed]",
      "text/latex": [
       "$$\\frac{\\lambda^{2}}{3} - 1$$"
      ],
      "text/plain": [
       "       2    \n",
       "\\lambda     \n",
       "──────── - 1\n",
       "   3        "
      ]
     },
     "execution_count": 64,
     "metadata": {},
     "output_type": "execute_result"
    }
   ],
   "source": [
    "w_effective(critical_points[3][0],critical_points[3][1])"
   ]
  },
  {
   "cell_type": "code",
   "execution_count": 66,
   "metadata": {},
   "outputs": [
    {
     "data": {
      "image/png": "[encoded data removed]",
      "text/latex": [
       "$$w_{i}$$"
      ],
      "text/plain": [
       "w_{i}"
      ]
     },
     "execution_count": 66,
     "metadata": {},
     "output_type": "execute_result"
    }
   ],
   "source": [
    "simplify(w_effective(critical_points[4][0],critical_points[4][1]))"
   ]
  },
  {
   "cell_type": "code",
   "execution_count": null,
   "metadata": {},
   "outputs": [],
   "source": []
  }
 ],
 "metadata": {
  "kernelspec": {
   "display_name": "Python 3",
   "language": "python",
   "name": "python3"
  },
  "language_info": {
   "codemirror_mode": {
    "name": "ipython",
    "version": 3
   },
   "file_extension": ".py",
   "mimetype": "text/x-python",
   "name": "python",
   "nbconvert_exporter": "python",
   "pygments_lexer": "ipython3",
   "version": "3.4.2"
  }
 },
 "nbformat": 4,
 "nbformat_minor": 2
}
