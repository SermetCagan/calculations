{
 "cells": [
  {
   "cell_type": "code",
   "execution_count": 1,
   "metadata": {},
   "outputs": [],
   "source": [
    "from sympy import *\n",
    "from gravipy import *\n",
    "init_printing()"
   ]
  },
  {
   "cell_type": "code",
   "execution_count": 2,
   "metadata": {},
   "outputs": [],
   "source": [
    "t, r, theta, phi = symbols('t, r, \\\\theta, \\\\phi')"
   ]
  },
  {
   "cell_type": "code",
   "execution_count": 3,
   "metadata": {},
   "outputs": [],
   "source": [
    "Metric = diag(-1, r**2, r**2*sin(theta)**2)"
   ]
  },
  {
   "cell_type": "code",
   "execution_count": 4,
   "metadata": {},
   "outputs": [
    {
     "data": {
      "image/png": "[encoded data removed]",
      "text/latex": [
       "$$\\left[\\begin{matrix}-1 & 0 & 0\\\\0 & r^{2} & 0\\\\0 & 0 & r^{2} \\sin^{2}{\\left (\\theta \\right )}\\end{matrix}\\right]$$"
      ],
      "text/plain": [
       "⎡-1  0          0       ⎤\n",
       "⎢                       ⎥\n",
       "⎢     2                 ⎥\n",
       "⎢0   r          0       ⎥\n",
       "⎢                       ⎥\n",
       "⎢         2    2        ⎥\n",
       "⎣0   0   r ⋅sin (\\theta)⎦"
      ]
     },
     "execution_count": 4,
     "metadata": {},
     "output_type": "execute_result"
    }
   ],
   "source": [
    "Metric"
   ]
  },
  {
   "cell_type": "code",
   "execution_count": 5,
   "metadata": {},
   "outputs": [],
   "source": [
    "x = Coordinates('\\chi',[t,theta,phi])"
   ]
  },
  {
   "cell_type": "code",
   "execution_count": 6,
   "metadata": {},
   "outputs": [],
   "source": [
    "g = MetricTensor('g', x, Metric)"
   ]
  },
  {
   "cell_type": "code",
   "execution_count": 7,
   "metadata": {},
   "outputs": [],
   "source": [
    "Ga = Christoffel('Ga', g)"
   ]
  },
  {
   "cell_type": "code",
   "execution_count": 8,
   "metadata": {},
   "outputs": [
    {
     "data": {
      "image/png": "[encoded data removed]",
      "text/latex": [
       "$$\\left[\\begin{matrix}\\left[\\begin{matrix}0 & 0 & 0\\\\0 & 0 & 0\\\\0 & 0 & 0\\end{matrix}\\right] & \\left[\\begin{matrix}0 & 0 & 0\\\\0 & 0 & 0\\\\0 & 0 & 0\\end{matrix}\\right] & \\left[\\begin{matrix}0 & 0 & 0\\\\0 & 0 & 0\\\\0 & 0 & 0\\end{matrix}\\right]\\\\\\left[\\begin{matrix}0 & 0 & 0\\\\0 & 0 & 0\\\\0 & 0 & 0\\end{matrix}\\right] & \\left[\\begin{matrix}0 & 0 & 0\\\\0 & 0 & 0\\\\0 & 0 & 0\\end{matrix}\\right] & \\left[\\begin{matrix}0 & 0 & 0\\\\0 & 0 & 0\\\\- \\frac{r^{2}}{2} \\sin{\\left (2 \\theta \\right )} & - \\frac{r^{2}}{2} \\sin{\\left (2 \\theta \\right )} & - \\frac{r^{2}}{2} \\sin{\\left (2 \\theta \\right )}\\end{matrix}\\right]\\\\\\left[\\begin{matrix}0 & 0 & 0\\\\0 & 0 & 0\\\\0 & 0 & 0\\end{matrix}\\right] & \\left[\\begin{matrix}0 & 0 & 0\\\\0 & 0 & 0\\\\\\frac{r^{2}}{2} \\sin{\\left (2 \\theta \\right )} & \\frac{r^{2}}{2} \\sin{\\left (2 \\theta \\right )} & \\frac{r^{2}}{2} \\sin{\\left (2 \\theta \\right )}\\end{matrix}\\right] & \\left[\\begin{matrix}0 & 0 & 0\\\\\\frac{r^{2}}{2} \\sin{\\left (2 \\theta \\right )} & \\frac{r^{2}}{2} \\sin{\\left (2 \\theta \\right )} & \\frac{r^{2}}{2} \\sin{\\left (2 \\theta \\right )}\\\\0 & 0 & 0\\end{matrix}\\right]\\end{matrix}\\right]$$"
      ],
      "text/plain": [
       "⎡⎡0  0  0⎤                        ⎡0  0  0⎤                                   \n",
       "⎢⎢       ⎥                        ⎢       ⎥                                   \n",
       "⎢⎢0  0  0⎥                        ⎢0  0  0⎥                                   \n",
       "⎢⎢       ⎥                        ⎢       ⎥                                   \n",
       "⎢⎣0  0  0⎦                        ⎣0  0  0⎦                                   \n",
       "⎢                                                                             \n",
       "⎢                                                                   ⎡        0\n",
       "⎢                                                                   ⎢         \n",
       "⎢⎡0  0  0⎤                        ⎡0  0  0⎤                         ⎢        0\n",
       "⎢⎢       ⎥                        ⎢       ⎥                         ⎢         \n",
       "⎢⎢0  0  0⎥                        ⎢0  0  0⎥                         ⎢  2      \n",
       "⎢⎢       ⎥                        ⎢       ⎥                         ⎢-r ⋅sin(2\n",
       "⎢⎣0  0  0⎦                        ⎣0  0  0⎦                         ⎢─────────\n",
       "⎢                                                                   ⎣        2\n",
       "⎢                                                                             \n",
       "⎢           ⎡       0                 0                 0        ⎤     ⎡      \n",
       "⎢           ⎢                                                    ⎥     ⎢      \n",
       "⎢⎡0  0  0⎤  ⎢       0                 0                 0        ⎥     ⎢ 2    \n",
       "⎢⎢       ⎥  ⎢                                                    ⎥     ⎢r ⋅sin\n",
       "⎢⎢0  0  0⎥  ⎢ 2                 2                 2              ⎥     ⎢──────\n",
       "⎢⎢       ⎥  ⎢r ⋅sin(2⋅\\theta)  r ⋅sin(2⋅\\theta)  r ⋅sin(2⋅\\theta)⎥     ⎢      \n",
       "⎢⎣0  0  0⎦  ⎢────────────────  ────────────────  ────────────────⎥     ⎢      \n",
       "⎣           ⎣       2                 2                 2        ⎦     ⎣      \n",
       "\n",
       "               ⎡0  0  0⎤                          ⎤\n",
       "               ⎢       ⎥                          ⎥\n",
       "               ⎢0  0  0⎥                          ⎥\n",
       "               ⎢       ⎥                          ⎥\n",
       "               ⎣0  0  0⎦                          ⎥\n",
       "                                                  ⎥\n",
       "                   0                   0         ⎤⎥\n",
       "                                                 ⎥⎥\n",
       "                   0                   0         ⎥⎥\n",
       "                                                 ⎥⎥\n",
       "             2                   2               ⎥⎥\n",
       "⋅\\theta)   -r ⋅sin(2⋅\\theta)   -r ⋅sin(2⋅\\theta) ⎥⎥\n",
       "─────────  ──────────────────  ──────────────────⎥⎥\n",
       "                   2                   2         ⎦⎥\n",
       "                                                  ⎥\n",
       " 0                 0                 0        ⎤   ⎥\n",
       "                                              ⎥   ⎥\n",
       "             2                 2              ⎥   ⎥\n",
       "(2⋅\\theta)  r ⋅sin(2⋅\\theta)  r ⋅sin(2⋅\\theta)⎥   ⎥\n",
       "──────────  ────────────────  ────────────────⎥   ⎥\n",
       " 2                 2                 2        ⎥   ⎥\n",
       "                                              ⎥   ⎥\n",
       " 0                 0                 0        ⎦   ⎦"
      ]
     },
     "execution_count": 8,
     "metadata": {},
     "output_type": "execute_result"
    }
   ],
   "source": [
    "Ga(All, All, All)"
   ]
  },
  {
   "cell_type": "code",
   "execution_count": 9,
   "metadata": {},
   "outputs": [],
   "source": [
    "Ri = Ricci('Ri', g)"
   ]
  },
  {
   "cell_type": "code",
   "execution_count": 10,
   "metadata": {},
   "outputs": [
    {
     "data": {
      "image/png": "[encoded data removed]",
      "text/latex": [
       "$$\\frac{2}{r^{2}}$$"
      ],
      "text/plain": [
       "2 \n",
       "──\n",
       " 2\n",
       "r "
      ]
     },
     "execution_count": 10,
     "metadata": {},
     "output_type": "execute_result"
    }
   ],
   "source": [
    "Ri.scalar()"
   ]
  },
  {
   "cell_type": "code",
   "execution_count": 11,
   "metadata": {},
   "outputs": [
    {
     "data": {
      "image/png": "[encoded data removed]",
      "text/latex": [
       "$$\\left[\\begin{matrix}0 & 0 & 0\\\\0 & 1 & 0\\\\0 & 0 & \\sin^{2}{\\left (\\theta \\right )}\\end{matrix}\\right]$$"
      ],
      "text/plain": [
       "⎡0  0       0      ⎤\n",
       "⎢                  ⎥\n",
       "⎢0  1       0      ⎥\n",
       "⎢                  ⎥\n",
       "⎢         2        ⎥\n",
       "⎣0  0  sin (\\theta)⎦"
      ]
     },
     "execution_count": 11,
     "metadata": {},
     "output_type": "execute_result"
    }
   ],
   "source": [
    "Ri(All,All)"
   ]
  },
  {
   "cell_type": "code",
   "execution_count": 12,
   "metadata": {},
   "outputs": [],
   "source": [
    "Rm = Riemann('Rm', g)"
   ]
  },
  {
   "cell_type": "code",
   "execution_count": 20,
   "metadata": {},
   "outputs": [
    {
     "data": {
      "image/png": "[encoded data removed]",
      "text/latex": [
       "$$\\left[\\begin{matrix}\\left[\\begin{matrix}0 & 0 & 0\\\\0 & 0 & 0\\\\0 & 0 & 0\\end{matrix}\\right] & \\left[\\begin{matrix}0 & 0 & 0\\\\0 & 0 & 0\\\\0 & 0 & 0\\end{matrix}\\right] & \\left[\\begin{matrix}0 & 0 & 0\\\\0 & 0 & 0\\\\0 & 0 & 0\\end{matrix}\\right]\\\\\\left[\\begin{matrix}0 & 0 & 0\\\\0 & 0 & 0\\\\0 & 0 & 0\\end{matrix}\\right] & \\left[\\begin{matrix}0 & 0 & 0\\\\0 & 0 & 0\\\\0 & 0 & 0\\end{matrix}\\right] & \\left[\\begin{matrix}0 & 0 & 0\\\\0 & 0 & r^{2} \\sin^{2}{\\left (\\theta \\right )}\\\\0 & - r^{2} \\sin^{2}{\\left (\\theta \\right )} & 0\\end{matrix}\\right]\\\\\\left[\\begin{matrix}0 & 0 & 0\\\\0 & 0 & 0\\\\0 & 0 & 0\\end{matrix}\\right] & \\left[\\begin{matrix}0 & 0 & 0\\\\0 & 0 & - r^{2} \\sin^{2}{\\left (\\theta \\right )}\\\\0 & r^{2} \\sin^{2}{\\left (\\theta \\right )} & 0\\end{matrix}\\right] & \\left[\\begin{matrix}0 & 0 & 0\\\\0 & 0 & 0\\\\0 & 0 & 0\\end{matrix}\\right]\\end{matrix}\\right]$$"
      ],
      "text/plain": [
       "⎡⎡0  0  0⎤                ⎡0  0  0⎤                               ⎡0  0  0⎤   \n",
       "⎢⎢       ⎥                ⎢       ⎥                               ⎢       ⎥   \n",
       "⎢⎢0  0  0⎥                ⎢0  0  0⎥                               ⎢0  0  0⎥   \n",
       "⎢⎢       ⎥                ⎢       ⎥                               ⎢       ⎥   \n",
       "⎢⎣0  0  0⎦                ⎣0  0  0⎦                               ⎣0  0  0⎦   \n",
       "⎢                                                                             \n",
       "⎢                                                   ⎡0         0              \n",
       "⎢⎡0  0  0⎤                ⎡0  0  0⎤                 ⎢                         \n",
       "⎢⎢       ⎥                ⎢       ⎥                 ⎢                      2  \n",
       "⎢⎢0  0  0⎥                ⎢0  0  0⎥                 ⎢0         0          r ⋅s\n",
       "⎢⎢       ⎥                ⎢       ⎥                 ⎢                         \n",
       "⎢⎣0  0  0⎦                ⎣0  0  0⎦                 ⎢     2    2              \n",
       "⎢                                                   ⎣0  -r ⋅sin (\\theta)      \n",
       "⎢                                                                             \n",
       "⎢           ⎡0         0                0        ⎤                            \n",
       "⎢⎡0  0  0⎤  ⎢                                    ⎥                ⎡0  0  0⎤   \n",
       "⎢⎢       ⎥  ⎢                      2    2        ⎥                ⎢       ⎥   \n",
       "⎢⎢0  0  0⎥  ⎢0         0         -r ⋅sin (\\theta)⎥                ⎢0  0  0⎥   \n",
       "⎢⎢       ⎥  ⎢                                    ⎥                ⎢       ⎥   \n",
       "⎢⎣0  0  0⎦  ⎢    2    2                          ⎥                ⎣0  0  0⎦   \n",
       "⎣           ⎣0  r ⋅sin (\\theta)         0        ⎦                            \n",
       "\n",
       "            ⎤\n",
       "            ⎥\n",
       "            ⎥\n",
       "            ⎥\n",
       "            ⎥\n",
       "            ⎥\n",
       "   0       ⎤⎥\n",
       "           ⎥⎥\n",
       "  2        ⎥⎥\n",
       "in (\\theta)⎥⎥\n",
       "           ⎥⎥\n",
       "           ⎥⎥\n",
       "   0       ⎦⎥\n",
       "            ⎥\n",
       "            ⎥\n",
       "            ⎥\n",
       "            ⎥\n",
       "            ⎥\n",
       "            ⎥\n",
       "            ⎥\n",
       "            ⎦"
      ]
     },
     "execution_count": 20,
     "metadata": {},
     "output_type": "execute_result"
    }
   ],
   "source": [
    "Rm(All,All,All,All)"
   ]
  },
  {
   "cell_type": "code",
   "execution_count": 18,
   "metadata": {},
   "outputs": [],
   "source": [
    "G = Einstein('G',Ri)"
   ]
  },
  {
   "cell_type": "code",
   "execution_count": 19,
   "metadata": {},
   "outputs": [
    {
     "data": {
      "image/png": "[encoded data removed]",
      "text/latex": [
       "$$\\left[\\begin{matrix}\\frac{1}{r^{2}} & 0 & 0\\\\0 & 0 & 0\\\\0 & 0 & 0\\end{matrix}\\right]$$"
      ],
      "text/plain": [
       "⎡1       ⎤\n",
       "⎢──  0  0⎥\n",
       "⎢ 2      ⎥\n",
       "⎢r       ⎥\n",
       "⎢        ⎥\n",
       "⎢0   0  0⎥\n",
       "⎢        ⎥\n",
       "⎣0   0  0⎦"
      ]
     },
     "execution_count": 19,
     "metadata": {},
     "output_type": "execute_result"
    }
   ],
   "source": [
    "G(All,All)"
   ]
  }
 ],
 "metadata": {
  "kernelspec": {
   "display_name": "Python 3",
   "language": "python",
   "name": "python3"
  },
  "language_info": {
   "codemirror_mode": {
    "name": "ipython",
    "version": 3
   },
   "file_extension": ".py",
   "mimetype": "text/x-python",
   "name": "python",
   "nbconvert_exporter": "python",
   "pygments_lexer": "ipython3",
   "version": "3.6.4"
  }
 },
 "nbformat": 4,
 "nbformat_minor": 2
}
