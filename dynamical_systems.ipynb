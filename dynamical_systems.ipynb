{
 "cells": [
  {
   "cell_type": "code",
   "execution_count": 83,
   "metadata": {},
   "outputs": [],
   "source": [
    "from __future__ import print_function\n",
    "from IPython.display import display, clear_output\n",
    "import sys, os\n",
    "import time\n",
    "import math\n",
    "import getdist.plots as gplot\n",
    "from sympy import *\n",
    "from sympy.solvers import solve\n",
    "from scipy import optimize\n",
    "from scipy.constants import physical_constants\n",
    "from sympy.physics.mechanics import dynamicsymbols, init_vprinting\n",
    "from matplotlib import pyplot as plt\n",
    "import scipy.integrate as integrate\n",
    "import numpy as np\n",
    "\n",
    "init_vprinting()"
   ]
  },
  {
   "cell_type": "markdown",
   "metadata": {},
   "source": [
    "# Stability analysis for a universe: Matter+Radiation+$\\Lambda$"
   ]
  },
  {
   "cell_type": "code",
   "execution_count": 116,
   "metadata": {},
   "outputs": [],
   "source": [
    "Omega_m, Omega_r, Omega_l = symbols('\\Omega_{M} \\Omega_{R} \\Omega_{\\Lambda}')\n",
    "\n",
    "Omega_m_p = Function('\\Omega_{M}^{\\prime}')\n",
    "Omega_r_p = Function('\\Omega_{R}^{\\prime}')\n",
    "\n",
    "Omega_m_p = Omega_m * (3*Omega_m + 4*Omega_r - 3)\n",
    "Omega_r_p = Omega_r * (3*Omega_m + 4*Omega_r - 4)\n",
    "\n",
    "w_eff = Symbol('w_{eff}')\n",
    "w_m = Symbol('w_{M}')\n",
    "w_r = Symbol('w_{R}')\n",
    "w_l = Symbol('w_{\\Lambda}')\n",
    "\n",
    "w_eff = w_m*Omega_m + w_r*Omega_r + w_l*Omega_l"
   ]
  },
  {
   "cell_type": "markdown",
   "metadata": {},
   "source": [
    "### Effective EoS Parameter $w_{eff}$"
   ]
  },
  {
   "cell_type": "code",
   "execution_count": 122,
   "metadata": {},
   "outputs": [],
   "source": [
    "def w_effective(Or, Ol):\n",
    "    return Or/3.0 - Ol"
   ]
  },
  {
   "cell_type": "code",
   "execution_count": 85,
   "metadata": {},
   "outputs": [
    {
     "data": {
      "image/png": "[encoded data removed]",
      "text/latex": [
       "$$\\left [ \\left \\{ \\Omega_{M} : - \\frac{4 \\Omega_{R}}{3}\\right \\}, \\quad \\left \\{ \\Omega_{M} : - \\Omega_{R} + 1\\right \\}\\right ]$$"
      ],
      "text/plain": [
       "⎡⎧            -4⋅\\Omega_{R} ⎫                               ⎤\n",
       "⎢⎨\\Omega_{M}: ──────────────⎬, {\\Omega_{M}: -\\Omega_{R} + 1}⎥\n",
       "⎣⎩                  3       ⎭                               ⎦"
      ]
     },
     "execution_count": 85,
     "metadata": {},
     "output_type": "execute_result"
    }
   ],
   "source": [
    "solve([Omega_m_p + Omega_r_p], Omega_m, Omega_r)"
   ]
  },
  {
   "cell_type": "markdown",
   "metadata": {},
   "source": [
    "### Critical Points"
   ]
  },
  {
   "cell_type": "markdown",
   "metadata": {},
   "source": [
    "$\\left(\\Omega_{M}, \\Omega_{R}\\right) = (0,0) \\ \\rightarrow\\ \\Lambda\\ \\text{dominated}$\n",
    "\n",
    "$\\left(\\Omega_{M}, \\Omega_{R}\\right) = (0,1)\\ \\rightarrow\\ \\text{Radiation dominated}$\n",
    "\n",
    "$\\left(\\Omega_{M}, \\Omega_{R}\\right) = (1,0)\\ \\rightarrow\\ \\text{Matter dominated}$"
   ]
  },
  {
   "cell_type": "code",
   "execution_count": 86,
   "metadata": {},
   "outputs": [],
   "source": [
    "Jacobian = Matrix([[diff(Omega_m_p, Omega_m),diff(Omega_m_p, Omega_r)],[diff(Omega_r_p, Omega_m), diff(Omega_r_p, Omega_r)]])"
   ]
  },
  {
   "cell_type": "code",
   "execution_count": 108,
   "metadata": {},
   "outputs": [
    {
     "data": {
      "image/png": "[encoded data removed]",
      "text/latex": [
       "$$\\left \\{ \\frac{9 \\Omega_{M}}{2} + 6 \\Omega_{R} - \\frac{1}{2} \\sqrt{9 \\Omega_{M}^{2} + 24 \\Omega_{M} \\Omega_{R} + 6 \\Omega_{M} + 16 \\Omega_{R}^{2} - 8 \\Omega_{R} + 1} - \\frac{7}{2} : 1, \\quad \\frac{9 \\Omega_{M}}{2} + 6 \\Omega_{R} + \\frac{1}{2} \\sqrt{9 \\Omega_{M}^{2} + 24 \\Omega_{M} \\Omega_{R} + 6 \\Omega_{M} + 16 \\Omega_{R}^{2} - 8 \\Omega_{R} + 1} - \\frac{7}{2} : 1\\right \\}$$"
      ],
      "text/plain": [
       "⎧                                 ____________________________________________\n",
       "⎪                                ╱             2                              \n",
       "⎨9⋅\\Omega_{M}                  ╲╱  9⋅\\Omega_{M}  + 24⋅\\Omega_{M}⋅\\Omega_{R} + \n",
       "⎪──────────── + 6⋅\\Omega_{R} - ───────────────────────────────────────────────\n",
       "⎩     2                                                                       \n",
       "\n",
       "_________________________________________________                             \n",
       "                            2                                                 \n",
       "6⋅\\Omega_{M} + 16⋅\\Omega_{R}  - 8⋅\\Omega_{R} + 1    7     9⋅\\Omega_{M}        \n",
       "───────────────────────────────────────────────── - ─: 1, ──────────── + 6⋅\\Om\n",
       "2                                                   2          2              \n",
       "\n",
       "             _________________________________________________________________\n",
       "            ╱             2                                                   \n",
       "          ╲╱  9⋅\\Omega_{M}  + 24⋅\\Omega_{M}⋅\\Omega_{R} + 6⋅\\Omega_{M} + 16⋅\\Om\n",
       "ega_{R} + ────────────────────────────────────────────────────────────────────\n",
       "                                                         2                    \n",
       "\n",
       "____________________________       ⎫\n",
       "       2                           ⎪\n",
       "ega_{R}  - 8⋅\\Omega_{R} + 1    7   ⎬\n",
       "──────────────────────────── - ─: 1⎪\n",
       "                               2   ⎭"
      ]
     },
     "execution_count": 108,
     "metadata": {},
     "output_type": "execute_result"
    }
   ],
   "source": [
    "Jacobian.eigenvals()"
   ]
  },
  {
   "cell_type": "code",
   "execution_count": 109,
   "metadata": {},
   "outputs": [],
   "source": [
    "def eig_vals(Omega_M, Omega_R):\n",
    "    eig1 = 9*Omega_M/2 + 6*Omega_R - np.sqrt(9*Omega_M**2 + 24*Omega_M*Omega_R + 6*Omega_M + 16*Omega_R**2 - 8*Omega_R + 1)/2 - 7/2\n",
    "    eig2 = 9*Omega_M/2 + 6*Omega_R + np.sqrt(9*Omega_M**2 + 24*Omega_M*Omega_R + 6*Omega_M + 16*Omega_R**2 - 8*Omega_R + 1)/2 - 7/2\n",
    "    \n",
    "    return [eig1, eig2]\n",
    "\n",
    "M_eigs = eig_vals(1,0)\n",
    "R_eigs = eig_vals(0,1)\n",
    "L_eigs = eig_vals(0,0)"
   ]
  },
  {
   "cell_type": "markdown",
   "metadata": {},
   "source": [
    "### Eigenvalues for the critical point M(1,0)"
   ]
  },
  {
   "cell_type": "code",
   "execution_count": 110,
   "metadata": {},
   "outputs": [
    {
     "data": {
      "image/png": "[encoded data removed]",
      "text/latex": [
       "$$\\left [ -1.0, \\quad 3.0\\right ]$$"
      ],
      "text/plain": [
       "[-1.0, 3.0]"
      ]
     },
     "execution_count": 110,
     "metadata": {},
     "output_type": "execute_result"
    }
   ],
   "source": [
    "M_eigs"
   ]
  },
  {
   "cell_type": "markdown",
   "metadata": {},
   "source": [
    "M(1,0) $\\rightarrow$ Saddle point"
   ]
  },
  {
   "cell_type": "code",
   "execution_count": 125,
   "metadata": {},
   "outputs": [
    {
     "data": {
      "image/png": "[encoded data removed]",
      "text/latex": [
       "$$0.0$$"
      ],
      "text/plain": [
       "0.0"
      ]
     },
     "execution_count": 125,
     "metadata": {},
     "output_type": "execute_result"
    }
   ],
   "source": [
    "w_effective(0,0)"
   ]
  },
  {
   "cell_type": "markdown",
   "metadata": {},
   "source": [
    "### Eigenvalues for the critical point R(0,1)"
   ]
  },
  {
   "cell_type": "code",
   "execution_count": 111,
   "metadata": {},
   "outputs": [
    {
     "data": {
      "image/png": "[encoded data removed]",
      "text/latex": [
       "$$\\left [ 1.0, \\quad 4.0\\right ]$$"
      ],
      "text/plain": [
       "[1.0, 4.0]"
      ]
     },
     "execution_count": 111,
     "metadata": {},
     "output_type": "execute_result"
    }
   ],
   "source": [
    "R_eigs"
   ]
  },
  {
   "cell_type": "markdown",
   "metadata": {},
   "source": [
    "R(0,1) $\\rightarrow$ Unstable (past time attractor) "
   ]
  },
  {
   "cell_type": "code",
   "execution_count": 128,
   "metadata": {},
   "outputs": [
    {
     "data": {
      "image/png": "[encoded data removed]",
      "text/latex": [
       "$$0.3333333333333333$$"
      ],
      "text/plain": [
       "0.3333333333333333"
      ]
     },
     "execution_count": 128,
     "metadata": {},
     "output_type": "execute_result"
    }
   ],
   "source": [
    "w_effective(1,0)"
   ]
  },
  {
   "cell_type": "markdown",
   "metadata": {},
   "source": [
    "### Eigenvalues for the critical point $\\Lambda(0,0)$"
   ]
  },
  {
   "cell_type": "code",
   "execution_count": 112,
   "metadata": {},
   "outputs": [
    {
     "data": {
      "image/png": "[encoded data removed]",
      "text/latex": [
       "$$\\left [ -4.0, \\quad -3.0\\right ]$$"
      ],
      "text/plain": [
       "[-4.0, -3.0]"
      ]
     },
     "execution_count": 112,
     "metadata": {},
     "output_type": "execute_result"
    }
   ],
   "source": [
    "L_eigs"
   ]
  },
  {
   "cell_type": "markdown",
   "metadata": {},
   "source": [
    "$\\Lambda$(0,0) $\\rightarrow$ Stable (attractor - future time attractor)"
   ]
  },
  {
   "cell_type": "code",
   "execution_count": 130,
   "metadata": {},
   "outputs": [
    {
     "data": {
      "image/png": "[encoded data removed]",
      "text/latex": [
       "$$-1.0$$"
      ],
      "text/plain": [
       "-1.0"
      ]
     },
     "execution_count": 130,
     "metadata": {},
     "output_type": "execute_result"
    }
   ],
   "source": [
    "w_effective(0,1)"
   ]
  },
  {
   "cell_type": "markdown",
   "metadata": {},
   "source": [
    "# Stability analysis for a universe with Barotropic fluid and Quintessence"
   ]
  },
  {
   "cell_type": "code",
   "execution_count": null,
   "metadata": {},
   "outputs": [],
   "source": []
  }
 ],
 "metadata": {
  "kernelspec": {
   "display_name": "Python 3",
   "language": "python",
   "name": "python3"
  },
  "language_info": {
   "codemirror_mode": {
    "name": "ipython",
    "version": 3
   },
   "file_extension": ".py",
   "mimetype": "text/x-python",
   "name": "python",
   "nbconvert_exporter": "python",
   "pygments_lexer": "ipython3",
   "version": "3.6.8"
  }
 },
 "nbformat": 4,
 "nbformat_minor": 2
}
