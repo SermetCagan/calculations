{
 "cells": [
  {
   "cell_type": "code",
   "execution_count": 2,
   "metadata": {},
   "outputs": [],
   "source": [
    "from scipy import *\n",
    "from sympy.physics.mechanics import dynamicsymbols, init_vprinting\n",
    "from sympy.physics.quantum import TensorProduct\n",
    "from gravipy import *\n",
    "init_vprinting()"
   ]
  },
  {
   "cell_type": "code",
   "execution_count": 3,
   "metadata": {},
   "outputs": [],
   "source": [
    "init_vprinting()"
   ]
  },
  {
   "cell_type": "code",
   "execution_count": 6,
   "metadata": {},
   "outputs": [],
   "source": [
    "t, r, theta, phi, k, c, m = symbols('t, r, \\\\theta, \\phi, k, c, m')\n",
    "x, y, z = symbols('x, y, z')"
   ]
  },
  {
   "cell_type": "code",
   "execution_count": 7,
   "metadata": {},
   "outputs": [],
   "source": [
    "a = Function('a')(t)\n",
    "b = Function('b')(t)"
   ]
  },
  {
   "cell_type": "code",
   "execution_count": 8,
   "metadata": {},
   "outputs": [],
   "source": [
    "Metric2 = diag(1, -a**2, -b**2, -b**2)"
   ]
  },
  {
   "cell_type": "code",
   "execution_count": 9,
   "metadata": {},
   "outputs": [],
   "source": [
    "Metric = diag(-(1-2*m/r),1/(1-2*m/r), r**2, r**2 * sin(theta)**2)"
   ]
  },
  {
   "cell_type": "code",
   "execution_count": 10,
   "metadata": {},
   "outputs": [
    {
     "data": {
      "image/png": "[encoded data removed]",
      "text/latex": [
       "$$\\left[\\begin{matrix}\\frac{2 m}{r} - 1 & 0 & 0 & 0\\\\0 & \\frac{1}{- \\frac{2 m}{r} + 1} & 0 & 0\\\\0 & 0 & r^{2} & 0\\\\0 & 0 & 0 & r^{2} \\operatorname{sin}^{2}\\left(\\theta\\right)\\end{matrix}\\right]$$"
      ],
      "text/plain": [
       "⎡2⋅m                                    ⎤\n",
       "⎢─── - 1      0      0          0       ⎥\n",
       "⎢ r                                     ⎥\n",
       "⎢                                       ⎥\n",
       "⎢             1                         ⎥\n",
       "⎢   0     ─────────  0          0       ⎥\n",
       "⎢           2⋅m                         ⎥\n",
       "⎢         - ─── + 1                     ⎥\n",
       "⎢            r                          ⎥\n",
       "⎢                                       ⎥\n",
       "⎢                     2                 ⎥\n",
       "⎢   0         0      r          0       ⎥\n",
       "⎢                                       ⎥\n",
       "⎢                         2    2        ⎥\n",
       "⎣   0         0      0   r ⋅sin (\\theta)⎦"
      ]
     },
     "execution_count": 10,
     "metadata": {},
     "output_type": "execute_result"
    }
   ],
   "source": [
    "Metric"
   ]
  },
  {
   "cell_type": "code",
   "execution_count": 11,
   "metadata": {},
   "outputs": [
    {
     "data": {
      "image/png": "[encoded data removed]",
      "text/latex": [
       "$$\\left[\\begin{matrix}1 & 0 & 0 & 0\\\\0 & - a^{2} & 0 & 0\\\\0 & 0 & - b^{2} & 0\\\\0 & 0 & 0 & - b^{2}\\end{matrix}\\right]$$"
      ],
      "text/plain": [
       "⎡1   0    0    0 ⎤\n",
       "⎢                ⎥\n",
       "⎢     2          ⎥\n",
       "⎢0  -a    0    0 ⎥\n",
       "⎢                ⎥\n",
       "⎢          2     ⎥\n",
       "⎢0   0   -b    0 ⎥\n",
       "⎢                ⎥\n",
       "⎢               2⎥\n",
       "⎣0   0    0   -b ⎦"
      ]
     },
     "execution_count": 11,
     "metadata": {},
     "output_type": "execute_result"
    }
   ],
   "source": [
    "Metric2"
   ]
  },
  {
   "cell_type": "code",
   "execution_count": 13,
   "metadata": {},
   "outputs": [],
   "source": [
    "x2 = Coordinates('\\chi',[t,x,y,z])"
   ]
  },
  {
   "cell_type": "code",
   "execution_count": 14,
   "metadata": {},
   "outputs": [],
   "source": [
    "x = Coordinates('\\chi', [t, r, theta, phi])"
   ]
  },
  {
   "cell_type": "code",
   "execution_count": 15,
   "metadata": {},
   "outputs": [],
   "source": [
    "g = MetricTensor('g', x, Metric)"
   ]
  },
  {
   "cell_type": "code",
   "execution_count": 16,
   "metadata": {},
   "outputs": [],
   "source": [
    "g2 = MetricTensor('g', x2, Metric2)"
   ]
  },
  {
   "cell_type": "code",
   "execution_count": 17,
   "metadata": {},
   "outputs": [],
   "source": [
    "Ga2 = Christoffel('Ga',g2)"
   ]
  },
  {
   "cell_type": "code",
   "execution_count": 19,
   "metadata": {},
   "outputs": [
    {
     "data": {
      "image/png": "[encoded data removed]",
      "text/latex": [
       "$$\\left[\\begin{matrix}\\left[\\begin{matrix}0 & 0 & 0 & 0\\\\0 & 0 & 0 & 0\\\\0 & 0 & 0 & 0\\\\0 & 0 & 0 & 0\\end{matrix}\\right] & \\left[\\begin{matrix}0 & 0 & 0 & 0\\\\a \\dot{a} & a \\dot{a} & a \\dot{a} & a \\dot{a}\\\\0 & 0 & 0 & 0\\\\0 & 0 & 0 & 0\\end{matrix}\\right] & \\left[\\begin{matrix}0 & 0 & 0 & 0\\\\0 & 0 & 0 & 0\\\\b \\dot{b} & b \\dot{b} & b \\dot{b} & b \\dot{b}\\\\0 & 0 & 0 & 0\\end{matrix}\\right] & \\left[\\begin{matrix}0 & 0 & 0 & 0\\\\0 & 0 & 0 & 0\\\\0 & 0 & 0 & 0\\\\b \\dot{b} & b \\dot{b} & b \\dot{b} & b \\dot{b}\\end{matrix}\\right]\\\\\\left[\\begin{matrix}0 & 0 & 0 & 0\\\\- a \\dot{a} & - a \\dot{a} & - a \\dot{a} & - a \\dot{a}\\\\0 & 0 & 0 & 0\\\\0 & 0 & 0 & 0\\end{matrix}\\right] & \\left[\\begin{matrix}- a \\dot{a} & - a \\dot{a} & - a \\dot{a} & - a \\dot{a}\\\\0 & 0 & 0 & 0\\\\0 & 0 & 0 & 0\\\\0 & 0 & 0 & 0\\end{matrix}\\right] & \\left[\\begin{matrix}0 & 0 & 0 & 0\\\\0 & 0 & 0 & 0\\\\0 & 0 & 0 & 0\\\\0 & 0 & 0 & 0\\end{matrix}\\right] & \\left[\\begin{matrix}0 & 0 & 0 & 0\\\\0 & 0 & 0 & 0\\\\0 & 0 & 0 & 0\\\\0 & 0 & 0 & 0\\end{matrix}\\right]\\\\\\left[\\begin{matrix}0 & 0 & 0 & 0\\\\0 & 0 & 0 & 0\\\\- b \\dot{b} & - b \\dot{b} & - b \\dot{b} & - b \\dot{b}\\\\0 & 0 & 0 & 0\\end{matrix}\\right] & \\left[\\begin{matrix}0 & 0 & 0 & 0\\\\0 & 0 & 0 & 0\\\\0 & 0 & 0 & 0\\\\0 & 0 & 0 & 0\\end{matrix}\\right] & \\left[\\begin{matrix}- b \\dot{b} & - b \\dot{b} & - b \\dot{b} & - b \\dot{b}\\\\0 & 0 & 0 & 0\\\\0 & 0 & 0 & 0\\\\0 & 0 & 0 & 0\\end{matrix}\\right] & \\left[\\begin{matrix}0 & 0 & 0 & 0\\\\0 & 0 & 0 & 0\\\\0 & 0 & 0 & 0\\\\0 & 0 & 0 & 0\\end{matrix}\\right]\\\\\\left[\\begin{matrix}0 & 0 & 0 & 0\\\\0 & 0 & 0 & 0\\\\0 & 0 & 0 & 0\\\\- b \\dot{b} & - b \\dot{b} & - b \\dot{b} & - b \\dot{b}\\end{matrix}\\right] & \\left[\\begin{matrix}0 & 0 & 0 & 0\\\\0 & 0 & 0 & 0\\\\0 & 0 & 0 & 0\\\\0 & 0 & 0 & 0\\end{matrix}\\right] & \\left[\\begin{matrix}0 & 0 & 0 & 0\\\\0 & 0 & 0 & 0\\\\0 & 0 & 0 & 0\\\\0 & 0 & 0 & 0\\end{matrix}\\right] & \\left[\\begin{matrix}- b \\dot{b} & - b \\dot{b} & - b \\dot{b} & - b \\dot{b}\\\\0 & 0 & 0 & 0\\\\0 & 0 & 0 & 0\\\\0 & 0 & 0 & 0\\end{matrix}\\right]\\end{matrix}\\right]$$"
      ],
      "text/plain": [
       "⎡        ⎡0  0  0  0⎤            ⎡ 0     0     0     0  ⎤      ⎡ 0     0     0\n",
       "⎢        ⎢          ⎥            ⎢                      ⎥      ⎢              \n",
       "⎢        ⎢0  0  0  0⎥            ⎢a⋅ȧ  a⋅ȧ  a⋅ȧ  a⋅ȧ⎥      ⎢ 0     0     0\n",
       "⎢        ⎢          ⎥            ⎢                      ⎥      ⎢              \n",
       "⎢        ⎢0  0  0  0⎥            ⎢ 0     0     0     0  ⎥      ⎢b⋅ḃ  b⋅ḃ  b⋅\n",
       "⎢        ⎢          ⎥            ⎢                      ⎥      ⎢              \n",
       "⎢        ⎣0  0  0  0⎦            ⎣ 0     0     0     0  ⎦      ⎣ 0     0     0\n",
       "⎢                                                                             \n",
       "⎢⎡  0      0      0      0  ⎤  ⎡-a⋅ȧ  -a⋅ȧ  -a⋅ȧ  -a⋅ȧ⎤          ⎡0  0  0 \n",
       "⎢⎢                          ⎥  ⎢                          ⎥          ⎢        \n",
       "⎢⎢-a⋅ȧ  -a⋅ȧ  -a⋅ȧ  -a⋅ȧ⎥  ⎢  0      0      0      0  ⎥          ⎢0  0  0 \n",
       "⎢⎢                          ⎥  ⎢                          ⎥          ⎢        \n",
       "⎢⎢  0      0      0      0  ⎥  ⎢  0      0      0      0  ⎥          ⎢0  0  0 \n",
       "⎢⎢                          ⎥  ⎢                          ⎥          ⎢        \n",
       "⎢⎣  0      0      0      0  ⎦  ⎣  0      0      0      0  ⎦          ⎣0  0  0 \n",
       "⎢                                                                             \n",
       "⎢⎡  0      0      0      0  ⎤          ⎡0  0  0  0⎤          ⎡-b⋅ḃ  -b⋅ḃ  -b\n",
       "⎢⎢                          ⎥          ⎢          ⎥          ⎢                \n",
       "⎢⎢  0      0      0      0  ⎥          ⎢0  0  0  0⎥          ⎢  0      0      \n",
       "⎢⎢                          ⎥          ⎢          ⎥          ⎢                \n",
       "⎢⎢-b⋅ḃ  -b⋅ḃ  -b⋅ḃ  -b⋅ḃ⎥          ⎢0  0  0  0⎥          ⎢  0      0      \n",
       "⎢⎢                          ⎥          ⎢          ⎥          ⎢                \n",
       "⎢⎣  0      0      0      0  ⎦          ⎣0  0  0  0⎦          ⎣  0      0      \n",
       "⎢                                                                             \n",
       "⎢⎡  0      0      0      0  ⎤          ⎡0  0  0  0⎤                  ⎡0  0  0 \n",
       "⎢⎢                          ⎥          ⎢          ⎥                  ⎢        \n",
       "⎢⎢  0      0      0      0  ⎥          ⎢0  0  0  0⎥                  ⎢0  0  0 \n",
       "⎢⎢                          ⎥          ⎢          ⎥                  ⎢        \n",
       "⎢⎢  0      0      0      0  ⎥          ⎢0  0  0  0⎥                  ⎢0  0  0 \n",
       "⎢⎢                          ⎥          ⎢          ⎥                  ⎢        \n",
       "⎣⎣-b⋅ḃ  -b⋅ḃ  -b⋅ḃ  -b⋅ḃ⎦          ⎣0  0  0  0⎦                  ⎣0  0  0 \n",
       "\n",
       "     0  ⎤      ⎡ 0     0     0     0  ⎤  ⎤\n",
       "        ⎥      ⎢                      ⎥  ⎥\n",
       "     0  ⎥      ⎢ 0     0     0     0  ⎥  ⎥\n",
       "        ⎥      ⎢                      ⎥  ⎥\n",
       "ḃ  b⋅ḃ⎥      ⎢ 0     0     0     0  ⎥  ⎥\n",
       "        ⎥      ⎢                      ⎥  ⎥\n",
       "     0  ⎦      ⎣b⋅ḃ  b⋅ḃ  b⋅ḃ  b⋅ḃ⎦  ⎥\n",
       "                                         ⎥\n",
       " 0⎤                  ⎡0  0  0  0⎤        ⎥\n",
       "  ⎥                  ⎢          ⎥        ⎥\n",
       " 0⎥                  ⎢0  0  0  0⎥        ⎥\n",
       "  ⎥                  ⎢          ⎥        ⎥\n",
       " 0⎥                  ⎢0  0  0  0⎥        ⎥\n",
       "  ⎥                  ⎢          ⎥        ⎥\n",
       " 0⎦                  ⎣0  0  0  0⎦        ⎥\n",
       "                                         ⎥\n",
       "⋅ḃ  -b⋅ḃ⎤          ⎡0  0  0  0⎤        ⎥\n",
       "          ⎥          ⎢          ⎥        ⎥\n",
       "0      0  ⎥          ⎢0  0  0  0⎥        ⎥\n",
       "          ⎥          ⎢          ⎥        ⎥\n",
       "0      0  ⎥          ⎢0  0  0  0⎥        ⎥\n",
       "          ⎥          ⎢          ⎥        ⎥\n",
       "0      0  ⎦          ⎣0  0  0  0⎦        ⎥\n",
       "                                         ⎥\n",
       " 0⎤          ⎡-b⋅ḃ  -b⋅ḃ  -b⋅ḃ  -b⋅ḃ⎤⎥\n",
       "  ⎥          ⎢                          ⎥⎥\n",
       " 0⎥          ⎢  0      0      0      0  ⎥⎥\n",
       "  ⎥          ⎢                          ⎥⎥\n",
       " 0⎥          ⎢  0      0      0      0  ⎥⎥\n",
       "  ⎥          ⎢                          ⎥⎥\n",
       " 0⎦          ⎣  0      0      0      0  ⎦⎦"
      ]
     },
     "execution_count": 19,
     "metadata": {},
     "output_type": "execute_result"
    }
   ],
   "source": [
    "Ga2(All,All,All)"
   ]
  },
  {
   "cell_type": "code",
   "execution_count": 23,
   "metadata": {},
   "outputs": [
    {
     "data": {
      "image/png": "[encoded data removed]",
      "text/latex": [
       "$$b \\dot{b}$$"
      ],
      "text/plain": [
       "b⋅ḃ"
      ]
     },
     "execution_count": 23,
     "metadata": {},
     "output_type": "execute_result"
    }
   ],
   "source": [
    "Ga2(1,3,3)"
   ]
  },
  {
   "cell_type": "code",
   "execution_count": 24,
   "metadata": {},
   "outputs": [],
   "source": [
    "Ri = Ricci('Ri', g2)"
   ]
  },
  {
   "cell_type": "code",
   "execution_count": 25,
   "metadata": {},
   "outputs": [
    {
     "data": {
      "image/png": "[encoded data removed]",
      "text/latex": [
       "$$\\left[\\begin{matrix}- \\frac{2 \\ddot{b}}{b} - \\frac{\\ddot{a}}{a} & 0 & 0 & 0\\\\0 & \\frac{a}{b} \\left(b \\ddot{a} + 2 \\dot{a} \\dot{b}\\right) & 0 & 0\\\\0 & 0 & b \\ddot{b} + \\dot{b}^{2} + \\frac{\\dot{a} \\dot{b}}{a} b & 0\\\\0 & 0 & 0 & b \\ddot{b} + \\dot{b}^{2} + \\frac{\\dot{a} \\dot{b}}{a} b\\end{matrix}\\right]$$"
      ],
      "text/plain": [
       "⎡  2⋅b̈   ä                                                                ⎤\n",
       "⎢- ──── - ──          0                    0                     0          ⎥\n",
       "⎢   b     a                                                                 ⎥\n",
       "⎢                                                                           ⎥\n",
       "⎢             (b⋅ä + 2⋅ȧ⋅ḃ)⋅a                                            ⎥\n",
       "⎢     0       ──────────────────           0                     0          ⎥\n",
       "⎢                     b                                                     ⎥\n",
       "⎢                                                                           ⎥\n",
       "⎢                                          2   b⋅ȧ⋅ḃ                      ⎥\n",
       "⎢     0               0           b⋅b̈ + ḃ  + ───────           0          ⎥\n",
       "⎢                                                 a                         ⎥\n",
       "⎢                                                                           ⎥\n",
       "⎢                                                                2   b⋅ȧ⋅ḃ⎥\n",
       "⎢     0               0                    0            b⋅b̈ + ḃ  + ───────⎥\n",
       "⎣                                                                       a   ⎦"
      ]
     },
     "execution_count": 25,
     "metadata": {},
     "output_type": "execute_result"
    }
   ],
   "source": [
    "Ri(All,All)"
   ]
  },
  {
   "cell_type": "code",
   "execution_count": 27,
   "metadata": {},
   "outputs": [
    {
     "data": {
      "image/png": "[encoded data removed]",
      "text/latex": [
       "$$- \\frac{4 \\ddot{b}}{b} - \\frac{2 \\dot{b}^{2}}{b^{2}} - \\frac{2 \\ddot{a}}{a} - \\frac{4 \\dot{a} \\dot{b}}{a b}$$"
      ],
      "text/plain": [
       "             2                 \n",
       "  4⋅b̈   2⋅ḃ    2⋅ä   4⋅ȧ⋅ḃ\n",
       "- ──── - ───── - ──── - ───────\n",
       "   b        2     a       a⋅b  \n",
       "           b                   "
      ]
     },
     "execution_count": 27,
     "metadata": {},
     "output_type": "execute_result"
    }
   ],
   "source": [
    "Ri.scalar()"
   ]
  },
  {
   "cell_type": "code",
   "execution_count": 10,
   "metadata": {},
   "outputs": [],
   "source": [
    "Ga = Christoffel('Ga', g)"
   ]
  },
  {
   "cell_type": "code",
   "execution_count": 11,
   "metadata": {
    "scrolled": false
   },
   "outputs": [
    {
     "data": {
      "image/png": "[encoded data removed]",
      "text/latex": [
       "$$\\left[\\begin{matrix}\\left[\\begin{matrix}0 & 0 & 0 & 0\\\\- \\frac{m}{r^{2}} & - \\frac{m}{r^{2}} & - \\frac{m}{r^{2}} & - \\frac{m}{r^{2}}\\\\0 & 0 & 0 & 0\\\\0 & 0 & 0 & 0\\end{matrix}\\right] & \\left[\\begin{matrix}- \\frac{m}{r^{2}} & - \\frac{m}{r^{2}} & - \\frac{m}{r^{2}} & - \\frac{m}{r^{2}}\\\\0 & 0 & 0 & 0\\\\0 & 0 & 0 & 0\\\\0 & 0 & 0 & 0\\end{matrix}\\right] & \\left[\\begin{matrix}0 & 0 & 0 & 0\\\\0 & 0 & 0 & 0\\\\0 & 0 & 0 & 0\\\\0 & 0 & 0 & 0\\end{matrix}\\right] & \\left[\\begin{matrix}0 & 0 & 0 & 0\\\\0 & 0 & 0 & 0\\\\0 & 0 & 0 & 0\\\\0 & 0 & 0 & 0\\end{matrix}\\right]\\\\\\left[\\begin{matrix}\\frac{m}{r^{2}} & \\frac{m}{r^{2}} & \\frac{m}{r^{2}} & \\frac{m}{r^{2}}\\\\0 & 0 & 0 & 0\\\\0 & 0 & 0 & 0\\\\0 & 0 & 0 & 0\\end{matrix}\\right] & \\left[\\begin{matrix}0 & 0 & 0 & 0\\\\- \\frac{m}{\\left(2 m - r\\right)^{2}} & - \\frac{m}{\\left(2 m - r\\right)^{2}} & - \\frac{m}{\\left(2 m - r\\right)^{2}} & - \\frac{m}{\\left(2 m - r\\right)^{2}}\\\\0 & 0 & 0 & 0\\\\0 & 0 & 0 & 0\\end{matrix}\\right] & \\left[\\begin{matrix}0 & 0 & 0 & 0\\\\0 & 0 & 0 & 0\\\\- r & - r & - r & - r\\\\0 & 0 & 0 & 0\\end{matrix}\\right] & \\left[\\begin{matrix}0 & 0 & 0 & 0\\\\0 & 0 & 0 & 0\\\\0 & 0 & 0 & 0\\\\- r \\operatorname{sin}^{2}\\left(\\theta\\right) & - r \\operatorname{sin}^{2}\\left(\\theta\\right) & - r \\operatorname{sin}^{2}\\left(\\theta\\right) & - r \\operatorname{sin}^{2}\\left(\\theta\\right)\\end{matrix}\\right]\\\\\\left[\\begin{matrix}0 & 0 & 0 & 0\\\\0 & 0 & 0 & 0\\\\0 & 0 & 0 & 0\\\\0 & 0 & 0 & 0\\end{matrix}\\right] & \\left[\\begin{matrix}0 & 0 & 0 & 0\\\\0 & 0 & 0 & 0\\\\r & r & r & r\\\\0 & 0 & 0 & 0\\end{matrix}\\right] & \\left[\\begin{matrix}0 & 0 & 0 & 0\\\\r & r & r & r\\\\0 & 0 & 0 & 0\\\\0 & 0 & 0 & 0\\end{matrix}\\right] & \\left[\\begin{matrix}0 & 0 & 0 & 0\\\\0 & 0 & 0 & 0\\\\0 & 0 & 0 & 0\\\\- \\frac{r^{2}}{2} \\operatorname{sin}\\left(2 \\theta\\right) & - \\frac{r^{2}}{2} \\operatorname{sin}\\left(2 \\theta\\right) & - \\frac{r^{2}}{2} \\operatorname{sin}\\left(2 \\theta\\right) & - \\frac{r^{2}}{2} \\operatorname{sin}\\left(2 \\theta\\right)\\end{matrix}\\right]\\\\\\left[\\begin{matrix}0 & 0 & 0 & 0\\\\0 & 0 & 0 & 0\\\\0 & 0 & 0 & 0\\\\0 & 0 & 0 & 0\\end{matrix}\\right] & \\left[\\begin{matrix}0 & 0 & 0 & 0\\\\0 & 0 & 0 & 0\\\\0 & 0 & 0 & 0\\\\r \\operatorname{sin}^{2}\\left(\\theta\\right) & r \\operatorname{sin}^{2}\\left(\\theta\\right) & r \\operatorname{sin}^{2}\\left(\\theta\\right) & r \\operatorname{sin}^{2}\\left(\\theta\\right)\\end{matrix}\\right] & \\left[\\begin{matrix}0 & 0 & 0 & 0\\\\0 & 0 & 0 & 0\\\\0 & 0 & 0 & 0\\\\\\frac{r^{2}}{2} \\operatorname{sin}\\left(2 \\theta\\right) & \\frac{r^{2}}{2} \\operatorname{sin}\\left(2 \\theta\\right) & \\frac{r^{2}}{2} \\operatorname{sin}\\left(2 \\theta\\right) & \\frac{r^{2}}{2} \\operatorname{sin}\\left(2 \\theta\\right)\\end{matrix}\\right] & \\left[\\begin{matrix}0 & 0 & 0 & 0\\\\r \\operatorname{sin}^{2}\\left(\\theta\\right) & r \\operatorname{sin}^{2}\\left(\\theta\\right) & r \\operatorname{sin}^{2}\\left(\\theta\\right) & r \\operatorname{sin}^{2}\\left(\\theta\\right)\\\\\\frac{r^{2}}{2} \\operatorname{sin}\\left(2 \\theta\\right) & \\frac{r^{2}}{2} \\operatorname{sin}\\left(2 \\theta\\right) & \\frac{r^{2}}{2} \\operatorname{sin}\\left(2 \\theta\\right) & \\frac{r^{2}}{2} \\operatorname{sin}\\left(2 \\theta\\right)\\\\0 & 0 & 0 & 0\\end{matrix}\\right]\\end{matrix}\\right]$$"
      ],
      "text/plain": [
       "⎡⎡ 0    0    0    0 ⎤                        ⎡-m   -m   -m   -m ⎤             \n",
       "⎢⎢                  ⎥                        ⎢───  ───  ───  ───⎥             \n",
       "⎢⎢-m   -m   -m   -m ⎥                        ⎢  2    2    2    2⎥             \n",
       "⎢⎢───  ───  ───  ───⎥                        ⎢ r    r    r    r ⎥             \n",
       "⎢⎢  2    2    2    2⎥                        ⎢                  ⎥             \n",
       "⎢⎢ r    r    r    r ⎥                        ⎢ 0    0    0    0 ⎥             \n",
       "⎢⎢                  ⎥                        ⎢                  ⎥             \n",
       "⎢⎢ 0    0    0    0 ⎥                        ⎢ 0    0    0    0 ⎥             \n",
       "⎢⎢                  ⎥                        ⎢                  ⎥             \n",
       "⎢⎣ 0    0    0    0 ⎦                        ⎣ 0    0    0    0 ⎦             \n",
       "⎢                                                                             \n",
       "⎢  ⎡m   m   m   m ⎤            ⎡    0           0           0           0     \n",
       "⎢  ⎢──  ──  ──  ──⎥            ⎢                                              \n",
       "⎢  ⎢ 2   2   2   2⎥            ⎢   -m          -m          -m          -m     \n",
       "⎢  ⎢r   r   r   r ⎥            ⎢──────────  ──────────  ──────────  ──────────\n",
       "⎢  ⎢              ⎥            ⎢         2           2           2           2\n",
       "⎢  ⎢0   0   0   0 ⎥            ⎢(2⋅m - r)   (2⋅m - r)   (2⋅m - r)   (2⋅m - r) \n",
       "⎢  ⎢              ⎥            ⎢                                              \n",
       "⎢  ⎢0   0   0   0 ⎥            ⎢    0           0           0           0     \n",
       "⎢  ⎢              ⎥            ⎢                                              \n",
       "⎢  ⎣0   0   0   0 ⎦            ⎣    0           0           0           0     \n",
       "⎢                                                                             \n",
       "⎢                                                                             \n",
       "⎢                                                                             \n",
       "⎢    ⎡0  0  0  0⎤                                ⎡0  0  0  0⎤                 \n",
       "⎢    ⎢          ⎥                                ⎢          ⎥                 \n",
       "⎢    ⎢0  0  0  0⎥                                ⎢0  0  0  0⎥                 \n",
       "⎢    ⎢          ⎥                                ⎢          ⎥                 \n",
       "⎢    ⎢0  0  0  0⎥                                ⎢r  r  r  r⎥                 \n",
       "⎢    ⎢          ⎥                                ⎢          ⎥                 \n",
       "⎢    ⎣0  0  0  0⎦                                ⎣0  0  0  0⎦                 \n",
       "⎢                                                                             \n",
       "⎢                                                                             \n",
       "⎢                                                                             \n",
       "⎢                      ⎡      0               0               0               \n",
       "⎢    ⎡0  0  0  0⎤      ⎢                                                      \n",
       "⎢    ⎢          ⎥      ⎢      0               0               0               \n",
       "⎢    ⎢0  0  0  0⎥      ⎢                                                      \n",
       "⎢    ⎢          ⎥      ⎢      0               0               0               \n",
       "⎢    ⎢0  0  0  0⎥      ⎢                                                      \n",
       "⎢    ⎢          ⎥      ⎢     2               2               2               2\n",
       "⎢    ⎣0  0  0  0⎦      ⎣r⋅sin (\\theta)  r⋅sin (\\theta)  r⋅sin (\\theta)  r⋅sin \n",
       "⎢                                                                             \n",
       "⎣                                                                             \n",
       "\n",
       "                                                                              \n",
       "                                                                              \n",
       "                                         ⎡0  0  0  0⎤                         \n",
       "                                         ⎢          ⎥                         \n",
       "                                         ⎢0  0  0  0⎥                         \n",
       "                                         ⎢          ⎥                         \n",
       "                                         ⎢0  0  0  0⎥                         \n",
       "                                         ⎢          ⎥                         \n",
       "                                         ⎣0  0  0  0⎦                         \n",
       "                                                                              \n",
       "                                                                              \n",
       "⎤                                                                             \n",
       "⎥                                                                             \n",
       "⎥                                      ⎡0   0   0   0 ⎤                       \n",
       "⎥                                      ⎢              ⎥                       \n",
       "⎥                                      ⎢0   0   0   0 ⎥                       \n",
       "⎥                                      ⎢              ⎥                       \n",
       "⎥                                      ⎢-r  -r  -r  -r⎥                       \n",
       "⎥                                      ⎢              ⎥                       \n",
       "⎥                                      ⎣0   0   0   0 ⎦                       \n",
       "⎦                                                                             \n",
       "                                                                              \n",
       "                                                                              \n",
       "                                                                              \n",
       "                                         ⎡0  0  0  0⎤                         \n",
       "                                         ⎢          ⎥                         \n",
       "                                         ⎢r  r  r  r⎥                         \n",
       "                                         ⎢          ⎥                         \n",
       "                                         ⎢0  0  0  0⎥                         \n",
       "                                         ⎢          ⎥                         \n",
       "                                         ⎣0  0  0  0⎦                         \n",
       "                                                                              \n",
       "                                                                              \n",
       "           ⎡       0                 0                 0                 0    \n",
       "0       ⎤  ⎢                                                                  \n",
       "        ⎥  ⎢       0                 0                 0                 0    \n",
       "0       ⎥  ⎢                                                                  \n",
       "        ⎥  ⎢       0                 0                 0                 0    \n",
       "0       ⎥  ⎢                                                                  \n",
       "        ⎥  ⎢ 2                 2                 2                 2          \n",
       "        ⎥  ⎢r ⋅sin(2⋅\\theta)  r ⋅sin(2⋅\\theta)  r ⋅sin(2⋅\\theta)  r ⋅sin(2⋅\\th\n",
       "(\\theta)⎦  ⎢────────────────  ────────────────  ────────────────  ────────────\n",
       "           ⎣       2                 2                 2                 2    \n",
       "                                                                              \n",
       "\n",
       "                                                                              \n",
       "                                                                              \n",
       "                                         ⎡0  0  0  0⎤                         \n",
       "                                         ⎢          ⎥                         \n",
       "                                         ⎢0  0  0  0⎥                         \n",
       "                                         ⎢          ⎥                         \n",
       "                                         ⎢0  0  0  0⎥                         \n",
       "                                         ⎢          ⎥                         \n",
       "                                         ⎣0  0  0  0⎦                         \n",
       "                                                                              \n",
       "                                                                              \n",
       "                                                                              \n",
       "             ⎡       0                0                0                0     \n",
       "             ⎢                                                                \n",
       "             ⎢       0                0                0                0     \n",
       "             ⎢                                                                \n",
       "             ⎢       0                0                0                0     \n",
       "             ⎢                                                                \n",
       "             ⎢      2                2                2                2      \n",
       "             ⎣-r⋅sin (\\theta)  -r⋅sin (\\theta)  -r⋅sin (\\theta)  -r⋅sin (\\thet\n",
       "                                                                              \n",
       "                                                                              \n",
       "       ⎡        0                   0                   0                   0 \n",
       "       ⎢                                                                      \n",
       "       ⎢        0                   0                   0                   0 \n",
       "       ⎢                                                                      \n",
       "       ⎢        0                   0                   0                   0 \n",
       "       ⎢                                                                      \n",
       "       ⎢  2                   2                   2                   2       \n",
       "       ⎢-r ⋅sin(2⋅\\theta)   -r ⋅sin(2⋅\\theta)   -r ⋅sin(2⋅\\theta)   -r ⋅sin(2⋅\n",
       "       ⎢──────────────────  ──────────────────  ──────────────────  ──────────\n",
       "       ⎣        2                   2                   2                   2 \n",
       "                                                                              \n",
       "    ⎤      ⎡       0                 0                 0                 0    \n",
       "    ⎥      ⎢                                                                  \n",
       "    ⎥      ⎢      2                 2                 2                 2     \n",
       "    ⎥      ⎢ r⋅sin (\\theta)    r⋅sin (\\theta)    r⋅sin (\\theta)    r⋅sin (\\the\n",
       "    ⎥      ⎢                                                                  \n",
       "    ⎥      ⎢ 2                 2                 2                 2          \n",
       "    ⎥      ⎢r ⋅sin(2⋅\\theta)  r ⋅sin(2⋅\\theta)  r ⋅sin(2⋅\\theta)  r ⋅sin(2⋅\\th\n",
       "eta)⎥      ⎢────────────────  ────────────────  ────────────────  ────────────\n",
       "────⎥      ⎢       2                 2                 2                 2    \n",
       "    ⎦      ⎢                                                                  \n",
       "           ⎣       0                 0                 0                 0    \n",
       "\n",
       "         ⎤\n",
       "         ⎥\n",
       "         ⎥\n",
       "         ⎥\n",
       "         ⎥\n",
       "         ⎥\n",
       "         ⎥\n",
       "         ⎥\n",
       "         ⎥\n",
       "         ⎥\n",
       "         ⎥\n",
       "         ⎥\n",
       "  ⎤      ⎥\n",
       "  ⎥      ⎥\n",
       "  ⎥      ⎥\n",
       "  ⎥      ⎥\n",
       "  ⎥      ⎥\n",
       "  ⎥      ⎥\n",
       "  ⎥      ⎥\n",
       "a)⎦      ⎥\n",
       "         ⎥\n",
       "         ⎥\n",
       "        ⎤⎥\n",
       "        ⎥⎥\n",
       "        ⎥⎥\n",
       "        ⎥⎥\n",
       "        ⎥⎥\n",
       "        ⎥⎥\n",
       "        ⎥⎥\n",
       "\\theta) ⎥⎥\n",
       "────────⎥⎥\n",
       "        ⎦⎥\n",
       "         ⎥\n",
       "    ⎤    ⎥\n",
       "    ⎥    ⎥\n",
       "    ⎥    ⎥\n",
       "ta) ⎥    ⎥\n",
       "    ⎥    ⎥\n",
       "    ⎥    ⎥\n",
       "eta)⎥    ⎥\n",
       "────⎥    ⎥\n",
       "    ⎥    ⎥\n",
       "    ⎥    ⎥\n",
       "    ⎦    ⎦"
      ]
     },
     "execution_count": 11,
     "metadata": {},
     "output_type": "execute_result"
    }
   ],
   "source": [
    "Ga(All,All,All)"
   ]
  },
  {
   "cell_type": "code",
   "execution_count": 12,
   "metadata": {},
   "outputs": [],
   "source": [
    "Ri = Ricci('Ri',g)"
   ]
  },
  {
   "cell_type": "code",
   "execution_count": 13,
   "metadata": {},
   "outputs": [
    {
     "data": {
      "image/png": "[encoded data removed]",
      "text/latex": [
       "$$\\left[\\begin{matrix}0 & 0 & 0 & 0\\\\0 & 0 & 0 & 0\\\\0 & 0 & 0 & 0\\\\0 & 0 & 0 & 0\\end{matrix}\\right]$$"
      ],
      "text/plain": [
       "⎡0  0  0  0⎤\n",
       "⎢          ⎥\n",
       "⎢0  0  0  0⎥\n",
       "⎢          ⎥\n",
       "⎢0  0  0  0⎥\n",
       "⎢          ⎥\n",
       "⎣0  0  0  0⎦"
      ]
     },
     "execution_count": 13,
     "metadata": {},
     "output_type": "execute_result"
    }
   ],
   "source": [
    "Ri(All,All)"
   ]
  },
  {
   "cell_type": "code",
   "execution_count": 14,
   "metadata": {
    "scrolled": true
   },
   "outputs": [
    {
     "data": {
      "image/png": "[encoded data removed]",
      "text/latex": [
       "$$0$$"
      ],
      "text/plain": [
       "0"
      ]
     },
     "execution_count": 14,
     "metadata": {},
     "output_type": "execute_result"
    }
   ],
   "source": [
    "Ri.scalar()"
   ]
  },
  {
   "cell_type": "code",
   "execution_count": 15,
   "metadata": {},
   "outputs": [],
   "source": [
    "G = Einstein('G',Ri)"
   ]
  },
  {
   "cell_type": "code",
   "execution_count": 16,
   "metadata": {},
   "outputs": [
    {
     "data": {
      "image/png": "[encoded data removed]",
      "text/latex": [
       "$$\\left[\\begin{matrix}0 & 0 & 0 & 0\\\\0 & 0 & 0 & 0\\\\0 & 0 & 0 & 0\\\\0 & 0 & 0 & 0\\end{matrix}\\right]$$"
      ],
      "text/plain": [
       "⎡0  0  0  0⎤\n",
       "⎢          ⎥\n",
       "⎢0  0  0  0⎥\n",
       "⎢          ⎥\n",
       "⎢0  0  0  0⎥\n",
       "⎢          ⎥\n",
       "⎣0  0  0  0⎦"
      ]
     },
     "execution_count": 16,
     "metadata": {},
     "output_type": "execute_result"
    }
   ],
   "source": [
    "G(All,All)"
   ]
  },
  {
   "cell_type": "code",
   "execution_count": 18,
   "metadata": {},
   "outputs": [
    {
     "data": {
      "image/png": "[encoded data removed]",
      "text/latex": [
       "$$\\frac{m}{r^{2}}$$"
      ],
      "text/plain": [
       "m \n",
       "──\n",
       " 2\n",
       "r "
      ]
     },
     "execution_count": 18,
     "metadata": {},
     "output_type": "execute_result"
    }
   ],
   "source": [
    "Ga(2,1,1)"
   ]
  },
  {
   "cell_type": "code",
   "execution_count": null,
   "metadata": {},
   "outputs": [],
   "source": []
  }
 ],
 "metadata": {
  "kernelspec": {
   "display_name": "Python 3",
   "language": "python",
   "name": "python3"
  },
  "language_info": {
   "codemirror_mode": {
    "name": "ipython",
    "version": 3
   },
   "file_extension": ".py",
   "mimetype": "text/x-python",
   "name": "python",
   "nbconvert_exporter": "python",
   "pygments_lexer": "ipython3",
   "version": "3.6.4"
  }
 },
 "nbformat": 4,
 "nbformat_minor": 2
}
